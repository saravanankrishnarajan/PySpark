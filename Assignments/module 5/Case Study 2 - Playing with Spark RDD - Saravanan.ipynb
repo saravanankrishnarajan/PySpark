{
 "cells": [
  {
   "cell_type": "markdown",
   "id": "a32ced44",
   "metadata": {},
   "source": [
    "### Case Study: Log Parsing\n",
    "### Domain: Telecom"
   ]
  },
  {
   "cell_type": "code",
   "execution_count": null,
   "id": "15010c17",
   "metadata": {},
   "outputs": [],
   "source": [
    "A telecom software provider is building an application to monitor different telecom \n",
    "components in the production environment. For monitoring purpose, the application \n",
    "relies on log files by parsing the log files and looking for potential warning or \n",
    "exceptions in the logs and reporting them.\n",
    "\n",
    "The Dataset contains the log files from different components used in the overall \n",
    "telecom application.\n",
    "\n",
    "Tasks:\n",
    "The volume of data is quite large. As part of the R&D team, you are building a solution \n",
    "on spark to load and parse the multiple log files and then arranging the error and \n",
    "warning by the timestamp.\n",
    "\n",
    "1. Load file as a text file in spark\n",
    "2. Find out how many 404 HTTP codes are in access logs.\n",
    "3. Find out which URLs are broken.\n",
    "4. Verify there are no null columns in the original dataset.\n",
    "5. Replace null values with constants such as 0\n",
    "6. Parse timestamp to readable date.\n",
    "7. Describe which HTTP status values appear in data and how many.\n",
    "8. Display as chart the above stat in chart in Zeppelin notebook\n",
    "9. How many unique hosts are there in the entire log and their average request\n",
    "10.Create a spark-submit application for the same and print the findings in the log"
   ]
  },
  {
   "cell_type": "code",
   "execution_count": 2,
   "id": "c4c5a771",
   "metadata": {},
   "outputs": [],
   "source": [
    "import findspark\n",
    "findspark.init()\n",
    "\n",
    "import pyspark \n",
    "from pyspark.sql import SparkSession\n",
    "\n",
    "spark = SparkSession.builder.appName(\"Apple\").getOrCreate()"
   ]
  },
  {
   "cell_type": "code",
   "execution_count": 3,
   "id": "a6eadf1c",
   "metadata": {},
   "outputs": [],
   "source": [
    "import warnings\n",
    "warnings.filterwarnings('ignore')"
   ]
  },
  {
   "cell_type": "code",
   "execution_count": null,
   "id": "b3aee695",
   "metadata": {},
   "outputs": [],
   "source": [
    "1. Load file as a text file in spark"
   ]
  },
  {
   "cell_type": "code",
   "execution_count": 4,
   "id": "b27eec35",
   "metadata": {},
   "outputs": [
    {
     "name": "stdout",
     "output_type": "stream",
     "text": [
      "root\n",
      " |-- _c0: string (nullable = true)\n",
      " |-- _c1: string (nullable = true)\n",
      " |-- _c2: string (nullable = true)\n",
      " |-- _c3: string (nullable = true)\n",
      " |-- _c4: string (nullable = true)\n",
      " |-- _c5: string (nullable = true)\n",
      " |-- _c6: string (nullable = true)\n",
      " |-- _c7: string (nullable = true)\n",
      " |-- _c8: string (nullable = true)\n",
      " |-- _c9: string (nullable = true)\n",
      " |-- _c10: string (nullable = true)\n",
      " |-- _c11: string (nullable = true)\n",
      " |-- _c12: string (nullable = true)\n",
      " |-- _c13: string (nullable = true)\n",
      " |-- _c14: string (nullable = true)\n",
      " |-- _c15: string (nullable = true)\n",
      " |-- _c16: string (nullable = true)\n",
      " |-- _c17: string (nullable = true)\n",
      " |-- _c18: string (nullable = true)\n",
      "\n"
     ]
    }
   ],
   "source": [
    "df = spark.read.option(\"encoding\", \"windows-1252\").csv('bjupm6tr0qi/651_m5_cs2_datasets_v1.0',inferSchema=True,sep=' ')\n",
    "df.printSchema()"
   ]
  },
  {
   "cell_type": "code",
   "execution_count": 168,
   "id": "929b35c2",
   "metadata": {},
   "outputs": [
    {
     "name": "stdout",
     "output_type": "stream",
     "text": [
      "+---------------+---+---+---------------------+------+---+---------------+--------+---+----+----+-----------+--------+----+----+--------+--------------+------------+----+\n",
      "|_c0            |_c1|_c2|_c3                  |_c4   |_c5|_c6            |_c7     |_c8|_c9 |_c10|_c11       |_c12    |_c13|_c14|_c15    |_c16          |_c17        |_c18|\n",
      "+---------------+---+---+---------------------+------+---+---------------+--------+---+----+----+-----------+--------+----+----+--------+--------------+------------+----+\n",
      "|109.169.248.247|-  |-  |[12/Dec/2015:18:25:11|+0100]|GET|/administrator/|HTTP/1.1|200|4263|-   |Mozilla/5.0|(Windows|NT  |6.0;|rv:34.0)|Gecko/20100101|Firefox/34.0|-   |\n",
      "+---------------+---+---+---------------------+------+---+---------------+--------+---+----+----+-----------+--------+----+----+--------+--------------+------------+----+\n",
      "only showing top 1 row\n",
      "\n"
     ]
    }
   ],
   "source": [
    "df.show(1,truncate=False)"
   ]
  },
  {
   "cell_type": "code",
   "execution_count": 169,
   "id": "5eb308b5",
   "metadata": {},
   "outputs": [
    {
     "data": {
      "text/plain": [
       "['_c0',\n",
       " '_c1',\n",
       " '_c2',\n",
       " '_c3',\n",
       " '_c4',\n",
       " '_c5',\n",
       " '_c6',\n",
       " '_c7',\n",
       " '_c8',\n",
       " '_c9',\n",
       " '_c10',\n",
       " '_c11',\n",
       " '_c12',\n",
       " '_c13',\n",
       " '_c14',\n",
       " '_c15',\n",
       " '_c16',\n",
       " '_c17',\n",
       " '_c18']"
      ]
     },
     "execution_count": 169,
     "metadata": {},
     "output_type": "execute_result"
    }
   ],
   "source": [
    "df.columns"
   ]
  },
  {
   "cell_type": "code",
   "execution_count": 5,
   "id": "888c740d",
   "metadata": {},
   "outputs": [],
   "source": [
    "name_list = ['remote_host',\n",
    " '_c1',\n",
    " '_c2',\n",
    " 'request_time',\n",
    " 'request_zone',\n",
    " 'request_type',\n",
    " 'url',\n",
    " 'web_version',\n",
    " 'status',\n",
    " 'bytes_setnt',\n",
    " '_c10',\n",
    " 'UA1',\n",
    " 'UA2',\n",
    " 'UA3',\n",
    " 'UA4',\n",
    " 'UA5',\n",
    " 'UA6',\n",
    " 'UA7',\n",
    " '_c18']\n",
    "df = df.toDF(*name_list)\n"
   ]
  },
  {
   "cell_type": "code",
   "execution_count": 72,
   "id": "5f7bd9f7",
   "metadata": {},
   "outputs": [],
   "source": [
    "#df = df.drop('_c1', '_c2', '_c10','_c18')"
   ]
  },
  {
   "cell_type": "code",
   "execution_count": 171,
   "id": "544c73e8",
   "metadata": {},
   "outputs": [
    {
     "name": "stdout",
     "output_type": "stream",
     "text": [
      "+---------------+---+---+--------------------+------------+------------+---------------+-----------+------+-----------+----+-----------+--------+---+----+--------+--------------+------------+----+\n",
      "|    remote_host|_c1|_c2|        request_time|request_zone|request_type|            url|web_version|status|bytes_setnt|_c10|        UA1|     UA2|UA3| UA4|     UA5|           UA6|         UA7|_c18|\n",
      "+---------------+---+---+--------------------+------------+------------+---------------+-----------+------+-----------+----+-----------+--------+---+----+--------+--------------+------------+----+\n",
      "|109.169.248.247|  -|  -|[12/Dec/2015:18:2...|      +0100]|         GET|/administrator/|   HTTP/1.1|   200|       4263|   -|Mozilla/5.0|(Windows| NT|6.0;|rv:34.0)|Gecko/20100101|Firefox/34.0|   -|\n",
      "+---------------+---+---+--------------------+------------+------------+---------------+-----------+------+-----------+----+-----------+--------+---+----+--------+--------------+------------+----+\n",
      "only showing top 1 row\n",
      "\n"
     ]
    }
   ],
   "source": [
    "df.show(1)"
   ]
  },
  {
   "cell_type": "code",
   "execution_count": 6,
   "id": "959263ce",
   "metadata": {},
   "outputs": [],
   "source": [
    "from pyspark.sql.functions import concat,concat_ws\n",
    "df = df.select(\"remote_host\",\n",
    "               '_c1',\n",
    "               '_c2',\n",
    "          concat_ws(' ',df['request_time'],df['request_zone']).alias('Time'),\n",
    "          df['request_type'].alias('Type'),\n",
    "         df['url'].alias('URL'),\n",
    "         df['web_version'].alias('Web'),\n",
    "         df['status'],\n",
    "         df['bytes_setnt'].alias('Bytes'),\n",
    "               '_c10',\n",
    "         concat_ws(' ','UA1','UA2','UA3','UA4','UA5','UA6','UA7').alias('UserAgent'),\n",
    "              '_c18')"
   ]
  },
  {
   "cell_type": "code",
   "execution_count": 173,
   "id": "0bbe496e",
   "metadata": {},
   "outputs": [
    {
     "name": "stdout",
     "output_type": "stream",
     "text": [
      "+---------------+---+---+--------------------+----+--------------------+--------+------+-----+--------------------+--------------------+----+\n",
      "|    remote_host|_c1|_c2|                Time|Type|                 URL|     Web|status|Bytes|                _c10|           UserAgent|_c18|\n",
      "+---------------+---+---+--------------------+----+--------------------+--------+------+-----+--------------------+--------------------+----+\n",
      "|109.169.248.247|  -|  -|[12/Dec/2015:18:2...| GET|     /administrator/|HTTP/1.1|   200| 4263|                   -|Mozilla/5.0 (Wind...|   -|\n",
      "|109.169.248.247|  -|  -|[12/Dec/2015:18:2...|POST|/administrator/in...|HTTP/1.1|   200| 4494|http://almhuette-...|Mozilla/5.0 (Wind...|   -|\n",
      "|    46.72.177.4|  -|  -|[12/Dec/2015:18:3...| GET|     /administrator/|HTTP/1.1|   200| 4263|                   -|Mozilla/5.0 (Wind...|   -|\n",
      "|    46.72.177.4|  -|  -|[12/Dec/2015:18:3...|POST|/administrator/in...|HTTP/1.1|   200| 4494|http://almhuette-...|Mozilla/5.0 (Wind...|   -|\n",
      "| 83.167.113.100|  -|  -|[12/Dec/2015:18:3...| GET|     /administrator/|HTTP/1.1|   200| 4263|                   -|Mozilla/5.0 (Wind...|   -|\n",
      "| 83.167.113.100|  -|  -|[12/Dec/2015:18:3...|POST|/administrator/in...|HTTP/1.1|   200| 4494|http://almhuette-...|Mozilla/5.0 (Wind...|   -|\n",
      "|   95.29.198.15|  -|  -|[12/Dec/2015:18:3...| GET|     /administrator/|HTTP/1.1|   200| 4263|                   -|Mozilla/5.0 (Wind...|   -|\n",
      "|   95.29.198.15|  -|  -|[12/Dec/2015:18:3...|POST|/administrator/in...|HTTP/1.1|   200| 4494|http://almhuette-...|Mozilla/5.0 (Wind...|   -|\n",
      "|  109.184.11.34|  -|  -|[12/Dec/2015:18:3...| GET|     /administrator/|HTTP/1.1|   200| 4263|                   -|Mozilla/5.0 (Wind...|   -|\n",
      "|  109.184.11.34|  -|  -|[12/Dec/2015:18:3...|POST|/administrator/in...|HTTP/1.1|   200| 4494|http://almhuette-...|Mozilla/5.0 (Wind...|   -|\n",
      "+---------------+---+---+--------------------+----+--------------------+--------+------+-----+--------------------+--------------------+----+\n",
      "only showing top 10 rows\n",
      "\n"
     ]
    }
   ],
   "source": [
    "df.show(10)"
   ]
  },
  {
   "cell_type": "code",
   "execution_count": 7,
   "id": "e240eb69",
   "metadata": {},
   "outputs": [],
   "source": [
    "df = df.replace('-',None,['_c1','_c2','_c10','_c18'])"
   ]
  },
  {
   "cell_type": "code",
   "execution_count": 8,
   "id": "72e83927",
   "metadata": {},
   "outputs": [
    {
     "name": "stdout",
     "output_type": "stream",
     "text": [
      "+---------------+----+----+--------------------+----+--------------------+--------+------+-----+--------------------+--------------------+----+\n",
      "|    remote_host| _c1| _c2|                Time|Type|                 URL|     Web|status|Bytes|                _c10|           UserAgent|_c18|\n",
      "+---------------+----+----+--------------------+----+--------------------+--------+------+-----+--------------------+--------------------+----+\n",
      "|109.169.248.247|null|null|[12/Dec/2015:18:2...| GET|     /administrator/|HTTP/1.1|   200| 4263|                null|Mozilla/5.0 (Wind...|null|\n",
      "|109.169.248.247|null|null|[12/Dec/2015:18:2...|POST|/administrator/in...|HTTP/1.1|   200| 4494|http://almhuette-...|Mozilla/5.0 (Wind...|null|\n",
      "|    46.72.177.4|null|null|[12/Dec/2015:18:3...| GET|     /administrator/|HTTP/1.1|   200| 4263|                null|Mozilla/5.0 (Wind...|null|\n",
      "|    46.72.177.4|null|null|[12/Dec/2015:18:3...|POST|/administrator/in...|HTTP/1.1|   200| 4494|http://almhuette-...|Mozilla/5.0 (Wind...|null|\n",
      "| 83.167.113.100|null|null|[12/Dec/2015:18:3...| GET|     /administrator/|HTTP/1.1|   200| 4263|                null|Mozilla/5.0 (Wind...|null|\n",
      "+---------------+----+----+--------------------+----+--------------------+--------+------+-----+--------------------+--------------------+----+\n",
      "only showing top 5 rows\n",
      "\n"
     ]
    }
   ],
   "source": [
    "df.show(5)"
   ]
  },
  {
   "cell_type": "code",
   "execution_count": null,
   "id": "84b2aca7",
   "metadata": {},
   "outputs": [],
   "source": [
    "2. Find out how many 404 HTTP codes are in access logs."
   ]
  },
  {
   "cell_type": "code",
   "execution_count": 9,
   "id": "6b288dd2",
   "metadata": {},
   "outputs": [
    {
     "data": {
      "text/plain": [
       "454178"
      ]
     },
     "execution_count": 9,
     "metadata": {},
     "output_type": "execute_result"
    }
   ],
   "source": [
    "df.filter('status==404').count()"
   ]
  },
  {
   "cell_type": "code",
   "execution_count": null,
   "id": "5e5a228e",
   "metadata": {},
   "outputs": [],
   "source": [
    "3. Find out which URLs are broken."
   ]
  },
  {
   "cell_type": "code",
   "execution_count": 177,
   "id": "c3fd8b11",
   "metadata": {},
   "outputs": [],
   "source": [
    "from pyspark.sql.functions import length"
   ]
  },
  {
   "cell_type": "code",
   "execution_count": 178,
   "id": "fe16c901",
   "metadata": {},
   "outputs": [
    {
     "data": {
      "text/plain": [
       "0"
      ]
     },
     "execution_count": 178,
     "metadata": {},
     "output_type": "execute_result"
    }
   ],
   "source": [
    "df.filter(length(df['url'])==0).count()"
   ]
  },
  {
   "cell_type": "code",
   "execution_count": null,
   "id": "2e1bf00b",
   "metadata": {},
   "outputs": [],
   "source": [
    "4. Verify there are no null columns in the original dataset."
   ]
  },
  {
   "cell_type": "code",
   "execution_count": 352,
   "id": "452ec687",
   "metadata": {},
   "outputs": [
    {
     "name": "stdout",
     "output_type": "stream",
     "text": [
      "+-----------+---+---+----+----+---+---+------+-----+----+---------+----+\n",
      "|remote_host|_c1|_c2|Time|Type|URL|Web|status|Bytes|_c10|UserAgent|_c18|\n",
      "+-----------+---+---+----+----+---+---+------+-----+----+---------+----+\n",
      "|          0|  0|  0|   0|   0|  0|  0|     0|    0|   0|        0|   0|\n",
      "+-----------+---+---+----+----+---+---+------+-----+----+---------+----+\n",
      "\n"
     ]
    }
   ],
   "source": [
    "from pyspark.sql.functions import count,when\n",
    "df.select([count(when(isnan(c)|col(c).isNull(),c)).alias(c) for c in df.columns]).show()"
   ]
  },
  {
   "cell_type": "code",
   "execution_count": 180,
   "id": "a2091a94",
   "metadata": {},
   "outputs": [
    {
     "data": {
      "text/plain": [
       "4676012"
      ]
     },
     "execution_count": 180,
     "metadata": {},
     "output_type": "execute_result"
    }
   ],
   "source": [
    "df.count()"
   ]
  },
  {
   "cell_type": "code",
   "execution_count": null,
   "id": "eaabb620",
   "metadata": {},
   "outputs": [],
   "source": [
    "there are 4 columns we can consider as cannot be used. We candrop them."
   ]
  },
  {
   "cell_type": "code",
   "execution_count": null,
   "id": "cb50d046",
   "metadata": {},
   "outputs": [],
   "source": [
    "5. Replace null values with constants such as 0"
   ]
  },
  {
   "cell_type": "code",
   "execution_count": 195,
   "id": "63a88e0e",
   "metadata": {},
   "outputs": [
    {
     "name": "stdout",
     "output_type": "stream",
     "text": [
      "+-----------+---+---+----+----+---+---+------+-----+----+---------+----+\n",
      "|remote_host|_c1|_c2|Time|Type|URL|Web|status|Bytes|_c10|UserAgent|_c18|\n",
      "+-----------+---+---+----+----+---+---+------+-----+----+---------+----+\n",
      "|          0|  0|  0|   0|   0|  0|  0|     0|    0|   0|        0|   0|\n",
      "+-----------+---+---+----+----+---+---+------+-----+----+---------+----+\n",
      "\n"
     ]
    }
   ],
   "source": [
    "#df2 = df\n",
    "df = df.fillna({'_c1':0,'_c2':0, '_c10':0, '_c18':0, 'web':0})\n",
    "df.select([count(when(isnan(c)|col(c).isNull(),c)).alias(c) for c in df.columns]).show()"
   ]
  },
  {
   "cell_type": "code",
   "execution_count": 193,
   "id": "93d19a9a",
   "metadata": {},
   "outputs": [],
   "source": [
    "6. Parse timestamp to readable date."
   ]
  },
  {
   "cell_type": "code",
   "execution_count": 196,
   "id": "ae08e076",
   "metadata": {},
   "outputs": [],
   "source": [
    "import datetime"
   ]
  },
  {
   "cell_type": "code",
   "execution_count": 351,
   "id": "49b0f8b7",
   "metadata": {},
   "outputs": [
    {
     "name": "stdout",
     "output_type": "stream",
     "text": [
      "+-------------------+\n",
      "|Parsed_Date        |\n",
      "+-------------------+\n",
      "|2015-12-12 18:25:11|\n",
      "|2015-12-12 18:25:11|\n",
      "|2015-12-12 18:31:08|\n",
      "|2015-12-12 18:31:08|\n",
      "|2015-12-12 18:31:25|\n",
      "|2015-12-12 18:31:25|\n",
      "|2015-12-12 18:32:10|\n",
      "|2015-12-12 18:32:11|\n",
      "|2015-12-12 18:32:56|\n",
      "|2015-12-12 18:32:56|\n",
      "|2015-12-12 18:33:51|\n",
      "|2015-12-12 18:33:52|\n",
      "|2015-12-12 18:36:16|\n",
      "|2015-12-12 18:36:16|\n",
      "|2015-12-12 18:38:42|\n",
      "|2015-12-12 18:38:42|\n",
      "|2015-12-12 18:38:55|\n",
      "|2015-12-12 18:38:56|\n",
      "|2015-12-12 18:39:27|\n",
      "|2015-12-12 18:39:27|\n",
      "+-------------------+\n",
      "only showing top 20 rows\n",
      "\n"
     ]
    }
   ],
   "source": [
    "from pyspark.sql.functions import date_format,to_timestamp,substring\n",
    "\n",
    "df.select(to_timestamp(expr(\"substring(Time, 2, length(Time)-2)\"),'dd/MMM/yyyy:HH:mm:ss x').alias(\"Parsed_Date\")).show(truncate=False)"
   ]
  },
  {
   "cell_type": "code",
   "execution_count": null,
   "id": "fb075e44",
   "metadata": {},
   "outputs": [],
   "source": [
    "7. Describe which HTTP status values appear in data and how many."
   ]
  },
  {
   "cell_type": "code",
   "execution_count": 256,
   "id": "0c7ac4d3",
   "metadata": {},
   "outputs": [
    {
     "name": "stdout",
     "output_type": "stream",
     "text": [
      "+--------+-------+\n",
      "|  status|  count|\n",
      "+--------+-------+\n",
      "|     200|2315662|\n",
      "|     206|1879858|\n",
      "|     501|    286|\n",
      "|     404| 454178|\n",
      "|     403|   4444|\n",
      "|     412|     38|\n",
      "|     303|    494|\n",
      "|     500|   6504|\n",
      "|     304|  12660|\n",
      "|     405|    166|\n",
      "|     301|   1238|\n",
      "|     400|     46|\n",
      "|     401|    306|\n",
      "|HTTP/1.1|     26|\n",
      "|     406|    106|\n",
      "+--------+-------+\n",
      "\n"
     ]
    }
   ],
   "source": [
    "plot_df = df.groupBy('status').count()\n",
    "plot_df.show()"
   ]
  },
  {
   "cell_type": "code",
   "execution_count": null,
   "id": "87cc6a02",
   "metadata": {},
   "outputs": [],
   "source": [
    "8. Display as chart the above stat in chart in Zeppelin notebook"
   ]
  },
  {
   "cell_type": "code",
   "execution_count": 263,
   "id": "f701fb90",
   "metadata": {},
   "outputs": [
    {
     "data": {
      "text/plain": [
       "<Axes: xlabel='status'>"
      ]
     },
     "execution_count": 263,
     "metadata": {},
     "output_type": "execute_result"
    },
    {
     "data": {
      "image/png": "[encoded data removed]",
      "text/plain": [
       "<Figure size 640x480 with 1 Axes>"
      ]
     },
     "metadata": {},
     "output_type": "display_data"
    }
   ],
   "source": [
    "import matplotlib.pyplot as plt\n",
    "import pyspark.pandas as ps\n",
    "\n",
    "plot_pd = plot_df.toPandas()\n",
    "\n",
    "plot_pd.plot.bar(x='status',y='count')\n",
    "\n"
   ]
  },
  {
   "cell_type": "code",
   "execution_count": null,
   "id": "be8841a2",
   "metadata": {},
   "outputs": [],
   "source": [
    "9. How many unique hosts are there in the entire log and their average request"
   ]
  },
  {
   "cell_type": "code",
   "execution_count": 297,
   "id": "954d4eda",
   "metadata": {},
   "outputs": [
    {
     "data": {
      "text/plain": [
       "40836"
      ]
     },
     "execution_count": 297,
     "metadata": {},
     "output_type": "execute_result"
    }
   ],
   "source": [
    "distinct_count = df.select(countDistinct('remote_host')).collect()[0][0]\n",
    "distinct_count"
   ]
  },
  {
   "cell_type": "code",
   "execution_count": 304,
   "id": "6e46c64d",
   "metadata": {},
   "outputs": [],
   "source": [
    "from pyspark.sql.functions import countDistinct\n",
    "\n",
    "dist_df = df.groupBy('remote_host').agg(count('remote_host').alias('cnt'))"
   ]
  },
  {
   "cell_type": "code",
   "execution_count": 306,
   "id": "7330cc19",
   "metadata": {},
   "outputs": [
    {
     "name": "stdout",
     "output_type": "stream",
     "text": [
      "+--------------+---+\n",
      "|   remote_host|cnt|\n",
      "+--------------+---+\n",
      "|   46.72.177.4| 16|\n",
      "| 194.48.218.78|  4|\n",
      "| 31.181.253.16|  4|\n",
      "|  37.112.46.76|  4|\n",
      "| 95.107.90.225|  4|\n",
      "|  5.138.58.118|  4|\n",
      "|95.188.228.228|  4|\n",
      "|  66.7.119.112|  2|\n",
      "| 145.255.2.176|  8|\n",
      "| 176.59.208.95|  4|\n",
      "| 62.133.162.65|  8|\n",
      "| 95.29.129.235|  4|\n",
      "|  66.249.64.64| 82|\n",
      "| 207.46.13.165| 12|\n",
      "| 180.76.15.162|150|\n",
      "|  37.139.52.40| 32|\n",
      "| 89.144.209.67| 52|\n",
      "|23.106.216.107|  6|\n",
      "|  195.20.125.6| 36|\n",
      "| 92.113.63.101| 12|\n",
      "+--------------+---+\n",
      "only showing top 20 rows\n",
      "\n"
     ]
    }
   ],
   "source": [
    "dist_df.show()"
   ]
  },
  {
   "cell_type": "code",
   "execution_count": 309,
   "id": "11cb4051",
   "metadata": {},
   "outputs": [
    {
     "name": "stdout",
     "output_type": "stream",
     "text": [
      "+------------------+\n",
      "|          avg(cnt)|\n",
      "+------------------+\n",
      "|114.50710157703986|\n",
      "+------------------+\n",
      "\n"
     ]
    }
   ],
   "source": [
    "from pyspark.sql.functions import avg\n",
    "dist_df.select(avg('cnt')).show()"
   ]
  },
  {
   "cell_type": "code",
   "execution_count": null,
   "id": "e4eb5dce",
   "metadata": {},
   "outputs": [],
   "source": [
    "10.Create a spark-submit application for the same and print the findings in the log"
   ]
  },
  {
   "cell_type": "code",
   "execution_count": null,
   "id": "006d9cc6",
   "metadata": {},
   "outputs": [],
   "source": [
    "C:\\Users\\suzuk\\Documents\\edureka\\PySpark Certification Training Course\\Module 5>spark-submit CaseStudy2_submit.py\n",
    "23/02/25 10:22:26 INFO SparkContext: Running Spark version 3.3.2\n",
    "23/02/25 10:22:26 INFO ResourceUtils: ==============================================================\n",
    "23/02/25 10:22:26 INFO ResourceUtils: No custom resources configured for spark.driver.\n",
    "23/02/25 10:22:26 INFO ResourceUtils: ==============================================================\n",
    "23/02/25 10:22:26 INFO SparkContext: Submitted application: Apple\n",
    "23/02/25 10:22:26 INFO ResourceProfile: Default ResourceProfile created, executor resources: Map(cores -> name: cores, amount: 1, script: , vendor: , memory -> name: memory, amount: 1024, script: , vendor: , offHeap -> name: offHeap, amount: 0, script: , vendor: ), task resources: Map(cpus -> name: cpus, amount: 1.0)\n",
    "23/02/25 10:22:26 INFO ResourceProfile: Limiting resource is cpu\n",
    "23/02/25 10:22:26 INFO ResourceProfileManager: Added ResourceProfile id: 0\n",
    "23/02/25 10:22:26 INFO SecurityManager: Changing view acls to: suzuk\n",
    "23/02/25 10:22:26 INFO SecurityManager: Changing modify acls to: suzuk\n",
    "23/02/25 10:22:26 INFO SecurityManager: Changing view acls groups to:\n",
    "23/02/25 10:22:26 INFO SecurityManager: Changing modify acls groups to:\n",
    "23/02/25 10:22:26 INFO SecurityManager: SecurityManager: authentication disabled; ui acls disabled; users  with view permissions: Set(suzuk); groups with view permissions: Set(); users  with modify permissions: Set(suzuk); groups with modify permissions: Set()\n",
    "23/02/25 10:22:27 INFO Utils: Successfully started service 'sparkDriver' on port 52550.\n",
    "23/02/25 10:22:27 INFO SparkEnv: Registering MapOutputTracker\n",
    "23/02/25 10:22:27 INFO SparkEnv: Registering BlockManagerMaster\n",
    "23/02/25 10:22:27 INFO BlockManagerMasterEndpoint: Using org.apache.spark.storage.DefaultTopologyMapper for getting topology information\n",
    "23/02/25 10:22:27 INFO BlockManagerMasterEndpoint: BlockManagerMasterEndpoint up\n",
    "23/02/25 10:22:27 INFO SparkEnv: Registering BlockManagerMasterHeartbeat\n",
    "23/02/25 10:22:27 INFO DiskBlockManager: Created local directory at C:\\Users\\suzuk\\AppData\\Local\\Temp\\blockmgr-1193409e-8948-4424-b887-be7d75d70cf5\n",
    "23/02/25 10:22:27 INFO MemoryStore: MemoryStore started with capacity 366.3 MiB\n",
    "23/02/25 10:22:27 INFO SparkEnv: Registering OutputCommitCoordinator\n",
    "23/02/25 10:22:27 WARN Utils: Service 'SparkUI' could not bind on port 4040. Attempting port 4041.\n",
    "23/02/25 10:22:27 WARN Utils: Service 'SparkUI' could not bind on port 4041. Attempting port 4042.\n",
    "23/02/25 10:22:27 WARN Utils: Service 'SparkUI' could not bind on port 4042. Attempting port 4043.\n",
    "23/02/25 10:22:27 WARN Utils: Service 'SparkUI' could not bind on port 4043. Attempting port 4044.\n",
    "23/02/25 10:22:27 INFO Utils: Successfully started service 'SparkUI' on port 4044.\n",
    "23/02/25 10:22:27 INFO Executor: Starting executor ID driver on host LAPTOP-TCJS4952\n",
    "23/02/25 10:22:27 INFO Executor: Starting executor with user classpath (userClassPathFirst = false): ''\n",
    "23/02/25 10:22:27 INFO Utils: Successfully started service 'org.apache.spark.network.netty.NettyBlockTransferService' on port 52601.\n",
    "23/02/25 10:22:27 INFO NettyBlockTransferService: Server created on LAPTOP-TCJS4952:52601\n",
    "23/02/25 10:22:27 INFO BlockManager: Using org.apache.spark.storage.RandomBlockReplicationPolicy for block replication policy\n",
    "23/02/25 10:22:27 INFO BlockManagerMaster: Registering BlockManager BlockManagerId(driver, LAPTOP-TCJS4952, 52601, None)\n",
    "23/02/25 10:22:27 INFO BlockManagerMasterEndpoint: Registering block manager LAPTOP-TCJS4952:52601 with 366.3 MiB RAM, BlockManagerId(driver, LAPTOP-TCJS4952, 52601, None)\n",
    "23/02/25 10:22:27 INFO BlockManagerMaster: Registered BlockManager BlockManagerId(driver, LAPTOP-TCJS4952, 52601, None)\n",
    "23/02/25 10:22:27 INFO BlockManager: Initialized BlockManager: BlockManagerId(driver, LAPTOP-TCJS4952, 52601, None)\n",
    "1. Load file as a text file in spark\n",
    "root\n",
    " |-- _c0: string (nullable = true)\n",
    " |-- _c1: string (nullable = true)\n",
    " |-- _c2: string (nullable = true)\n",
    " |-- _c3: string (nullable = true)\n",
    " |-- _c4: string (nullable = true)\n",
    " |-- _c5: string (nullable = true)\n",
    " |-- _c6: string (nullable = true)\n",
    " |-- _c7: string (nullable = true)\n",
    " |-- _c8: string (nullable = true)\n",
    " |-- _c9: string (nullable = true)\n",
    " |-- _c10: string (nullable = true)\n",
    " |-- _c11: string (nullable = true)\n",
    " |-- _c12: string (nullable = true)\n",
    " |-- _c13: string (nullable = true)\n",
    " |-- _c14: string (nullable = true)\n",
    " |-- _c15: string (nullable = true)\n",
    " |-- _c16: string (nullable = true)\n",
    " |-- _c17: string (nullable = true)\n",
    " |-- _c18: string (nullable = true)\n",
    "\n",
    "+---------------+---+---+---------------------+------+---+---------------+--------+---+----+----+-----------+--------+----+----+--------+--------------+------------+----+\n",
    "|_c0            |_c1|_c2|_c3                  |_c4   |_c5|_c6            |_c7     |_c8|_c9 |_c10|_c11       |_c12    |_c13|_c14|_c15    |_c16          |_c17        |_c18|\n",
    "+---------------+---+---+---------------------+------+---+---------------+--------+---+----+----+-----------+--------+----+----+--------+--------------+------------+----+\n",
    "|109.169.248.247|-  |-  |[12/Dec/2015:18:25:11|+0100]|GET|/administrator/|HTTP/1.1|200|4263|-   |Mozilla/5.0|(Windows|NT  |6.0;|rv:34.0)|Gecko/20100101|Firefox/34.0|-   |\n",
    "+---------------+---+---+---------------------+------+---+---------------+--------+---+----+----+-----------+--------+----+----+--------+--------------+------------+----+\n",
    "only showing top 1 row\n",
    "\n",
    "+---------------+---+---+--------------------+------------+------------+---------------+-----------+------+-----------+----+-----------+--------+---+----+--------+--------------+------------+----+\n",
    "|    remote_host|_c1|_c2|        request_time|request_zone|request_type|            url|web_version|status|bytes_setnt|_c10|        UA1|     UA2|UA3| UA4|     UA5|           UA6|         UA7|_c18|\n",
    "+---------------+---+---+--------------------+------------+------------+---------------+-----------+------+-----------+----+-----------+--------+---+----+--------+--------------+------------+----+\n",
    "|109.169.248.247|  -|  -|[12/Dec/2015:18:2...|      +0100]|         GET|/administrator/|   HTTP/1.1|   200|       4263|   -|Mozilla/5.0|(Windows| NT|6.0;|rv:34.0)|Gecko/20100101|Firefox/34.0|   -|\n",
    "+---------------+---+---+--------------------+------------+------------+---------------+-----------+------+-----------+----+-----------+--------+---+----+--------+--------------+------------+----+\n",
    "only showing top 1 row\n",
    "\n",
    "+---------------+---+---+--------------------+----+--------------------+--------+------+-----+--------------------+--------------------+----+\n",
    "|    remote_host|_c1|_c2|                Time|Type|                 URL|     Web|status|Bytes|                _c10|           UserAgent|_c18|\n",
    "+---------------+---+---+--------------------+----+--------------------+--------+------+-----+--------------------+--------------------+----+\n",
    "|109.169.248.247|  -|  -|[12/Dec/2015:18:2...| GET|     /administrator/|HTTP/1.1|   200| 4263|                   -|Mozilla/5.0 (Wind...|   -|\n",
    "|109.169.248.247|  -|  -|[12/Dec/2015:18:2...|POST|/administrator/in...|HTTP/1.1|   200| 4494|http://almhuette-...|Mozilla/5.0 (Wind...|   -|\n",
    "|    46.72.177.4|  -|  -|[12/Dec/2015:18:3...| GET|     /administrator/|HTTP/1.1|   200| 4263|                   -|Mozilla/5.0 (Wind...|   -|\n",
    "|    46.72.177.4|  -|  -|[12/Dec/2015:18:3...|POST|/administrator/in...|HTTP/1.1|   200| 4494|http://almhuette-...|Mozilla/5.0 (Wind...|   -|\n",
    "| 83.167.113.100|  -|  -|[12/Dec/2015:18:3...| GET|     /administrator/|HTTP/1.1|   200| 4263|                   -|Mozilla/5.0 (Wind...|   -|\n",
    "| 83.167.113.100|  -|  -|[12/Dec/2015:18:3...|POST|/administrator/in...|HTTP/1.1|   200| 4494|http://almhuette-...|Mozilla/5.0 (Wind...|   -|\n",
    "|   95.29.198.15|  -|  -|[12/Dec/2015:18:3...| GET|     /administrator/|HTTP/1.1|   200| 4263|                   -|Mozilla/5.0 (Wind...|   -|\n",
    "|   95.29.198.15|  -|  -|[12/Dec/2015:18:3...|POST|/administrator/in...|HTTP/1.1|   200| 4494|http://almhuette-...|Mozilla/5.0 (Wind...|   -|\n",
    "|  109.184.11.34|  -|  -|[12/Dec/2015:18:3...| GET|     /administrator/|HTTP/1.1|   200| 4263|                   -|Mozilla/5.0 (Wind...|   -|\n",
    "|  109.184.11.34|  -|  -|[12/Dec/2015:18:3...|POST|/administrator/in...|HTTP/1.1|   200| 4494|http://almhuette-...|Mozilla/5.0 (Wind...|   -|\n",
    "+---------------+---+---+--------------------+----+--------------------+--------+------+-----+--------------------+--------------------+----+\n",
    "only showing top 10 rows\n",
    "\n",
    "****************************************************************************************************\n",
    "2. Find out how many 404 HTTP codes are in access logs.\n",
    "****************************************************************************************************\n",
    "46\n",
    "****************************************************************************************************\n",
    "3. Find out which URLs are broken.\n",
    "****************************************************************************************************\n",
    "0\n",
    "****************************************************************************************************\n",
    "4. Verify there are no null columns in the original dataset.\n",
    "****************************************************************************************************\n",
    "23/02/25 10:22:38 WARN ProcfsMetricsGetter: Exception when trying to compute pagesize, as a result reporting of ProcessTree metrics is stopped\n",
    "+-----------+-------+-------+----+----+---+---+------+-----+-------+---------+-------+\n",
    "|remote_host|    _c1|    _c2|Time|Type|URL|Web|status|Bytes|   _c10|UserAgent|   _c18|\n",
    "+-----------+-------+-------+----+----+---+---+------+-----+-------+---------+-------+\n",
    "|          0|4676012|4675744|   0|   0|  0| 26|     0|    0|1355742|        0|1593208|\n",
    "+-----------+-------+-------+----+----+---+---+------+-----+-------+---------+-------+\n",
    "\n",
    "4676012\n",
    "There are 4 columns we can consider as cannot be used. We candrop them.\n",
    "****************************************************************************************************\n",
    "5. Replace null values with constants such as 0\n",
    "****************************************************************************************************\n",
    "+-----------+---+---+----+----+---+---+------+-----+----+---------+----+\n",
    "|remote_host|_c1|_c2|Time|Type|URL|Web|status|Bytes|_c10|UserAgent|_c18|\n",
    "+-----------+---+---+----+----+---+---+------+-----+----+---------+----+\n",
    "|          0|  0|  0|   0|   0|  0|  0|     0|    0|   0|        0|   0|\n",
    "+-----------+---+---+----+----+---+---+------+-----+----+---------+----+\n",
    "\n",
    "****************************************************************************************************\n",
    "6. Parse timestamp to readable date.\n",
    "****************************************************************************************************\n",
    "+-------------------+\n",
    "|Parsed_Date        |\n",
    "+-------------------+\n",
    "|2015-12-12 18:25:11|\n",
    "|2015-12-12 18:25:11|\n",
    "|2015-12-12 18:31:08|\n",
    "|2015-12-12 18:31:08|\n",
    "|2015-12-12 18:31:25|\n",
    "|2015-12-12 18:31:25|\n",
    "|2015-12-12 18:32:10|\n",
    "|2015-12-12 18:32:11|\n",
    "|2015-12-12 18:32:56|\n",
    "|2015-12-12 18:32:56|\n",
    "|2015-12-12 18:33:51|\n",
    "|2015-12-12 18:33:52|\n",
    "|2015-12-12 18:36:16|\n",
    "|2015-12-12 18:36:16|\n",
    "|2015-12-12 18:38:42|\n",
    "|2015-12-12 18:38:42|\n",
    "|2015-12-12 18:38:55|\n",
    "|2015-12-12 18:38:56|\n",
    "|2015-12-12 18:39:27|\n",
    "|2015-12-12 18:39:27|\n",
    "+-------------------+\n",
    "only showing top 20 rows\n",
    "\n",
    "****************************************************************************************************\n",
    "7. Describe which HTTP status values appear in data and how many.\n",
    "****************************************************************************************************\n",
    "+--------+-------+\n",
    "|  status|  count|\n",
    "+--------+-------+\n",
    "|     200|2315662|\n",
    "|     206|1879858|\n",
    "|     501|    286|\n",
    "|     404| 454178|\n",
    "|     403|   4444|\n",
    "|     412|     38|\n",
    "|     303|    494|\n",
    "|     500|   6504|\n",
    "|     304|  12660|\n",
    "|     405|    166|\n",
    "|     301|   1238|\n",
    "|     400|     46|\n",
    "|     401|    306|\n",
    "|HTTP/1.1|     26|\n",
    "|     406|    106|\n",
    "+--------+-------+\n",
    "\n",
    "****************************************************************************************************\n",
    "8. Display as chart the above stat in chart in Zeppelin notebook\n",
    "****************************************************************************************************\n",
    "****************************************************************************************************\n",
    "9. How many unique hosts are there in the entire log and their average request\n",
    "****************************************************************************************************\n",
    "Distinct hosts count 40836\n",
    "+------------------+\n",
    "|          avg(cnt)|\n",
    "+------------------+\n",
    "|114.50710157703986|\n",
    "+------------------+"
   ]
  }
 ],
 "metadata": {
  "kernelspec": {
   "display_name": "Python 3 (ipykernel)",
   "language": "python",
   "name": "python3"
  },
  "language_info": {
   "codemirror_mode": {
    "name": "ipython",
    "version": 3
   },
   "file_extension": ".py",
   "mimetype": "text/x-python",
   "name": "python",
   "nbconvert_exporter": "python",
   "pygments_lexer": "ipython3",
   "version": "3.10.9"
  }
 },
 "nbformat": 4,
 "nbformat_minor": 5
}
