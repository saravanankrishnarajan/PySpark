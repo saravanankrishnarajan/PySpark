{
 "cells": [
  {
   "cell_type": "markdown",
   "id": "3603c800",
   "metadata": {},
   "source": [
    "### Case Study: Mobile App Store\n",
    "### Domain: Analytics"
   ]
  },
  {
   "cell_type": "markdown",
   "id": "3388bcdb",
   "metadata": {},
   "source": [
    "The ever-changing mobile landscape is a challenging space to navigate. \n",
    "Android holds about 53.2% of the smartphone market, while iOS is 43%. \n",
    "To get more people to download your app, you need to make sure they \n",
    "can easily find your app. Mobile app analytics is a great way to \n",
    "understand the existing strategy to drive growth and retention of \n",
    "future user.\n",
    "\n",
    "The data set contains more than 7000 Apple iOS mobile application details. \n",
    "The data was extracted from the iTunes Search API."
   ]
  },
  {
   "cell_type": "code",
   "execution_count": null,
   "id": "2ab22bc4",
   "metadata": {},
   "outputs": [],
   "source": [
    "Tasks:\n",
    "With millions of apps around nowadays, the data has become very key ,\n",
    "to getting top trending apps in iOS app store. As a data scientist, \n",
    "you are required to explore the datasets including cleaning and \n",
    "transforming the dataset.\n",
    "\n",
    "1. Load csv into spark as a text file\n",
    "2. Parse the data as csv.\n",
    "3. Convert bytes to MB and GB in a new column\n",
    "4. List top 10 trending apps\n",
    "5. The difference in the average number of screenshots displayed of highest and lowest rating apps.\n",
    "6. What percentage of high rated apps support multiple languages.\n",
    "7. How does app details contribute to user ratings?\n",
    "8. Compare the statistics of different app groups/genres.\n",
    "9. Does length of app description contribute to the ratings?\n",
    "10. Create a spark-submit application for the same and print the findings in the log\n",
    "\n"
   ]
  },
  {
   "cell_type": "code",
   "execution_count": null,
   "id": "ac942d5c",
   "metadata": {},
   "outputs": [],
   "source": [
    "1. Load csv into spark as a text file\n",
    "2. Parse the data as csv."
   ]
  },
  {
   "cell_type": "code",
   "execution_count": 22,
   "id": "37386f0b",
   "metadata": {},
   "outputs": [],
   "source": [
    "import findspark\n",
    "findspark.init()\n",
    "\n",
    "import pyspark \n",
    "from pyspark.sql import SparkSession"
   ]
  },
  {
   "cell_type": "code",
   "execution_count": 23,
   "id": "8bdb81e6",
   "metadata": {},
   "outputs": [
    {
     "name": "stdout",
     "output_type": "stream",
     "text": [
      "root\n",
      " |-- _c0: integer (nullable = true)\n",
      " |-- id: integer (nullable = true)\n",
      " |-- track_name: string (nullable = true)\n",
      " |-- size_bytes: long (nullable = true)\n",
      " |-- currency: string (nullable = true)\n",
      " |-- price: double (nullable = true)\n",
      " |-- rating_count_tot: integer (nullable = true)\n",
      " |-- rating_count_ver: integer (nullable = true)\n",
      " |-- user_rating: double (nullable = true)\n",
      " |-- user_rating_ver: double (nullable = true)\n",
      " |-- ver: string (nullable = true)\n",
      " |-- cont_rating: string (nullable = true)\n",
      " |-- prime_genre: string (nullable = true)\n",
      " |-- sup_devices.num: integer (nullable = true)\n",
      " |-- ipadSc_urls.num: integer (nullable = true)\n",
      " |-- lang.num: integer (nullable = true)\n",
      " |-- vpp_lic: integer (nullable = true)\n",
      "\n"
     ]
    }
   ],
   "source": [
    "spark = SparkSession.builder.appName(\"Apple\").getOrCreate()\n",
    "df = spark.read.option(\"encoding\", \"windows-1252\").csv('6ojmkg1aw1/AppleStore.csv',inferSchema=True,header=True)\n",
    "df.printSchema()\n",
    "\n",
    "#option(\"encoding\", \"windows-1252\")\n",
    "#option(\"encoding\",\"UTF-8\")"
   ]
  },
  {
   "cell_type": "code",
   "execution_count": 24,
   "id": "7a538ff2",
   "metadata": {},
   "outputs": [],
   "source": [
    "name_list = ['_c0', 'id', 'track_name', 'size_bytes', 'currency', 'price', 'rating_count_tot', 'rating_count_ver', 'user_rating','user_rating_ver','ver', 'cont_rating', 'prime_genre', 'sup_devices', 'ipadSc_urls', 'lang', 'vpp_lic']\n",
    "df = df.toDF(*name_list)"
   ]
  },
  {
   "cell_type": "code",
   "execution_count": null,
   "id": "a6956106",
   "metadata": {},
   "outputs": [],
   "source": [
    "3. Convert bytes to MB and GB in a new column"
   ]
  },
  {
   "cell_type": "code",
   "execution_count": 25,
   "id": "2930561e",
   "metadata": {},
   "outputs": [
    {
     "name": "stdout",
     "output_type": "stream",
     "text": [
      "+---------+--------------------------------------------------+----------+-------+\n",
      "|id       |track_name                                        |size_bytes|size_GB|\n",
      "+---------+--------------------------------------------------+----------+-------+\n",
      "|281656475|PAC-MAN Premium                                   |100788224 |96.12  |\n",
      "|281796108|Evernote - stay organized                         |158578688 |151.23 |\n",
      "|281940292|WeatherBug - Local Weather, Radar, Maps, Alerts   |100524032 |95.87  |\n",
      "|282614216|eBay: Best App to Buy, Sell, Save! Online Shopping|128512000 |122.56 |\n",
      "|282935706|Bible                                             |92774400  |88.48  |\n",
      "|283619399|Shanghai Mahjong                                  |10485713  |10.00  |\n",
      "|283646709|PayPal - Send and request money safely            |227795968 |217.24 |\n",
      "|284035177|Pandora - Music & Radio                           |130242560 |124.21 |\n",
      "|284666222|PCalc - The Best Calculator                       |49250304  |46.97  |\n",
      "|284736660|Ms. PAC-MAN                                       |70023168  |66.78  |\n",
      "|284791396|Solitaire by MobilityWare                         |49618944  |47.32  |\n",
      "|284815117|SCRABBLE Premium                                  |227547136 |217.01 |\n",
      "|284815942|Google – Search made just for mobile              |179979264 |171.64 |\n",
      "|284847138|Bank of America - Mobile Banking                  |160925696 |153.47 |\n",
      "|284862767|FreeCell                                          |55153664  |52.60  |\n",
      "|284876795|TripAdvisor Hotels Flights Restaurants            |207907840 |198.28 |\n",
      "|284882215|Facebook                                          |389879808 |371.82 |\n",
      "|284910350|Yelp - Nearby Restaurants, Shopping & Services    |167407616 |159.65 |\n",
      "|284993459|Shazam - Discover music, artists, videos & lyrics |147093504 |140.28 |\n",
      "|285005463|Crash Bandicoot Nitro Kart 3D                     |10735026  |10.24  |\n",
      "+---------+--------------------------------------------------+----------+-------+\n",
      "only showing top 20 rows\n",
      "\n"
     ]
    }
   ],
   "source": [
    "from pyspark.sql.functions import format_number\n",
    "\n",
    "df2 = df.withColumn('size_GB',format_number(((df['size_bytes']/1024)/1024),2)) #First converts as KB and then into GB\n",
    "\n",
    "df2.select('id','track_name','size_bytes','size_GB').show(truncate=False)"
   ]
  },
  {
   "cell_type": "code",
   "execution_count": null,
   "id": "26588d03",
   "metadata": {},
   "outputs": [],
   "source": [
    "4. List top 10 trending apps"
   ]
  },
  {
   "cell_type": "code",
   "execution_count": 26,
   "id": "2433aa5f",
   "metadata": {},
   "outputs": [
    {
     "name": "stdout",
     "output_type": "stream",
     "text": [
      "+------------------+\n",
      "|count(DISTINCT id)|\n",
      "+------------------+\n",
      "|              7197|\n",
      "+------------------+\n",
      "\n"
     ]
    }
   ],
   "source": [
    "from pyspark.sql.functions import countDistinct,count_distinct\n",
    "df.select(countDistinct('id')).show()"
   ]
  },
  {
   "cell_type": "code",
   "execution_count": 27,
   "id": "3fb07d24",
   "metadata": {},
   "outputs": [
    {
     "data": {
      "text/plain": [
       "7197"
      ]
     },
     "execution_count": 27,
     "metadata": {},
     "output_type": "execute_result"
    }
   ],
   "source": [
    "df.count()"
   ]
  },
  {
   "cell_type": "code",
   "execution_count": 29,
   "id": "c08a5af3",
   "metadata": {},
   "outputs": [
    {
     "name": "stdout",
     "output_type": "stream",
     "text": [
      "+---------+--------------------+----------------+\n",
      "|       id|          track_name|rating_count_tot|\n",
      "+---------+--------------------+----------------+\n",
      "|284882215|            Facebook|         2974676|\n",
      "|389801252|           Instagram|         2161558|\n",
      "|529479190|      Clash of Clans|         2130805|\n",
      "|420009108|          Temple Run|         1724546|\n",
      "|284035177|Pandora - Music &...|         1126879|\n",
      "|429047995|           Pinterest|         1061624|\n",
      "|282935706|               Bible|          985920|\n",
      "|553834731|    Candy Crush Saga|          961794|\n",
      "|324684580|       Spotify Music|          878563|\n",
      "|343200656|         Angry Birds|          824451|\n",
      "+---------+--------------------+----------------+\n",
      "\n"
     ]
    }
   ],
   "source": [
    "df.select('id','track_name','rating_count_tot').sort('rating_count_tot',ascending=False).limit(10).show()"
   ]
  },
  {
   "cell_type": "code",
   "execution_count": null,
   "id": "2e180c7e",
   "metadata": {},
   "outputs": [],
   "source": [
    "5. The difference in the average number of screenshots displayed of highest and lowest rating apps."
   ]
  },
  {
   "cell_type": "code",
   "execution_count": 47,
   "id": "512be234",
   "metadata": {},
   "outputs": [
    {
     "name": "stdout",
     "output_type": "stream",
     "text": [
      "+---------+-----------------------------------+----------------+\n",
      "|id       |track_name                         |rating_count_tot|\n",
      "+---------+-----------------------------------+----------------+\n",
      "|329174056|iLoan Calc (Loan calculator)       |0               |\n",
      "|377321278|恵方コンパス.                      |0               |\n",
      "|350480010|eBook: War and Peace               |0               |\n",
      "|355709084|Jourist Weltübersetzer             |0               |\n",
      "|404529222|ファッション通販 ZOZOTOWN          |0               |\n",
      "|379256460|「宅建士」過去問題《受験用》       |0               |\n",
      "|389543438|Der Feueralarm                     |0               |\n",
      "|391947489|iSleeping by iSommeil SARL         |0               |\n",
      "|394342281|Bowitter for iPhone                |0               |\n",
      "|398166286|出会い系アプリ i-Mail（アイメール）|0               |\n",
      "+---------+-----------------------------------+----------------+\n",
      "\n"
     ]
    }
   ],
   "source": [
    "#low10df = df.sort('rating_count_tot',ascending=True).limit(10)\n",
    "#low10df.select('id','track_name','rating_count_tot').show(truncate=False,)\n",
    "low10df = df.sort('rating_count_tot',ascending=True).limit(10).select('id','track_name','rating_count_tot')\n",
    "low10df.show(truncate=False)"
   ]
  },
  {
   "cell_type": "code",
   "execution_count": 31,
   "id": "30290578",
   "metadata": {},
   "outputs": [
    {
     "name": "stdout",
     "output_type": "stream",
     "text": [
      "+---------------------------+\n",
      "|Top 10 Apps rating averages|\n",
      "+---------------------------+\n",
      "|                  1483081.6|\n",
      "+---------------------------+\n",
      "\n"
     ]
    }
   ],
   "source": [
    "from pyspark.sql.functions import mean\n",
    "top10df.select(mean(top10df['rating_count_tot']).alias(\"Top 10 Apps rating averages\")).show()"
   ]
  },
  {
   "cell_type": "code",
   "execution_count": 32,
   "id": "e9f4f26d",
   "metadata": {},
   "outputs": [
    {
     "name": "stdout",
     "output_type": "stream",
     "text": [
      "+------------------------------+\n",
      "|Lowest 10 Apps rating averages|\n",
      "+------------------------------+\n",
      "|                           0.0|\n",
      "+------------------------------+\n",
      "\n"
     ]
    }
   ],
   "source": [
    "low10df.select(mean(low10df['rating_count_tot']).alias(\"Lowest 10 Apps rating averages\")).show()"
   ]
  },
  {
   "cell_type": "code",
   "execution_count": null,
   "id": "9aa7198b",
   "metadata": {},
   "outputs": [],
   "source": [
    "b6. What percentage of high rated apps support multiple languages."
   ]
  },
  {
   "cell_type": "code",
   "execution_count": 33,
   "id": "00bfa20f",
   "metadata": {},
   "outputs": [],
   "source": [
    "from pyspark.sql.functions import max\n",
    "\n",
    "max_lang = df.select(max(df['lang'])).collect()[0][0]"
   ]
  },
  {
   "cell_type": "code",
   "execution_count": 34,
   "id": "bb938c58",
   "metadata": {},
   "outputs": [
    {
     "data": {
      "text/plain": [
       "75"
      ]
     },
     "execution_count": 34,
     "metadata": {},
     "output_type": "execute_result"
    }
   ],
   "source": [
    "max_lang"
   ]
  },
  {
   "cell_type": "code",
   "execution_count": 35,
   "id": "77bc5c19",
   "metadata": {},
   "outputs": [
    {
     "name": "stdout",
     "output_type": "stream",
     "text": [
      "+---------+--------------------+----+-------------------+\n",
      "|       id|          track_name|lang|Language percentage|\n",
      "+---------+--------------------+----+-------------------+\n",
      "|284882215|            Facebook|  29|              38.67|\n",
      "|389801252|           Instagram|  29|              38.67|\n",
      "|529479190|      Clash of Clans|  18|              24.00|\n",
      "|420009108|          Temple Run|   1|               1.33|\n",
      "|284035177|Pandora - Music &...|   1|               1.33|\n",
      "|429047995|           Pinterest|  27|              36.00|\n",
      "|282935706|               Bible|  45|              60.00|\n",
      "|553834731|    Candy Crush Saga|  24|              32.00|\n",
      "|324684580|       Spotify Music|  18|              24.00|\n",
      "|343200656|         Angry Birds|  10|              13.33|\n",
      "+---------+--------------------+----+-------------------+\n",
      "\n"
     ]
    }
   ],
   "source": [
    "top10df.select('id','track_name','lang',format_number(((top10df['lang']/max_lang)*100),2).alias('Language percentage')).show()"
   ]
  },
  {
   "cell_type": "code",
   "execution_count": null,
   "id": "49b616ec",
   "metadata": {},
   "outputs": [],
   "source": [
    "7. How does app details contribute to user ratings"
   ]
  },
  {
   "cell_type": "code",
   "execution_count": 36,
   "id": "be023a25",
   "metadata": {},
   "outputs": [],
   "source": [
    "from pyspark.sql.functions import sum, avg"
   ]
  },
  {
   "cell_type": "code",
   "execution_count": 37,
   "id": "c298c3e0",
   "metadata": {},
   "outputs": [
    {
     "name": "stdout",
     "output_type": "stream",
     "text": [
      "root\n",
      " |-- _c0: integer (nullable = true)\n",
      " |-- id: integer (nullable = true)\n",
      " |-- track_name: string (nullable = true)\n",
      " |-- size_bytes: long (nullable = true)\n",
      " |-- currency: string (nullable = true)\n",
      " |-- price: double (nullable = true)\n",
      " |-- rating_count_tot: integer (nullable = true)\n",
      " |-- rating_count_ver: integer (nullable = true)\n",
      " |-- user_rating: double (nullable = true)\n",
      " |-- user_rating_ver: double (nullable = true)\n",
      " |-- ver: string (nullable = true)\n",
      " |-- cont_rating: string (nullable = true)\n",
      " |-- prime_genre: string (nullable = true)\n",
      " |-- sup_devices: integer (nullable = true)\n",
      " |-- ipadSc_urls: integer (nullable = true)\n",
      " |-- lang: integer (nullable = true)\n",
      " |-- vpp_lic: integer (nullable = true)\n",
      "\n"
     ]
    }
   ],
   "source": [
    "df.printSchema()"
   ]
  },
  {
   "cell_type": "markdown",
   "id": "9e2a7de5",
   "metadata": {},
   "source": [
    "By looking atthe features of the Appstore data. Following features seems more contributed to user ratings rating_count_tot"
   ]
  },
  {
   "cell_type": "markdown",
   "id": "7f1095d7",
   "metadata": {},
   "source": [
    "['size_bytes',  'currency', 'price', 'rating_count_ver', 'user_rating', 'ver',  'cont_rating', 'prime_genre', 'sup_devices', 'ipadSc_urls', 'lang', 'vpp_lic']"
   ]
  },
  {
   "cell_type": "markdown",
   "id": "e9930b82",
   "metadata": {},
   "source": [
    "8. Compare the statistics of different app groups/genres."
   ]
  },
  {
   "cell_type": "code",
   "execution_count": null,
   "id": "0b711d21",
   "metadata": {},
   "outputs": [],
   "source": [
    "By comparing the below statistics  we  found number of support devices have helped out rating_tot and By genre we  found the Medical is not most interested."
   ]
  },
  {
   "cell_type": "code",
   "execution_count": 38,
   "id": "bb42a136",
   "metadata": {},
   "outputs": [
    {
     "name": "stdout",
     "output_type": "stream",
     "text": [
      "+-----------+-----------+-----------+----------------+\n",
      "|sup_devices|cont_rating|sup_devices|rating_count_tot|\n",
      "+-----------+-----------+-----------+----------------+\n",
      "|         47|       null|      47.00|       15,259.42|\n",
      "|         45|       null|      45.00|       12,996.62|\n",
      "|         43|       null|      43.00|       13,014.39|\n",
      "|         40|       null|      40.00|        7,534.39|\n",
      "|         39|       null|      39.00|       23,635.60|\n",
      "|         38|       null|      38.00|       13,131.64|\n",
      "|         37|       null|      37.00|       15,430.83|\n",
      "|         36|       null|      36.00|          902.71|\n",
      "|         35|       null|      35.00|        1,040.96|\n",
      "|         33|       null|      33.00|          855.00|\n",
      "|         26|       null|      26.00|        1,658.64|\n",
      "|         25|       null|      25.00|        1,469.55|\n",
      "|         24|       null|      24.00|        7,186.11|\n",
      "|         23|       null|      23.00|          412.00|\n",
      "|         16|       null|      16.00|          507.62|\n",
      "|         15|       null|      15.00|          758.00|\n",
      "|         13|       null|      13.00|          458.57|\n",
      "|         12|       null|      12.00|      287,589.00|\n",
      "|         11|       null|      11.00|        4,361.67|\n",
      "|          9|       null|       9.00|        1,760.00|\n",
      "+-----------+-----------+-----------+----------------+\n",
      "\n"
     ]
    }
   ],
   "source": [
    "df.groupBy('sup_devices').agg(format_number(avg('cont_rating'),2).alias('cont_rating'),format_number(avg('sup_devices'),2).alias('sup_devices'),format_number(avg('rating_count_tot'),2).alias('rating_count_tot')).sort('sup_devices',ascending=False).show()"
   ]
  },
  {
   "cell_type": "code",
   "execution_count": 39,
   "id": "b3cbec35",
   "metadata": {},
   "outputs": [
    {
     "name": "stdout",
     "output_type": "stream",
     "text": [
      "+-----------------+-----------+----------------------------------+----------------+\n",
      "|      prime_genre|cont_rating|format_number(avg(sup_devices), 2)|rating_count_tot|\n",
      "+-----------------+-----------+----------------------------------+----------------+\n",
      "|          Weather|       null|                             36.65|       22,181.03|\n",
      "|        Utilities|       null|                             36.69|        6,863.82|\n",
      "|           Travel|       null|                             37.01|       14,129.44|\n",
      "|           Sports|       null|                             36.92|       14,026.93|\n",
      "|Social Networking|       null|                             36.52|       45,498.90|\n",
      "|         Shopping|       null|                             36.62|       18,615.33|\n",
      "|        Reference|       null|                             36.56|       22,410.84|\n",
      "|     Productivity|       null|                             36.04|        8,051.33|\n",
      "|    Photo & Video|       null|                             36.76|       14,352.28|\n",
      "|             News|       null|                             36.56|       13,015.07|\n",
      "|       Navigation|       null|                             36.24|       11,853.96|\n",
      "|            Music|       null|                             35.47|       28,842.02|\n",
      "|          Medical|       null|                             36.65|          592.78|\n",
      "|        Lifestyle|       null|                             37.07|        6,161.76|\n",
      "| Health & Fitness|       null|                             35.89|        9,913.17|\n",
      "|            Games|       null|                             38.02|       13,692.00|\n",
      "|     Food & Drink|       null|                             36.92|       13,938.62|\n",
      "|          Finance|       null|                             36.84|       11,047.65|\n",
      "|    Entertainment|       null|                             36.67|        7,533.68|\n",
      "|        Education|       null|                             36.68|        2,239.23|\n",
      "+-----------------+-----------+----------------------------------+----------------+\n",
      "only showing top 20 rows\n",
      "\n"
     ]
    }
   ],
   "source": [
    "df.groupBy('prime_genre').agg(format_number(avg('cont_rating'),2).alias('cont_rating'),format_number(avg('sup_devices'),2),format_number(avg('rating_count_tot'),2).alias('rating_count_tot'),).sort('prime_genre',ascending=False).show()"
   ]
  },
  {
   "cell_type": "code",
   "execution_count": null,
   "id": "ceddefe0",
   "metadata": {},
   "outputs": [],
   "source": [
    "9. Does length of app description contribute to the ratings?"
   ]
  },
  {
   "cell_type": "code",
   "execution_count": 40,
   "id": "61f4cf8b",
   "metadata": {},
   "outputs": [
    {
     "name": "stdout",
     "output_type": "stream",
     "text": [
      "+-----------+----------------+\n",
      "|name_length|rating_count_tot|\n",
      "+-----------+----------------+\n",
      "|         31|          871236|\n",
      "|         85|          209406|\n",
      "|         65|            4514|\n",
      "|         53|           28594|\n",
      "|        133|             150|\n",
      "|         78|            9465|\n",
      "|         34|          667318|\n",
      "|        101|             178|\n",
      "|         81|            2720|\n",
      "|         28|          580861|\n",
      "|         76|             222|\n",
      "|         27|          815815|\n",
      "|         26|          985314|\n",
      "|         44|          414457|\n",
      "|         12|         4767854|\n",
      "|         91|            4368|\n",
      "|         22|          957206|\n",
      "|        232|             358|\n",
      "|         93|            2906|\n",
      "|         47|         1669522|\n",
      "+-----------+----------------+\n",
      "only showing top 20 rows\n",
      "\n"
     ]
    }
   ],
   "source": [
    "from pyspark.sql.functions import length\n",
    "df.groupBy((length(df['track_name'])).alias('name_length')).agg(sum(df['rating_count_tot']).alias('rating_count_tot')).show()"
   ]
  },
  {
   "cell_type": "code",
   "execution_count": 49,
   "id": "7389b96f",
   "metadata": {},
   "outputs": [
    {
     "name": "stdout",
     "output_type": "stream",
     "text": [
      "+-----------+---------------------+\n",
      "|name_length|sum(rating_count_tot)|\n",
      "+-----------+---------------------+\n",
      "|          2|               168922|\n",
      "|          3|               416445|\n",
      "|          4|               514727|\n",
      "|          5|              1461038|\n",
      "|          6|              1661858|\n",
      "|          7|              2957862|\n",
      "|          8|              5087672|\n",
      "|          9|              6586364|\n",
      "|         10|              5886069|\n",
      "|         11|              3508290|\n",
      "|         12|              4767854|\n",
      "|         13|              3922493|\n",
      "|         14|              5217009|\n",
      "|         15|              2772429|\n",
      "|         16|              2551308|\n",
      "|         17|              1854143|\n",
      "|         18|              3918765|\n",
      "|         19|              1885464|\n",
      "|         20|              1449536|\n",
      "|         21|              1681704|\n",
      "+-----------+---------------------+\n",
      "only showing top 20 rows\n",
      "\n"
     ]
    }
   ],
   "source": [
    "df.groupBy(length(df['track_name']).alias('name_length')).agg(sum('rating_count_tot')).sort('name_length',).show()"
   ]
  },
  {
   "cell_type": "code",
   "execution_count": 43,
   "id": "22a1be4a",
   "metadata": {},
   "outputs": [],
   "source": [
    "corrdf =df.groupBy(length(df['track_name']).alias('name_length')).agg(sum('rating_count_tot').alias('rating_count_tot'))"
   ]
  },
  {
   "cell_type": "code",
   "execution_count": 44,
   "id": "b9e534ce",
   "metadata": {},
   "outputs": [
    {
     "name": "stdout",
     "output_type": "stream",
     "text": [
      "+-----------+----------------+\n",
      "|name_length|rating_count_tot|\n",
      "+-----------+----------------+\n",
      "|          7|         2957862|\n",
      "|         51|            5885|\n",
      "|         15|         2772429|\n",
      "|         54|            6594|\n",
      "|        232|             358|\n",
      "|         11|         3508290|\n",
      "|        101|             178|\n",
      "|         29|          704668|\n",
      "|         69|            2254|\n",
      "|         42|          993978|\n",
      "|         87|            9068|\n",
      "|         73|            3748|\n",
      "|         64|            6694|\n",
      "|          3|          416445|\n",
      "|         30|          379795|\n",
      "|        113|            1255|\n",
      "|         34|          667318|\n",
      "|        133|             150|\n",
      "|         59|           12198|\n",
      "|          8|         5087672|\n",
      "+-----------+----------------+\n",
      "only showing top 20 rows\n",
      "\n"
     ]
    }
   ],
   "source": [
    "df.groupBy(length(df['track_name']).cast('string').alias('name_length'))\\\n",
    "  .agg(sum(df['rating_count_tot']).alias('rating_count_tot'))\\\n",
    "  .show()"
   ]
  },
  {
   "cell_type": "code",
   "execution_count": 45,
   "id": "d51de4a4",
   "metadata": {},
   "outputs": [
    {
     "data": {
      "text/plain": [
       "-0.573500480238124"
      ]
     },
     "execution_count": 45,
     "metadata": {},
     "output_type": "execute_result"
    }
   ],
   "source": [
    "corrdf.corr('name_length','rating_count_tot')"
   ]
  },
  {
   "cell_type": "markdown",
   "id": "771a6e8c",
   "metadata": {},
   "source": [
    "Yes. Length of the application description contribute to the ratings."
   ]
  },
  {
   "cell_type": "code",
   "execution_count": null,
   "id": "41ad5ed7",
   "metadata": {},
   "outputs": [],
   "source": [
    "10. Create a spark-submit application for the same and print the findings in the log"
   ]
  },
  {
   "cell_type": "code",
   "execution_count": null,
   "id": "9d47dd99",
   "metadata": {},
   "outputs": [],
   "source": [
    "23/02/24 14:33:16 INFO SparkContext: Running Spark version 3.3.2\n",
    "23/02/24 14:33:16 INFO ResourceUtils: ==============================================================\n",
    "23/02/24 14:33:16 INFO ResourceUtils: No custom resources configured for spark.driver.\n",
    "23/02/24 14:33:16 INFO ResourceUtils: ==============================================================\n",
    "23/02/24 14:33:16 INFO SparkContext: Submitted application: Apple\n",
    "23/02/24 14:33:16 INFO ResourceProfile: Default ResourceProfile created, executor resources: Map(cores -> name: cores, amount: 1, script: , vendor: , memory -> name: memory, amount: 1024, script: , vendor: , offHeap -> name: offHeap, amount: 0, script: , vendor: ), task resources: Map(cpus -> name: cpus, amount: 1.0)\n",
    "23/02/24 14:33:16 INFO ResourceProfile: Limiting resource is cpu\n",
    "23/02/24 14:33:16 INFO ResourceProfileManager: Added ResourceProfile id: 0\n",
    "23/02/24 14:33:16 INFO SecurityManager: Changing view acls to: suzuk\n",
    "23/02/24 14:33:16 INFO SecurityManager: Changing modify acls to: suzuk\n",
    "23/02/24 14:33:16 INFO SecurityManager: Changing view acls groups to:\n",
    "23/02/24 14:33:16 INFO SecurityManager: Changing modify acls groups to:\n",
    "23/02/24 14:33:16 INFO SecurityManager: SecurityManager: authentication disabled; ui acls disabled; users  with view permissions: Set(suzuk); groups with view permissions: Set(); users  with modify permissions: Set(suzuk); groups with modify permissions: Set()\n",
    "23/02/24 14:33:16 INFO Utils: Successfully started service 'sparkDriver' on port 59286.\n",
    "23/02/24 14:33:16 INFO SparkEnv: Registering MapOutputTracker\n",
    "23/02/24 14:33:16 INFO SparkEnv: Registering BlockManagerMaster\n",
    "23/02/24 14:33:16 INFO BlockManagerMasterEndpoint: Using org.apache.spark.storage.DefaultTopologyMapper for getting topology information\n",
    "23/02/24 14:33:16 INFO BlockManagerMasterEndpoint: BlockManagerMasterEndpoint up\n",
    "23/02/24 14:33:16 INFO SparkEnv: Registering BlockManagerMasterHeartbeat\n",
    "23/02/24 14:33:16 INFO DiskBlockManager: Created local directory at C:\\Users\\suzuk\\AppData\\Local\\Temp\\blockmgr-b7670a56-7981-4f30-abbf-41d3fcbf774d\n",
    "23/02/24 14:33:16 INFO MemoryStore: MemoryStore started with capacity 366.3 MiB\n",
    "23/02/24 14:33:17 INFO SparkEnv: Registering OutputCommitCoordinator\n",
    "23/02/24 14:33:17 WARN Utils: Service 'SparkUI' could not bind on port 4040. Attempting port 4041.\n",
    "23/02/24 14:33:17 INFO Utils: Successfully started service 'SparkUI' on port 4041.\n",
    "23/02/24 14:33:17 INFO Executor: Starting executor ID driver on host LAPTOP-TCJS4952\n",
    "23/02/24 14:33:17 INFO Executor: Starting executor with user classpath (userClassPathFirst = false): ''\n",
    "23/02/24 14:33:17 INFO Utils: Successfully started service 'org.apache.spark.network.netty.NettyBlockTransferService' on port 59338.\n",
    "23/02/24 14:33:17 INFO NettyBlockTransferService: Server created on LAPTOP-TCJS4952:59338\n",
    "23/02/24 14:33:17 INFO BlockManager: Using org.apache.spark.storage.RandomBlockReplicationPolicy for block replication policy\n",
    "23/02/24 14:33:17 INFO BlockManagerMaster: Registering BlockManager BlockManagerId(driver, LAPTOP-TCJS4952, 59338, None)\n",
    "23/02/24 14:33:17 INFO BlockManagerMasterEndpoint: Registering block manager LAPTOP-TCJS4952:59338 with 366.3 MiB RAM, BlockManagerId(driver, LAPTOP-TCJS4952, 59338, None)\n",
    "23/02/24 14:33:17 INFO BlockManagerMaster: Registered BlockManager BlockManagerId(driver, LAPTOP-TCJS4952, 59338, None)\n",
    "23/02/24 14:33:17 INFO BlockManager: Initialized BlockManager: BlockManagerId(driver, LAPTOP-TCJS4952, 59338, None)\n",
    "root\n",
    " |-- _c0: integer (nullable = true)\n",
    " |-- id: integer (nullable = true)\n",
    " |-- track_name: string (nullable = true)\n",
    " |-- size_bytes: long (nullable = true)\n",
    " |-- currency: string (nullable = true)\n",
    " |-- price: double (nullable = true)\n",
    " |-- rating_count_tot: integer (nullable = true)\n",
    " |-- rating_count_ver: integer (nullable = true)\n",
    " |-- user_rating: double (nullable = true)\n",
    " |-- user_rating_ver: double (nullable = true)\n",
    " |-- ver: string (nullable = true)\n",
    " |-- cont_rating: string (nullable = true)\n",
    " |-- prime_genre: string (nullable = true)\n",
    " |-- sup_devices.num: integer (nullable = true)\n",
    " |-- ipadSc_urls.num: integer (nullable = true)\n",
    " |-- lang.num: integer (nullable = true)\n",
    " |-- vpp_lic: integer (nullable = true)\n",
    "\n",
    "+---------+--------------------------------------------------+----------+-------+\n",
    "|id       |track_name                                        |size_bytes|size_GB|\n",
    "+---------+--------------------------------------------------+----------+-------+\n",
    "|281656475|PAC-MAN Premium                                   |100788224 |96.12  |\n",
    "|281796108|Evernote - stay organized                         |158578688 |151.23 |\n",
    "|281940292|WeatherBug - Local Weather, Radar, Maps, Alerts   |100524032 |95.87  |\n",
    "|282614216|eBay: Best App to Buy, Sell, Save! Online Shopping|128512000 |122.56 |\n",
    "|282935706|Bible                                             |92774400  |88.48  |\n",
    "|283619399|Shanghai Mahjong                                  |10485713  |10.00  |\n",
    "|283646709|PayPal - Send and request money safely            |227795968 |217.24 |\n",
    "|284035177|Pandora - Music & Radio                           |130242560 |124.21 |\n",
    "|284666222|PCalc - The Best Calculator                       |49250304  |46.97  |\n",
    "|284736660|Ms. PAC-MAN                                       |70023168  |66.78  |\n",
    "|284791396|Solitaire by MobilityWare                         |49618944  |47.32  |\n",
    "|284815117|SCRABBLE Premium                                  |227547136 |217.01 |\n",
    "|284815942|Google û Search made just for mobile              |179979264 |171.64 |\n",
    "|284847138|Bank of America - Mobile Banking                  |160925696 |153.47 |\n",
    "|284862767|FreeCell                                          |55153664  |52.60  |\n",
    "|284876795|TripAdvisor Hotels Flights Restaurants            |207907840 |198.28 |\n",
    "|284882215|Facebook                                          |389879808 |371.82 |\n",
    "|284910350|Yelp - Nearby Restaurants, Shopping & Services    |167407616 |159.65 |\n",
    "|284993459|Shazam - Discover music, artists, videos & lyrics |147093504 |140.28 |\n",
    "|285005463|Crash Bandicoot Nitro Kart 3D                     |10735026  |10.24  |\n",
    "+---------+--------------------------------------------------+----------+-------+\n",
    "only showing top 20 rows\n",
    "\n",
    "+------------------+\n",
    "|count(DISTINCT id)|\n",
    "+------------------+\n",
    "|              7197|\n",
    "+------------------+\n",
    "\n",
    "+---------+-----------------------+----------------+\n",
    "|id       |track_name             |rating_count_tot|\n",
    "+---------+-----------------------+----------------+\n",
    "|284882215|Facebook               |2974676         |\n",
    "|389801252|Instagram              |2161558         |\n",
    "|529479190|Clash of Clans         |2130805         |\n",
    "|420009108|Temple Run             |1724546         |\n",
    "|284035177|Pandora - Music & Radio|1126879         |\n",
    "|429047995|Pinterest              |1061624         |\n",
    "|282935706|Bible                  |985920          |\n",
    "|553834731|Candy Crush Saga       |961794          |\n",
    "|324684580|Spotify Music          |878563          |\n",
    "|343200656|Angry Birds            |824451          |\n",
    "+---------+-----------------------+----------------+\n",
    "\n",
    "+---------------------------+\n",
    "|Top 10 Apps rating averages|\n",
    "+---------------------------+\n",
    "|                  1483081.6|\n",
    "+---------------------------+\n",
    "\n",
    "+------------------------------+\n",
    "|Lowest 10 Apps rating averages|\n",
    "+------------------------------+\n",
    "|                           0.0|\n",
    "+------------------------------+\n",
    "\n",
    "root\n",
    " |-- _c0: integer (nullable = true)\n",
    " |-- id: integer (nullable = true)\n",
    " |-- track_name: string (nullable = true)\n",
    " |-- size_bytes: long (nullable = true)\n",
    " |-- currency: string (nullable = true)\n",
    " |-- price: double (nullable = true)\n",
    " |-- rating_count_tot: integer (nullable = true)\n",
    " |-- rating_count_ver: integer (nullable = true)\n",
    " |-- user_rating: double (nullable = true)\n",
    " |-- user_rating_ver: double (nullable = true)\n",
    " |-- ver: string (nullable = true)\n",
    " |-- cont_rating: string (nullable = true)\n",
    " |-- prime_genre: string (nullable = true)\n",
    " |-- sup_devices: integer (nullable = true)\n",
    " |-- ipadSc_urls: integer (nullable = true)\n",
    " |-- lang: integer (nullable = true)\n",
    " |-- vpp_lic: integer (nullable = true)\n",
    "\n",
    "By looking atthe features of the Appstore data. Following features seems more contributed to user ratings rating_count_tot\n",
    "\n",
    "['size_bytes', 'currency', 'price', 'rating_count_ver', 'user_rating', 'ver', 'cont_rating', 'prime_genre', 'sup_devices', 'ipadSc_urls', 'lang', 'vpp_lic']\n",
    "By comparing the below statistics  we  found number of support devices have helped out rating_tot and By genre we  found the Medical is not most interested.\n",
    "+-----------+-----------+-----------+----------------+\n",
    "|sup_devices|cont_rating|sup_devices|rating_count_tot|\n",
    "+-----------+-----------+-----------+----------------+\n",
    "|         47|       null|      47.00|       15,259.42|\n",
    "|         45|       null|      45.00|       12,996.62|\n",
    "|         43|       null|      43.00|       13,014.39|\n",
    "|         40|       null|      40.00|        7,534.39|\n",
    "|         39|       null|      39.00|       23,635.60|\n",
    "|         38|       null|      38.00|       13,131.64|\n",
    "|         37|       null|      37.00|       15,430.83|\n",
    "|         36|       null|      36.00|          902.71|\n",
    "|         35|       null|      35.00|        1,040.96|\n",
    "|         33|       null|      33.00|          855.00|\n",
    "|         26|       null|      26.00|        1,658.64|\n",
    "|         25|       null|      25.00|        1,469.55|\n",
    "|         24|       null|      24.00|        7,186.11|\n",
    "|         23|       null|      23.00|          412.00|\n",
    "|         16|       null|      16.00|          507.62|\n",
    "|         15|       null|      15.00|          758.00|\n",
    "|         13|       null|      13.00|          458.57|\n",
    "|         12|       null|      12.00|      287,589.00|\n",
    "|         11|       null|      11.00|        4,361.67|\n",
    "|          9|       null|       9.00|        1,760.00|\n",
    "+-----------+-----------+-----------+----------------+\n",
    "\n",
    "+-----------------+-----------+----------------------------------+----------------+\n",
    "|      prime_genre|cont_rating|format_number(avg(sup_devices), 2)|rating_count_tot|\n",
    "+-----------------+-----------+----------------------------------+----------------+\n",
    "|          Weather|       null|                             36.65|       22,181.03|\n",
    "|        Utilities|       null|                             36.69|        6,863.82|\n",
    "|           Travel|       null|                             37.01|       14,129.44|\n",
    "|           Sports|       null|                             36.92|       14,026.93|\n",
    "|Social Networking|       null|                             36.52|       45,498.90|\n",
    "|         Shopping|       null|                             36.62|       18,615.33|\n",
    "|        Reference|       null|                             36.56|       22,410.84|\n",
    "|     Productivity|       null|                             36.04|        8,051.33|\n",
    "|    Photo & Video|       null|                             36.76|       14,352.28|\n",
    "|             News|       null|                             36.56|       13,015.07|\n",
    "|       Navigation|       null|                             36.24|       11,853.96|\n",
    "|            Music|       null|                             35.47|       28,842.02|\n",
    "|          Medical|       null|                             36.65|          592.78|\n",
    "|        Lifestyle|       null|                             37.07|        6,161.76|\n",
    "| Health & Fitness|       null|                             35.89|        9,913.17|\n",
    "|            Games|       null|                             38.02|       13,692.00|\n",
    "|     Food & Drink|       null|                             36.92|       13,938.62|\n",
    "|          Finance|       null|                             36.84|       11,047.65|\n",
    "|    Entertainment|       null|                             36.67|        7,533.68|\n",
    "|        Education|       null|                             36.68|        2,239.23|\n",
    "+-----------------+-----------+----------------------------------+----------------+\n",
    "only showing top 20 rows\n",
    "\n",
    "+-----------+---------------------+\n",
    "|name_length|sum(rating_count_tot)|\n",
    "+-----------+---------------------+\n",
    "|          7|              2957862|\n",
    "|         51|                 5885|\n",
    "|         15|              2772429|\n",
    "|         54|                 6594|\n",
    "|        232|                  358|\n",
    "|         11|              3508290|\n",
    "|        101|                  178|\n",
    "|         29|               704668|\n",
    "|         69|                 2254|\n",
    "|         42|               993978|\n",
    "|         87|                 9068|\n",
    "|         73|                 3748|\n",
    "|         64|                 6694|\n",
    "|          3|               416445|\n",
    "|         30|               379795|\n",
    "|        113|                 1255|\n",
    "|         34|               667318|\n",
    "|        133|                  150|\n",
    "|         59|                12198|\n",
    "|          8|              5087672|\n",
    "+-----------+---------------------+\n",
    "only showing top 20 rows\n",
    "\n",
    "Yes. Length of the application description contribute to the ratings."
   ]
  },
  {
   "cell_type": "code",
   "execution_count": null,
   "id": "f9847ded",
   "metadata": {},
   "outputs": [],
   "source": []
  },
  {
   "cell_type": "code",
   "execution_count": null,
   "id": "4db13892",
   "metadata": {},
   "outputs": [],
   "source": [
    "D:\\BigDataLocalSetup\\spark-3.2.3-bin-hadoop3.2\\bin\\spark-submit.cmd --master local --py-files AppleNameLengthContribute.py"
   ]
  }
 ],
 "metadata": {
  "kernelspec": {
   "display_name": "Python 3 (ipykernel)",
   "language": "python",
   "name": "python3"
  },
  "language_info": {
   "codemirror_mode": {
    "name": "ipython",
    "version": 3
   },
   "file_extension": ".py",
   "mimetype": "text/x-python",
   "name": "python",
   "nbconvert_exporter": "python",
   "pygments_lexer": "ipython3",
   "version": "3.10.9"
  }
 },
 "nbformat": 4,
 "nbformat_minor": 5
}
