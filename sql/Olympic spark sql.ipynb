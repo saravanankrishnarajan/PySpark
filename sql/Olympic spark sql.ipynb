{
 "cells": [
  {
   "cell_type": "code",
   "execution_count": 10,
   "id": "c842b77f",
   "metadata": {},
   "outputs": [],
   "source": [
    "import os\n",
    "from pyspark.sql import SparkSession, SQLContext\n",
    "from pyspark import SparkContext, SparkConf"
   ]
  },
  {
   "cell_type": "code",
   "execution_count": 31,
   "id": "b9b3d85e",
   "metadata": {},
   "outputs": [],
   "source": [
    "from pyspark.sql.functions import explode\n",
    "from pyspark.sql.functions import countDistinct, avg\n",
    "from pyspark.sql.functions import dayofmonth, dayofyear, year, month, hour, weekofyear, date_format\n",
    "from pyspark.sql.functions import col as func_col"
   ]
  },
  {
   "cell_type": "code",
   "execution_count": 12,
   "id": "ad8d3276",
   "metadata": {},
   "outputs": [
    {
     "data": {
      "text/plain": [
       "'Saravanan : Spark SQL'"
      ]
     },
     "execution_count": 12,
     "metadata": {},
     "output_type": "execute_result"
    }
   ],
   "source": [
    "app_name = 'Saravanan : Spark SQL'\n",
    "app_name"
   ]
  },
  {
   "cell_type": "code",
   "execution_count": 13,
   "id": "66bc7d6b",
   "metadata": {},
   "outputs": [],
   "source": [
    "spark = SparkSession.builder.appName(app_name).getOrCreate()"
   ]
  },
  {
   "cell_type": "code",
   "execution_count": 14,
   "id": "f03f6900",
   "metadata": {},
   "outputs": [],
   "source": [
    "odf = spark.read.csv(\"hdfs://localhost:9000/module6_datasets/DataSets/olympic_Data.txt\")"
   ]
  },
  {
   "cell_type": "markdown",
   "id": "e21e2e7c",
   "metadata": {},
   "source": [
    "#### KPI-1: No of athletes participated in each Olympic event"
   ]
  },
  {
   "cell_type": "code",
   "execution_count": 15,
   "id": "dfdbb369",
   "metadata": {},
   "outputs": [],
   "source": [
    "odf.createOrReplaceTempView('olymp')"
   ]
  },
  {
   "cell_type": "code",
   "execution_count": 38,
   "id": "02a62280",
   "metadata": {},
   "outputs": [],
   "source": [
    "#### Answer\n",
    "1: No of athletes participated in each Olympic event\n",
    "spark.sql(\"SELECT _c3, count(*) FROM olympic group by _c3\").show"
   ]
  },
  {
   "cell_type": "code",
   "execution_count": 37,
   "id": "af315294",
   "metadata": {},
   "outputs": [
    {
     "name": "stdout",
     "output_type": "stream",
     "text": [
      "+-----------+--------------+\n",
      "|olympicYear|No_of_Athletes|\n",
      "+-----------+--------------+\n",
      "|       2012|          1776|\n",
      "|       2000|          1840|\n",
      "|       2002|           407|\n",
      "|       2006|           443|\n",
      "|       2004|          1839|\n",
      "|       2008|          1872|\n",
      "|       2010|           441|\n",
      "+-----------+--------------+\n",
      "\n"
     ]
    }
   ],
   "source": [
    "spark.sql(\"select _c3 olympicYear,count(*) No_of_Athletes from olymp group by _c3\").show()"
   ]
  },
  {
   "cell_type": "markdown",
   "id": "f2ce9565",
   "metadata": {},
   "source": [
    "#### 2: No of medals each country won in each Olympic in ascending order"
   ]
  },
  {
   "cell_type": "code",
   "execution_count": null,
   "id": "fb9cdb25",
   "metadata": {},
   "outputs": [],
   "source": [
    "2: No of medals each country won in each Olympic in ascending order\n",
    "spark.sql(\"SELECT _c2, _c3, sum(_c9) as cnt FROM olympic group by _c2, _c3 order by _c3, cnt DESC\").show\n",
    "spark.sql(\"SELECT _c2, _c3, sum(_c9) as cnt FROM olympic group by _c2, _c3 order by cnt\").show"
   ]
  },
  {
   "cell_type": "code",
   "execution_count": 39,
   "id": "73091fbe",
   "metadata": {},
   "outputs": [
    {
     "name": "stdout",
     "output_type": "stream",
     "text": [
      "+-------------------+---------------+----------------+\n",
      "|            country|year_of_olympic|number_of_medals|\n",
      "+-------------------+---------------+----------------+\n",
      "|          Venezuela|           2008|             1.0|\n",
      "|              India|           2004|             1.0|\n",
      "|          Mauritius|           2008|             1.0|\n",
      "|Trinidad and Tobago|           2004|             1.0|\n",
      "|           Mongolia|           2004|             1.0|\n",
      "|              Japan|           2006|             1.0|\n",
      "|             Uganda|           2012|             1.0|\n",
      "|           Barbados|           2000|             1.0|\n",
      "|           Cameroon|           2004|             1.0|\n",
      "|          Venezuela|           2012|             1.0|\n",
      "|            Uruguay|           2000|             1.0|\n",
      "|             Kuwait|           2000|             1.0|\n",
      "|            Eritrea|           2004|             1.0|\n",
      "|              Sudan|           2008|             1.0|\n",
      "|             Israel|           2000|             1.0|\n",
      "|          Macedonia|           2000|             1.0|\n",
      "|              Gabon|           2012|             1.0|\n",
      "|           Slovakia|           2006|             1.0|\n",
      "|            Vietnam|           2000|             1.0|\n",
      "|            Ireland|           2000|             1.0|\n",
      "+-------------------+---------------+----------------+\n",
      "only showing top 20 rows\n",
      "\n"
     ]
    }
   ],
   "source": [
    "spark.sql(\"select _c2 as country,_c3 as year_of_olympic, sum(_c9) as number_of_medals from olymp group by _c2,_c3 order by number_of_medals asc\").show()"
   ]
  },
  {
   "cell_type": "markdown",
   "id": "9103205a",
   "metadata": {},
   "source": [
    "#### 3: Top 10 athletes who won highest gold medals in all the Olympic events"
   ]
  },
  {
   "cell_type": "code",
   "execution_count": null,
   "id": "3b7dc85c",
   "metadata": {},
   "outputs": [],
   "source": [
    "3: Top 10 athletes who won highest gold medals in all the Olympic events\n",
    "spark.sql(\"SELECT _c0, sum(_c9) as cnt FROM olympic group by _c0 order by cnt DESC\").show"
   ]
  },
  {
   "cell_type": "code",
   "execution_count": 29,
   "id": "1ac56073",
   "metadata": {},
   "outputs": [
    {
     "name": "stdout",
     "output_type": "stream",
     "text": [
      "+--------------------+------------+\n",
      "|            atheltes|no_of_medals|\n",
      "+--------------------+------------+\n",
      "|      Michael Phelps|        22.0|\n",
      "|    Natalie Coughlin|        12.0|\n",
      "|         Ryan Lochte|        11.0|\n",
      "|          Ian Thorpe|         9.0|\n",
      "|Ole Einar Bjørndalen|         9.0|\n",
      "|        Leisel Jones|         9.0|\n",
      "|    Apolo Anton Ohno|         8.0|\n",
      "|      Katalin Kovács|         8.0|\n",
      "|      Inge de Bruijn|         8.0|\n",
      "|         Dara Torres|         8.0|\n",
      "|         Jason Lezak|         8.0|\n",
      "|Libby Lenton-Tric...|         7.0|\n",
      "|       Petria Thomas|         7.0|\n",
      "|     Kirsty Coventry|         7.0|\n",
      "|     Kosuke Kitajima|         7.0|\n",
      "|       Grant Hackett|         7.0|\n",
      "|Veronica Campbell...|         7.0|\n",
      "|            Yang Wei|         7.0|\n",
      "|        Kati Wilhelm|         7.0|\n",
      "|      Felix Gottwald|         7.0|\n",
      "+--------------------+------------+\n",
      "only showing top 20 rows\n",
      "\n"
     ]
    }
   ],
   "source": [
    "spark.sql(\"select _c0 atheltes, sum(_c9) no_of_medals from olymp group by _c0 order by no_of_medals desc\").show()"
   ]
  },
  {
   "cell_type": "markdown",
   "id": "ea00a335",
   "metadata": {},
   "source": [
    "#### 4: No of athletes who won gold and whose age is less than 20"
   ]
  },
  {
   "cell_type": "code",
   "execution_count": null,
   "id": "31d81160",
   "metadata": {},
   "outputs": [],
   "source": [
    "4: No of athletes who won gold and whose age is less than 20\n",
    "spark.sql(\"SELECT count(*) FROM olympic where _c1 < 20 and _c6 > 0\").show"
   ]
  },
  {
   "cell_type": "code",
   "execution_count": 57,
   "id": "756e7aca",
   "metadata": {},
   "outputs": [
    {
     "name": "stdout",
     "output_type": "stream",
     "text": [
      "+-------------------+\n",
      "|count(DISTINCT _c0)|\n",
      "+-------------------+\n",
      "|                187|\n",
      "+-------------------+\n",
      "\n"
     ]
    }
   ],
   "source": [
    "spark.sql(\"select count(distinct(_c0)) from olymp where _c1<20 and _c6>0\").show()"
   ]
  },
  {
   "cell_type": "markdown",
   "id": "aed6de45",
   "metadata": {},
   "source": [
    "#### 5: Youngest athlete who won gold in each category of sports in each Olympic"
   ]
  },
  {
   "cell_type": "code",
   "execution_count": 55,
   "id": "4a6c95f5",
   "metadata": {},
   "outputs": [
    {
     "name": "stdout",
     "output_type": "stream",
     "text": [
      "+----+-------------------+--------+\n",
      "| _c3|                _c5|min(_c1)|\n",
      "+----+-------------------+--------+\n",
      "|2000|            Archery|      17|\n",
      "|2000|          Athletics|      17|\n",
      "|2000|          Badminton|      21|\n",
      "|2000|           Baseball|      19|\n",
      "|2000|         Basketball|      19|\n",
      "|2000|   Beach Volleyball|      25|\n",
      "|2000|             Boxing|      19|\n",
      "|2000|           Canoeing|      18|\n",
      "|2000|            Cycling|      20|\n",
      "|2000|             Diving|      16|\n",
      "|2000|         Equestrian|      25|\n",
      "|2000|            Fencing|      15|\n",
      "|2000|           Football|      16|\n",
      "|2000|         Gymnastics|      15|\n",
      "|2000|           Handball|      21|\n",
      "|2000|             Hockey|      19|\n",
      "|2000|               Judo|      18|\n",
      "|2000|  Modern Pentathlon|      24|\n",
      "|2000|Rhythmic Gymnastics|      15|\n",
      "|2000|             Rowing|      20|\n",
      "+----+-------------------+--------+\n",
      "only showing top 20 rows\n",
      "\n"
     ]
    }
   ],
   "source": [
    "spark.sql(\"select _c3,_c5,min(_c1) from olymp group by _c3, _c5\").show() "
   ]
  },
  {
   "cell_type": "code",
   "execution_count": null,
   "id": "d9e0eab8",
   "metadata": {},
   "outputs": [],
   "source": [
    "#### 6: No of atheletes from each country who has won a medal in each Olympic in each sports"
   ]
  },
  {
   "cell_type": "code",
   "execution_count": 65,
   "id": "50c0aac5",
   "metadata": {},
   "outputs": [
    {
     "name": "stdout",
     "output_type": "stream",
     "text": [
      "+-------------+----+--------------------+--------+\n",
      "|          _c2| _c3|                 _c5|count(1)|\n",
      "+-------------+----+--------------------+--------+\n",
      "|        China|2008|            Swimming|      12|\n",
      "|      Germany|2010|Cross Country Skiing|       7|\n",
      "|        Japan|2008|           Wrestling|       6|\n",
      "|        Egypt|2004|           Wrestling|       1|\n",
      "|    Venezuela|2004|           Taekwondo|       1|\n",
      "|       France|2010|        Snowboarding|       3|\n",
      "|   Tajikistan|2008|                Judo|       1|\n",
      "|      Estonia|2004|           Athletics|       1|\n",
      "|United States|2010|       Alpine Skiing|       4|\n",
      "|  New Zealand|2008|             Cycling|       5|\n",
      "|Great Britain|2004|   Modern Pentathlon|       1|\n",
      "|         Cuba|2008|                Judo|       6|\n",
      "|       Canada|2006|      Figure Skating|       1|\n",
      "|  Switzerland|2008|          Equestrian|       4|\n",
      "|     Bulgaria|2000|           Athletics|       1|\n",
      "|       Mexico|2012|             Archery|       2|\n",
      "|  Netherlands|2008|          Equestrian|       3|\n",
      "|      Croatia|2006|       Alpine Skiing|       2|\n",
      "|        Spain|2004|            Shooting|       1|\n",
      "|      Finland|2012|             Sailing|       4|\n",
      "+-------------+----+--------------------+--------+\n",
      "only showing top 20 rows\n",
      "\n"
     ]
    }
   ],
   "source": [
    "spark.sql(\"select _c2,_c3,_c5, count(*) from olymp where _c9>0 group by _c2,_c3,_c5  \").show()"
   ]
  },
  {
   "cell_type": "markdown",
   "id": "9b291919",
   "metadata": {},
   "source": [
    "### 7: No of athletes won at least a medal in each events in all the Olympics"
   ]
  },
  {
   "cell_type": "code",
   "execution_count": 66,
   "id": "28dcfb10",
   "metadata": {},
   "outputs": [
    {
     "name": "stdout",
     "output_type": "stream",
     "text": [
      "+--------+\n",
      "|count(1)|\n",
      "+--------+\n",
      "|    8618|\n",
      "+--------+\n",
      "\n"
     ]
    }
   ],
   "source": [
    "spark.sql(\"select count(*) from olymp where _c9>0\").show()"
   ]
  },
  {
   "cell_type": "code",
   "execution_count": 77,
   "id": "5b7adfaf",
   "metadata": {},
   "outputs": [
    {
     "name": "stdout",
     "output_type": "stream",
     "text": [
      "+-------------+---+\n",
      "|          _c5|cnt|\n",
      "+-------------+---+\n",
      "|    Athletics|568|\n",
      "|       Rowing|444|\n",
      "|     Swimming|367|\n",
      "|     Football|352|\n",
      "|   Ice Hockey|313|\n",
      "|     Handball|303|\n",
      "|       Hockey|299|\n",
      "|    Waterpolo|235|\n",
      "|   Basketball|223|\n",
      "|   Volleyball|215|\n",
      "|    Wrestling|210|\n",
      "|      Cycling|207|\n",
      "|     Canoeing|206|\n",
      "|     Baseball|194|\n",
      "|         Judo|188|\n",
      "|      Fencing|183|\n",
      "|       Boxing|172|\n",
      "|   Gymnastics|170|\n",
      "|      Sailing|170|\n",
      "|Weightlifting|159|\n",
      "+-------------+---+\n",
      "only showing top 20 rows\n",
      "\n"
     ]
    }
   ],
   "source": [
    "spark.sql(\"select _c5,count(distinct(_c0)) cnt from olymp where _c9>0 group by _c5 order by cnt desc\").show()"
   ]
  },
  {
   "cell_type": "code",
   "execution_count": 76,
   "id": "06a5a4d5",
   "metadata": {},
   "outputs": [
    {
     "name": "stdout",
     "output_type": "stream",
     "text": [
      "+----------+---+\n",
      "|       _c5|cnt|\n",
      "+----------+---+\n",
      "| Athletics|687|\n",
      "|    Rowing|567|\n",
      "|  Swimming|487|\n",
      "|  Football|407|\n",
      "|    Hockey|388|\n",
      "|Ice Hockey|384|\n",
      "|  Handball|351|\n",
      "| Waterpolo|306|\n",
      "|  Canoeing|295|\n",
      "|Basketball|287|\n",
      "|Volleyball|281|\n",
      "|   Cycling|261|\n",
      "| Wrestling|245|\n",
      "|   Fencing|230|\n",
      "|      Judo|224|\n",
      "|  Baseball|216|\n",
      "|   Sailing|210|\n",
      "|Gymnastics|194|\n",
      "|    Boxing|188|\n",
      "|  Shooting|181|\n",
      "+----------+---+\n",
      "only showing top 20 rows\n",
      "\n"
     ]
    }
   ],
   "source": [
    "spark.sql(\"SELECT DISTINCT _c5, count(*) as cnt FROM olymp group by _c5 order by cnt DESC\").show()"
   ]
  },
  {
   "cell_type": "markdown",
   "id": "e3aec787",
   "metadata": {},
   "source": [
    "#### -8: Country won highest no of medals in wrestling in 2012"
   ]
  },
  {
   "cell_type": "code",
   "execution_count": 82,
   "id": "9d4faa74",
   "metadata": {},
   "outputs": [
    {
     "name": "stdout",
     "output_type": "stream",
     "text": [
      "+------+----+\n",
      "|   _c2| cnt|\n",
      "+------+----+\n",
      "|Russia|11.0|\n",
      "+------+----+\n",
      "\n"
     ]
    }
   ],
   "source": [
    "spark.sql(\"select _c2,sum(_c9) cnt from olymp where _c3=2012 and _c5='Wrestling' group by _c2 order by cnt desc limit 1\").show()"
   ]
  },
  {
   "cell_type": "code",
   "execution_count": 84,
   "id": "eeba5bcc",
   "metadata": {},
   "outputs": [
    {
     "data": {
      "text/html": [
       "<div>\n",
       "<style scoped>\n",
       "    .dataframe tbody tr th:only-of-type {\n",
       "        vertical-align: middle;\n",
       "    }\n",
       "\n",
       "    .dataframe tbody tr th {\n",
       "        vertical-align: top;\n",
       "    }\n",
       "\n",
       "    .dataframe thead th {\n",
       "        text-align: right;\n",
       "    }\n",
       "</style>\n",
       "<table border=\"1\" class=\"dataframe\">\n",
       "  <thead>\n",
       "    <tr style=\"text-align: right;\">\n",
       "      <th>summary</th>\n",
       "      <th>count</th>\n",
       "      <th>mean</th>\n",
       "      <th>stddev</th>\n",
       "      <th>min</th>\n",
       "      <th>max</th>\n",
       "    </tr>\n",
       "  </thead>\n",
       "  <tbody>\n",
       "    <tr>\n",
       "      <th>_c0</th>\n",
       "      <td>8613</td>\n",
       "      <td>None</td>\n",
       "      <td>None</td>\n",
       "      <td>A. J. Mleczko</td>\n",
       "      <td>Živko Gocic</td>\n",
       "    </tr>\n",
       "    <tr>\n",
       "      <th>_c1</th>\n",
       "      <td>8613</td>\n",
       "      <td>26.405433646812956</td>\n",
       "      <td>5.10211819196138</td>\n",
       "      <td>15</td>\n",
       "      <td>61</td>\n",
       "    </tr>\n",
       "    <tr>\n",
       "      <th>_c2</th>\n",
       "      <td>8618</td>\n",
       "      <td>None</td>\n",
       "      <td>None</td>\n",
       "      <td>Afghanistan</td>\n",
       "      <td>Zimbabwe</td>\n",
       "    </tr>\n",
       "    <tr>\n",
       "      <th>_c3</th>\n",
       "      <td>8618</td>\n",
       "      <td>2005.9788814110002</td>\n",
       "      <td>4.289946258614372</td>\n",
       "      <td>2000</td>\n",
       "      <td>2012</td>\n",
       "    </tr>\n",
       "    <tr>\n",
       "      <th>_c4</th>\n",
       "      <td>8618</td>\n",
       "      <td>None</td>\n",
       "      <td>None</td>\n",
       "      <td>10/1/2000</td>\n",
       "      <td>8/29/2004</td>\n",
       "    </tr>\n",
       "    <tr>\n",
       "      <th>_c5</th>\n",
       "      <td>8618</td>\n",
       "      <td>None</td>\n",
       "      <td>None</td>\n",
       "      <td>Alpine Skiing</td>\n",
       "      <td>Wrestling</td>\n",
       "    </tr>\n",
       "    <tr>\n",
       "      <th>_c6</th>\n",
       "      <td>8618</td>\n",
       "      <td>0.36470178695753075</td>\n",
       "      <td>0.5453488740297667</td>\n",
       "      <td>0</td>\n",
       "      <td>8</td>\n",
       "    </tr>\n",
       "    <tr>\n",
       "      <th>_c7</th>\n",
       "      <td>8618</td>\n",
       "      <td>0.36330935251798563</td>\n",
       "      <td>0.5116126702333476</td>\n",
       "      <td>0</td>\n",
       "      <td>3</td>\n",
       "    </tr>\n",
       "    <tr>\n",
       "      <th>_c8</th>\n",
       "      <td>8618</td>\n",
       "      <td>0.3776978417266187</td>\n",
       "      <td>0.5050049522149438</td>\n",
       "      <td>0</td>\n",
       "      <td>3</td>\n",
       "    </tr>\n",
       "    <tr>\n",
       "      <th>_c9</th>\n",
       "      <td>8618</td>\n",
       "      <td>1.105708981202135</td>\n",
       "      <td>0.4088919859318833</td>\n",
       "      <td>1</td>\n",
       "      <td>8</td>\n",
       "    </tr>\n",
       "  </tbody>\n",
       "</table>\n",
       "</div>"
      ],
      "text/plain": [
       "summary count                 mean              stddev            min  \\\n",
       "_c0      8613                 None                None  A. J. Mleczko   \n",
       "_c1      8613   26.405433646812956    5.10211819196138             15   \n",
       "_c2      8618                 None                None    Afghanistan   \n",
       "_c3      8618   2005.9788814110002   4.289946258614372           2000   \n",
       "_c4      8618                 None                None      10/1/2000   \n",
       "_c5      8618                 None                None  Alpine Skiing   \n",
       "_c6      8618  0.36470178695753075  0.5453488740297667              0   \n",
       "_c7      8618  0.36330935251798563  0.5116126702333476              0   \n",
       "_c8      8618   0.3776978417266187  0.5050049522149438              0   \n",
       "_c9      8618    1.105708981202135  0.4088919859318833              1   \n",
       "\n",
       "summary          max  \n",
       "_c0      Živko Gocic  \n",
       "_c1               61  \n",
       "_c2         Zimbabwe  \n",
       "_c3             2012  \n",
       "_c4        8/29/2004  \n",
       "_c5        Wrestling  \n",
       "_c6                8  \n",
       "_c7                3  \n",
       "_c8                3  \n",
       "_c9                8  "
      ]
     },
     "execution_count": 84,
     "metadata": {},
     "output_type": "execute_result"
    }
   ],
   "source": [
    "odf.describe().toPandas().set_index('summary').transpose()"
   ]
  },
  {
   "cell_type": "code",
   "execution_count": null,
   "id": "0603b189",
   "metadata": {},
   "outputs": [],
   "source": []
  }
 ],
 "metadata": {
  "kernelspec": {
   "display_name": "Python 3 (ipykernel)",
   "language": "python",
   "name": "python3"
  },
  "language_info": {
   "codemirror_mode": {
    "name": "ipython",
    "version": 3
   },
   "file_extension": ".py",
   "mimetype": "text/x-python",
   "name": "python",
   "nbconvert_exporter": "python",
   "pygments_lexer": "ipython3",
   "version": "3.10.6"
  }
 },
 "nbformat": 4,
 "nbformat_minor": 5
}
