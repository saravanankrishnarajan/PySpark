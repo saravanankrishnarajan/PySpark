{
 "cells": [
  {
   "cell_type": "code",
   "execution_count": 4,
   "id": "f11a88c3",
   "metadata": {},
   "outputs": [],
   "source": [
    "import os\n",
    "from pyspark.sql import SparkSession, SQLContext\n",
    "from pyspark import SparkContext, SparkConf"
   ]
  },
  {
   "cell_type": "code",
   "execution_count": 5,
   "id": "826e1882",
   "metadata": {},
   "outputs": [],
   "source": [
    "from pyspark.sql.functions import explode\n",
    "from pyspark.sql.functions import countDistinct, avg\n",
    "from pyspark.sql.functions import dayofmonth, dayofyear, year, month, hour, weekofyear, date_format\n",
    "from pyspark.sql.functions import col as func_col"
   ]
  },
  {
   "cell_type": "code",
   "execution_count": 6,
   "id": "bd61d661",
   "metadata": {},
   "outputs": [
    {
     "data": {
      "text/plain": [
       "'Saravanan Titanic : Spark SQL'"
      ]
     },
     "execution_count": 6,
     "metadata": {},
     "output_type": "execute_result"
    }
   ],
   "source": [
    "app_name = 'Saravanan Titanic : Spark SQL'\n",
    "app_name"
   ]
  },
  {
   "cell_type": "code",
   "execution_count": 7,
   "id": "517660af",
   "metadata": {},
   "outputs": [],
   "source": [
    "spark = SparkSession.builder.appName(app_name).getOrCreate()"
   ]
  },
  {
   "cell_type": "code",
   "execution_count": 73,
   "id": "1183a667",
   "metadata": {},
   "outputs": [],
   "source": [
    "tdf = spark.read.csv(\"hdfs://localhost:9000/module6_datasets/DataSets/Titanic.txt\",inferSchema=True)"
   ]
  },
  {
   "cell_type": "code",
   "execution_count": 74,
   "id": "f50b7871",
   "metadata": {},
   "outputs": [],
   "source": [
    "tdf.createOrReplaceTempView('titanic')"
   ]
  },
  {
   "cell_type": "code",
   "execution_count": 75,
   "id": "e36866df",
   "metadata": {},
   "outputs": [
    {
     "name": "stdout",
     "output_type": "stream",
     "text": [
      "+----+\n",
      "| cnt|\n",
      "+----+\n",
      "|1313|\n",
      "+----+\n",
      "\n"
     ]
    }
   ],
   "source": [
    "spark.sql(\"select count(*) as cnt from titanic\").show()"
   ]
  },
  {
   "cell_type": "code",
   "execution_count": 76,
   "id": "3943d3e5",
   "metadata": {},
   "outputs": [
    {
     "data": {
      "text/plain": [
       "1313"
      ]
     },
     "execution_count": 76,
     "metadata": {},
     "output_type": "execute_result"
    }
   ],
   "source": [
    "tdf.count()"
   ]
  },
  {
   "cell_type": "code",
   "execution_count": 77,
   "id": "e9a17bc2",
   "metadata": {},
   "outputs": [
    {
     "name": "stdout",
     "output_type": "stream",
     "text": [
      "root\n",
      " |-- _c0: integer (nullable = true)\n",
      " |-- _c1: string (nullable = true)\n",
      " |-- _c2: integer (nullable = true)\n",
      " |-- _c3: string (nullable = true)\n",
      " |-- _c4: string (nullable = true)\n",
      " |-- _c5: string (nullable = true)\n",
      " |-- _c6: string (nullable = true)\n",
      " |-- _c7: string (nullable = true)\n",
      " |-- _c8: string (nullable = true)\n",
      " |-- _c9: string (nullable = true)\n",
      " |-- _c10: string (nullable = true)\n",
      "\n"
     ]
    }
   ],
   "source": [
    "tdf.printSchema()"
   ]
  },
  {
   "cell_type": "code",
   "execution_count": 85,
   "id": "fcd0d521",
   "metadata": {},
   "outputs": [
    {
     "name": "stdout",
     "output_type": "stream",
     "text": [
      "+-------+-----------------+----+-------------------+--------------------+------------------+-----------+-------------------+------+------------------+-----------------+------+\n",
      "|summary|              _c0| _c1|                _c2|                 _c3|               _c4|        _c5|                _c6|   _c7|               _c8|              _c9|  _c10|\n",
      "+-------+-----------------+----+-------------------+--------------------+------------------+-----------+-------------------+------+------------------+-----------------+------+\n",
      "|  count|             1313|1313|               1313|                1313|              1313|        821|                754|    77|                69|              347|  1313|\n",
      "|   mean|            657.0|null|  0.341964965727342|                null| 31.19418104265403|       null|               null|2131.0|          101216.5| 7.69620253164557|  null|\n",
      "| stddev|379.1747618183468|null|0.47454867068071604|                null|14.747525275652208|       null|               null|  null|140047.94688015297|3.894871999310186|  null|\n",
      "|    min|                1| 1st|                  0|\"Brown, Mrs James...|            0.1667|  Cherbourg|      ?Havana, Cuba|  2131|                  |            (101)|female|\n",
      "|    max|             1313| 3rd|                  1|del Carlo, Mrs Se...|                NA|Southampton|Zurich, Switzerland|   F-?|            L15 1s|                D|  male|\n",
      "+-------+-----------------+----+-------------------+--------------------+------------------+-----------+-------------------+------+------------------+-----------------+------+\n",
      "\n"
     ]
    }
   ],
   "source": [
    "tdf.describe().show()"
   ]
  },
  {
   "cell_type": "code",
   "execution_count": 78,
   "id": "e5891471",
   "metadata": {},
   "outputs": [
    {
     "name": "stdout",
     "output_type": "stream",
     "text": [
      "+---+---+---+--------------------+-------+-----------+--------------------+-------+-----------------+-----+------+\n",
      "|_c0|_c1|_c2|                 _c3|    _c4|        _c5|                 _c6|    _c7|              _c8|  _c9|  _c10|\n",
      "+---+---+---+--------------------+-------+-----------+--------------------+-------+-----------------+-----+------+\n",
      "|  1|1st|  1|Allen, Miss Elisa...|29.0000|Southampton|        St Louis, MO|    B-5|       24160 L221|    2|female|\n",
      "|  2|1st|  0|Allison, Miss Hel...| 2.0000|Southampton|Montreal, PQ / Ch...|    C26|             null| null|female|\n",
      "|  3|1st|  0|Allison, Mr Hudso...|30.0000|Southampton|Montreal, PQ / Ch...|    C26|             null|(135)|  male|\n",
      "|  4|1st|  0|Allison, Mrs Huds...|25.0000|Southampton|Montreal, PQ / Ch...|    C26|             null| null|female|\n",
      "|  5|1st|  1|Allison, Master H...| 0.9167|Southampton|Montreal, PQ / Ch...|    C22|             null|   11|  male|\n",
      "|  6|1st|  1|  Anderson, Mr Harry|47.0000|Southampton|        New York, NY|   E-12|             null|    3|  male|\n",
      "|  7|1st|  1|Andrews, Miss Kor...|63.0000|Southampton|          Hudson, NY|    D-7|        13502 L77|   10|female|\n",
      "|  8|1st|  0|Andrews, Mr Thoma...|39.0000|Southampton|         Belfast, NI|   A-36|             null| null|  male|\n",
      "|  9|1st|  1|Appleton, Mrs Edw...|58.0000|Southampton| Bayside, Queens, NY|  C-101|             null|    2|female|\n",
      "| 10|1st|  0|Artagaveytia, Mr ...|71.0000|  Cherbourg| Montevideo, Uruguay|   null|             null| (22)|  male|\n",
      "| 11|1st|  0|Astor, Colonel Jo...|47.0000|  Cherbourg|        New York, NY|   null|17754 L224 10s 6d|(124)|  male|\n",
      "| 12|1st|  1|Astor, Mrs John J...|19.0000|  Cherbourg|        New York, NY|   null|17754 L224 10s 6d|    4|female|\n",
      "| 13|1st|  1|Aubert, Mrs Leont...|     NA|  Cherbourg|       Paris, France|   B-35|     17477 L69 6s|    9|female|\n",
      "| 14|1st|  1|Barkworth, Mr Alg...|     NA|Southampton|       Hessle, Yorks|   A-23|             null|    B|  male|\n",
      "| 15|1st|  0| Baumann, Mr John D.|     NA|Southampton|        New York, NY|   null|             null| null|  male|\n",
      "| 16|1st|  1|Baxter, Mrs James...|50.0000|  Cherbourg|        Montreal, PQ|B-58/60|             null|    6|female|\n",
      "| 17|1st|  0|Baxter, Mr Quigg ...|24.0000|  Cherbourg|        Montreal, PQ|B-58/60|             null| null|  male|\n",
      "| 18|1st|  0| Beattie, Mr Thomson|36.0000|  Cherbourg|        Winnipeg, MN|    C-6|             null| null|  male|\n",
      "| 19|1st|  1|Beckwith, Mr Rich...|37.0000|Southampton|        New York, NY|   D-35|             null|    5|  male|\n",
      "| 20|1st|  1|Beckwith, Mrs Ric...|47.0000|Southampton|        New York, NY|   D-35|             null|    5|female|\n",
      "+---+---+---+--------------------+-------+-----------+--------------------+-------+-----------------+-----+------+\n",
      "only showing top 20 rows\n",
      "\n"
     ]
    }
   ],
   "source": [
    "spark.sql(\"select * from titanic\").show()"
   ]
  },
  {
   "cell_type": "code",
   "execution_count": 79,
   "id": "9c71006d",
   "metadata": {},
   "outputs": [
    {
     "name": "stdout",
     "output_type": "stream",
     "text": [
      "+-----------------------------------------+---------------------+\n",
      "|split(_c3, , , -1)[1]                    |split(_c3, , , -1)[0]|\n",
      "+-----------------------------------------+---------------------+\n",
      "|Miss Elisabeth Walton                    |Allen                |\n",
      "|Miss Helen Loraine                       |Allison              |\n",
      "|Mr Hudson Joshua Creighton               |Allison              |\n",
      "|Mrs Hudson J.C. (Bessie Waldo Daniels)   |Allison              |\n",
      "|Master Hudson Trevor                     |Allison              |\n",
      "|Mr Harry                                 |Anderson             |\n",
      "|Miss Kornelia Theodosia                  |Andrews              |\n",
      "|Mr Thomas                                |Andrews              |\n",
      "|Mrs Edward Dale (Charlotte Lamson)       |Appleton             |\n",
      "|Mr Ramon                                 |Artagaveytia         |\n",
      "|Colonel John Jacob                       |Astor                |\n",
      "|Mrs John Jacob (Madeleine Talmadge Force)|Astor                |\n",
      "|Mrs Leontine Pauline                     |Aubert               |\n",
      "|Mr Algernon H.                           |Barkworth            |\n",
      "|Mr John D.                               |Baumann              |\n",
      "|Mrs James (Helene DeLaudeniere Chaput)   |Baxter               |\n",
      "|Mr Quigg Edmond                          |Baxter               |\n",
      "|Mr Thomson                               |Beattie              |\n",
      "|Mr Richard Leonard                       |Beckwith             |\n",
      "|Mrs Richard Leonard (Sallie Monypeny)    |Beckwith             |\n",
      "+-----------------------------------------+---------------------+\n",
      "only showing top 20 rows\n",
      "\n"
     ]
    }
   ],
   "source": [
    "spark.sql(\"select split(_c3,', ')[1],split(_c3,', ')[0] from titanic\").show(truncate=False)"
   ]
  },
  {
   "cell_type": "markdown",
   "id": "e0280505",
   "metadata": {},
   "source": [
    "#### 1: Find the average age of people who died and who survived\n",
    "\n",
    "\n",
    "\n",
    "\n",
    "\n",
    "\n",
    "\n",
    "\n",
    "\n",
    "\n",
    "\n"
   ]
  },
  {
   "cell_type": "code",
   "execution_count": 80,
   "id": "9be273be",
   "metadata": {},
   "outputs": [
    {
     "name": "stdout",
     "output_type": "stream",
     "text": [
      "+-----------------+\n",
      "|         avg(_c4)|\n",
      "+-----------------+\n",
      "|32.24810596590909|\n",
      "+-----------------+\n",
      "\n"
     ]
    }
   ],
   "source": [
    "spark.sql(\"select avg(_c4) from titanic where _c2=0\").show()"
   ]
  },
  {
   "cell_type": "markdown",
   "id": "c8ec6682",
   "metadata": {},
   "source": [
    "#### 2:\tNumber of males and females survived in following age range: (age <= 20), (20 < age <= 50) and (age > 50 and age = NA)"
   ]
  },
  {
   "cell_type": "code",
   "execution_count": 81,
   "id": "1ee0b1c8",
   "metadata": {},
   "outputs": [
    {
     "name": "stdout",
     "output_type": "stream",
     "text": [
      "+---------+------+---+\n",
      "|age_range|  _c10|cnt|\n",
      "+---------+------+---+\n",
      "|    20-50|female|151|\n",
      "|    20-50|  male|269|\n",
      "|    50_NA|female|245|\n",
      "|    50_NA|  male|503|\n",
      "|     <=20|female| 67|\n",
      "|     <=20|  male| 78|\n",
      "+---------+------+---+\n",
      "\n"
     ]
    }
   ],
   "source": [
    "spark.sql(\"select CASE WHEN _c4<=20 THEN '<=20' WHEN (_c4>20 and _c4<= 50) THEN '20-50' ELSE '50_NA' END as age_range,_c10, count(*) as cnt  from titanic group by age_range,_c10 order by age_range,_c10\" ).show()"
   ]
  },
  {
   "cell_type": "code",
   "execution_count": 82,
   "id": "e26dcfb1",
   "metadata": {},
   "outputs": [
    {
     "name": "stdout",
     "output_type": "stream",
     "text": [
      "+------+----------+\n",
      "|  _c10|count(_c4)|\n",
      "+------+----------+\n",
      "|female|        67|\n",
      "|  male|        78|\n",
      "+------+----------+\n",
      "\n"
     ]
    }
   ],
   "source": [
    "spark.sql(\"select _c10,count(_c4) from titanic where _c4<=20 group by _c10\").show()"
   ]
  },
  {
   "cell_type": "markdown",
   "id": "592adc86",
   "metadata": {},
   "source": [
    "#### 3\tembarked locations and their count"
   ]
  },
  {
   "cell_type": "code",
   "execution_count": 99,
   "id": "53ca0762",
   "metadata": {},
   "outputs": [
    {
     "name": "stdout",
     "output_type": "stream",
     "text": [
      "+-----------+---+\n",
      "|        _c5|cnt|\n",
      "+-----------+---+\n",
      "|       null|  0|\n",
      "| Queenstown| 45|\n",
      "|Southampton|573|\n",
      "|  Cherbourg|203|\n",
      "+-----------+---+\n",
      "\n"
     ]
    }
   ],
   "source": [
    "spark.sql(\"select _c5, count(_c5) as cnt from titanic group by _c5\").show()"
   ]
  },
  {
   "cell_type": "code",
   "execution_count": 108,
   "id": "8e37ca25",
   "metadata": {},
   "outputs": [
    {
     "name": "stdout",
     "output_type": "stream",
     "text": [
      "+-----------+-----------------------------------------------------+\n",
      "|        _c5|count(CASE WHEN (_c5 IS NULL) THEN NULL ELSE _c5 END)|\n",
      "+-----------+-----------------------------------------------------+\n",
      "|       null|                                                  492|\n",
      "| Queenstown|                                                   45|\n",
      "|Southampton|                                                  573|\n",
      "|  Cherbourg|                                                  203|\n",
      "+-----------+-----------------------------------------------------+\n",
      "\n"
     ]
    }
   ],
   "source": [
    "spark.sql(\"select _c5,count(case when isnull(_c5) then 'NULL' else _c5 end) from titanic group by _c5\").show()"
   ]
  },
  {
   "cell_type": "markdown",
   "id": "2eee4dd6",
   "metadata": {},
   "source": [
    "#### 4: Number of people survived in each class"
   ]
  },
  {
   "cell_type": "code",
   "execution_count": 64,
   "id": "48bfd874",
   "metadata": {},
   "outputs": [
    {
     "name": "stdout",
     "output_type": "stream",
     "text": [
      "+---+--------+\n",
      "|_c1|sum(_c2)|\n",
      "+---+--------+\n",
      "|2nd|   119.0|\n",
      "|1st|   193.0|\n",
      "|3rd|   137.0|\n",
      "+---+--------+\n",
      "\n"
     ]
    }
   ],
   "source": [
    "spark.sql(\"select _c1,sum(_c2) from titanic group by _c1\").show()"
   ]
  },
  {
   "cell_type": "markdown",
   "id": "dc469e79",
   "metadata": {},
   "source": [
    "#### 5: Number of males survived whose age is less than 30 and travelling in 2nd class"
   ]
  },
  {
   "cell_type": "code",
   "execution_count": 68,
   "id": "7335dfad",
   "metadata": {},
   "outputs": [
    {
     "name": "stdout",
     "output_type": "stream",
     "text": [
      "+--------+\n",
      "|count(1)|\n",
      "+--------+\n",
      "|      69|\n",
      "+--------+\n",
      "\n"
     ]
    }
   ],
   "source": [
    "spark.sql(\"select count(*) from titanic where _c10='male' and _c4<30 and _c1='2nd'\").show()"
   ]
  },
  {
   "cell_type": "code",
   "execution_count": 93,
   "id": "341341d5",
   "metadata": {},
   "outputs": [
    {
     "name": "stdout",
     "output_type": "stream",
     "text": [
      "+--------+\n",
      "|count(1)|\n",
      "+--------+\n",
      "|      69|\n",
      "+--------+\n",
      "\n"
     ]
    }
   ],
   "source": [
    "spark.sql(\"select count(*) from titanic where _c10='male' and _c4<30 and _c1='2nd'\").show()\n"
   ]
  },
  {
   "cell_type": "code",
   "execution_count": 95,
   "id": "1499b4dc",
   "metadata": {},
   "outputs": [
    {
     "data": {
      "text/html": [
       "<div>\n",
       "<style scoped>\n",
       "    .dataframe tbody tr th:only-of-type {\n",
       "        vertical-align: middle;\n",
       "    }\n",
       "\n",
       "    .dataframe tbody tr th {\n",
       "        vertical-align: top;\n",
       "    }\n",
       "\n",
       "    .dataframe thead th {\n",
       "        text-align: right;\n",
       "    }\n",
       "</style>\n",
       "<table border=\"1\" class=\"dataframe\">\n",
       "  <thead>\n",
       "    <tr style=\"text-align: right;\">\n",
       "      <th>summary</th>\n",
       "      <th>count</th>\n",
       "      <th>mean</th>\n",
       "      <th>stddev</th>\n",
       "      <th>min</th>\n",
       "      <th>max</th>\n",
       "    </tr>\n",
       "  </thead>\n",
       "  <tbody>\n",
       "    <tr>\n",
       "      <th>_c0</th>\n",
       "      <td>1313</td>\n",
       "      <td>657.0</td>\n",
       "      <td>379.1747618183468</td>\n",
       "      <td>1</td>\n",
       "      <td>1313</td>\n",
       "    </tr>\n",
       "    <tr>\n",
       "      <th>_c1</th>\n",
       "      <td>1313</td>\n",
       "      <td>None</td>\n",
       "      <td>None</td>\n",
       "      <td>1st</td>\n",
       "      <td>3rd</td>\n",
       "    </tr>\n",
       "    <tr>\n",
       "      <th>_c2</th>\n",
       "      <td>1313</td>\n",
       "      <td>0.341964965727342</td>\n",
       "      <td>0.47454867068071604</td>\n",
       "      <td>0</td>\n",
       "      <td>1</td>\n",
       "    </tr>\n",
       "    <tr>\n",
       "      <th>_c3</th>\n",
       "      <td>1313</td>\n",
       "      <td>None</td>\n",
       "      <td>None</td>\n",
       "      <td>\"Brown, Mrs James Joseph (Margaret \"Molly\" Tob...</td>\n",
       "      <td>del Carlo, Mrs Sebastiano (Argenia Genovese)</td>\n",
       "    </tr>\n",
       "    <tr>\n",
       "      <th>_c4</th>\n",
       "      <td>1313</td>\n",
       "      <td>31.19418104265403</td>\n",
       "      <td>14.747525275652208</td>\n",
       "      <td>0.1667</td>\n",
       "      <td>NA</td>\n",
       "    </tr>\n",
       "    <tr>\n",
       "      <th>_c5</th>\n",
       "      <td>821</td>\n",
       "      <td>None</td>\n",
       "      <td>None</td>\n",
       "      <td>Cherbourg</td>\n",
       "      <td>Southampton</td>\n",
       "    </tr>\n",
       "    <tr>\n",
       "      <th>_c6</th>\n",
       "      <td>754</td>\n",
       "      <td>None</td>\n",
       "      <td>None</td>\n",
       "      <td>?Havana, Cuba</td>\n",
       "      <td>Zurich, Switzerland</td>\n",
       "    </tr>\n",
       "    <tr>\n",
       "      <th>_c7</th>\n",
       "      <td>77</td>\n",
       "      <td>2131.0</td>\n",
       "      <td>None</td>\n",
       "      <td>2131</td>\n",
       "      <td>F-?</td>\n",
       "    </tr>\n",
       "    <tr>\n",
       "      <th>_c8</th>\n",
       "      <td>69</td>\n",
       "      <td>101216.5</td>\n",
       "      <td>140047.94688015297</td>\n",
       "      <td></td>\n",
       "      <td>L15 1s</td>\n",
       "    </tr>\n",
       "    <tr>\n",
       "      <th>_c9</th>\n",
       "      <td>347</td>\n",
       "      <td>7.69620253164557</td>\n",
       "      <td>3.894871999310186</td>\n",
       "      <td>(101)</td>\n",
       "      <td>D</td>\n",
       "    </tr>\n",
       "    <tr>\n",
       "      <th>_c10</th>\n",
       "      <td>1313</td>\n",
       "      <td>None</td>\n",
       "      <td>None</td>\n",
       "      <td>female</td>\n",
       "      <td>male</td>\n",
       "    </tr>\n",
       "  </tbody>\n",
       "</table>\n",
       "</div>"
      ],
      "text/plain": [
       "summary count               mean               stddev  \\\n",
       "_c0      1313              657.0    379.1747618183468   \n",
       "_c1      1313               None                 None   \n",
       "_c2      1313  0.341964965727342  0.47454867068071604   \n",
       "_c3      1313               None                 None   \n",
       "_c4      1313  31.19418104265403   14.747525275652208   \n",
       "_c5       821               None                 None   \n",
       "_c6       754               None                 None   \n",
       "_c7        77             2131.0                 None   \n",
       "_c8        69           101216.5   140047.94688015297   \n",
       "_c9       347   7.69620253164557    3.894871999310186   \n",
       "_c10     1313               None                 None   \n",
       "\n",
       "summary                                                min  \\\n",
       "_c0                                                      1   \n",
       "_c1                                                    1st   \n",
       "_c2                                                      0   \n",
       "_c3      \"Brown, Mrs James Joseph (Margaret \"Molly\" Tob...   \n",
       "_c4                                                 0.1667   \n",
       "_c5                                              Cherbourg   \n",
       "_c6                                          ?Havana, Cuba   \n",
       "_c7                                                   2131   \n",
       "_c8                                                          \n",
       "_c9                                                  (101)   \n",
       "_c10                                                female   \n",
       "\n",
       "summary                                           max  \n",
       "_c0                                              1313  \n",
       "_c1                                               3rd  \n",
       "_c2                                                 1  \n",
       "_c3      del Carlo, Mrs Sebastiano (Argenia Genovese)  \n",
       "_c4                                                NA  \n",
       "_c5                                       Southampton  \n",
       "_c6                               Zurich, Switzerland  \n",
       "_c7                                               F-?  \n",
       "_c8                                            L15 1s  \n",
       "_c9                                                 D  \n",
       "_c10                                             male  "
      ]
     },
     "execution_count": 95,
     "metadata": {},
     "output_type": "execute_result"
    }
   ],
   "source": [
    "tdf.describe().toPandas().set_index('summary').transpose()"
   ]
  },
  {
   "cell_type": "code",
   "execution_count": null,
   "id": "611bdaf6",
   "metadata": {},
   "outputs": [],
   "source": []
  }
 ],
 "metadata": {
  "kernelspec": {
   "display_name": "Python 3 (ipykernel)",
   "language": "python",
   "name": "python3"
  },
  "language_info": {
   "codemirror_mode": {
    "name": "ipython",
    "version": 3
   },
   "file_extension": ".py",
   "mimetype": "text/x-python",
   "name": "python",
   "nbconvert_exporter": "python",
   "pygments_lexer": "ipython3",
   "version": "3.10.6"
  }
 },
 "nbformat": 4,
 "nbformat_minor": 5
}
