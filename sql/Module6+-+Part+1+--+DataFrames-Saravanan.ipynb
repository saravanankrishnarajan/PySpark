{
 "cells": [
  {
   "cell_type": "code",
   "execution_count": 9,
   "id": "667e6939",
   "metadata": {},
   "outputs": [],
   "source": [
    "import os\n",
    "from pyspark.sql import SparkSession, SQLContext\n",
    "from pyspark import SparkContext, SparkConf"
   ]
  },
  {
   "cell_type": "code",
   "execution_count": 10,
   "id": "cd392da0",
   "metadata": {},
   "outputs": [],
   "source": [
    "from pyspark.sql.functions import explode\n",
    "from pyspark.sql.functions import countDistinct, avg\n",
    "from pyspark.sql.functions import dayofmonth, dayofyear, year, month, hour, weekofyear, date_format\n",
    "from pyspark.sql.functions import col as func_col"
   ]
  },
  {
   "cell_type": "code",
   "execution_count": 11,
   "id": "e12479c3",
   "metadata": {},
   "outputs": [
    {
     "data": {
      "text/plain": [
       "'Saravanan : Spark SQL'"
      ]
     },
     "execution_count": 11,
     "metadata": {},
     "output_type": "execute_result"
    }
   ],
   "source": [
    "app_name = 'Saravanan : Spark SQL'\n",
    "app_name"
   ]
  },
  {
   "cell_type": "code",
   "execution_count": 12,
   "id": "e8624e45",
   "metadata": {},
   "outputs": [],
   "source": [
    "spark = SparkSession.builder.appName(app_name).getOrCreate()"
   ]
  },
  {
   "cell_type": "code",
   "execution_count": 13,
   "id": "233a627a",
   "metadata": {},
   "outputs": [],
   "source": [
    "def get_hdfs_filepath(file_name):\n",
    "    my_hdfs = \"hdfs://localhost:9000/module6_datasets/DataSets/\"\n",
    "    #my_hdfs = \"/module6_datasets/DataSets/\"\n",
    "    return os.path.join(my_hdfs, file_name)"
   ]
  },
  {
   "cell_type": "code",
   "execution_count": 14,
   "id": "f2b3d7e8",
   "metadata": {},
   "outputs": [],
   "source": [
    "EMP_JSON = get_hdfs_filepath('emp.json')\n",
    "EMP_CSV = get_hdfs_filepath('emp.csv') # comma delimited\n",
    "DEPT_CSV = get_hdfs_filepath('dept.csv')\n",
    "\n",
    "PEOPLE_JSON = get_hdfs_filepath('people.json')\n",
    "GOOG_CSV = get_hdfs_filepath('goog_stock.csv')\n",
    "NESTED_JSON = get_hdfs_filepath('nested.json')"
   ]
  },
  {
   "cell_type": "code",
   "execution_count": 15,
   "id": "6c286f5b",
   "metadata": {},
   "outputs": [
    {
     "name": "stdout",
     "output_type": "stream",
     "text": [
      "hdfs://localhost:9000/module6_datasets/DataSets/emp.json\n"
     ]
    }
   ],
   "source": [
    "print(EMP_JSON)"
   ]
  },
  {
   "cell_type": "code",
   "execution_count": 16,
   "id": "3c9588ca",
   "metadata": {},
   "outputs": [],
   "source": [
    "emp_json_df = spark.read.json(EMP_JSON)"
   ]
  },
  {
   "cell_type": "code",
   "execution_count": 17,
   "id": "e663d2d2",
   "metadata": {},
   "outputs": [
    {
     "name": "stdout",
     "output_type": "stream",
     "text": [
      "+---+---+------+------+\n",
      "|age| id|  name|salary|\n",
      "+---+---+------+------+\n",
      "| 30|  1|  Bill| 10000|\n",
      "| 40|  2| Steve| 12000|\n",
      "| 50|  3|Donald| 14000|\n",
      "| 60|  4|  Modi| 18000|\n",
      "| 70|  5|Sunder| 22000|\n",
      "| 80|  6|  Jeff| 26000|\n",
      "| 90|  7|Sergey| 30000|\n",
      "+---+---+------+------+\n",
      "\n"
     ]
    }
   ],
   "source": [
    "emp_json_df.show()"
   ]
  },
  {
   "cell_type": "code",
   "execution_count": 18,
   "id": "4d9dc8e6",
   "metadata": {},
   "outputs": [
    {
     "data": {
      "text/plain": [
       "DataFrame[summary: string, age: string, id: string, name: string, salary: string]"
      ]
     },
     "execution_count": 18,
     "metadata": {},
     "output_type": "execute_result"
    }
   ],
   "source": [
    "emp_json_df.describe()"
   ]
  },
  {
   "cell_type": "code",
   "execution_count": 19,
   "id": "146f3837",
   "metadata": {},
   "outputs": [
    {
     "name": "stdout",
     "output_type": "stream",
     "text": [
      "+-------+------------------+-----------------+------+-----------------+\n",
      "|summary|               age|               id|  name|           salary|\n",
      "+-------+------------------+-----------------+------+-----------------+\n",
      "|  count|                 7|                7|     7|                7|\n",
      "|   mean|              60.0|              4.0|  null|18857.14285714286|\n",
      "| stddev|21.602468994692867|2.160246899469287|  null|7470.577207252718|\n",
      "|    min|                30|                1|  Bill|            10000|\n",
      "|    max|                90|                7|Sunder|            30000|\n",
      "+-------+------------------+-----------------+------+-----------------+\n",
      "\n"
     ]
    }
   ],
   "source": [
    "emp_json_df.describe().show()"
   ]
  },
  {
   "cell_type": "code",
   "execution_count": 20,
   "id": "2a880ca8",
   "metadata": {},
   "outputs": [
    {
     "data": {
      "text/plain": [
       "[Row(age=30, id=1, name='Bill', salary=10000),\n",
       " Row(age=40, id=2, name='Steve', salary=12000)]"
      ]
     },
     "execution_count": 20,
     "metadata": {},
     "output_type": "execute_result"
    }
   ],
   "source": [
    "emp_json_df.head(2)"
   ]
  },
  {
   "cell_type": "code",
   "execution_count": 21,
   "id": "19ea2beb",
   "metadata": {},
   "outputs": [
    {
     "data": {
      "text/plain": [
       "['age', 'id', 'name', 'salary']"
      ]
     },
     "execution_count": 21,
     "metadata": {},
     "output_type": "execute_result"
    }
   ],
   "source": [
    "emp_json_df.columns"
   ]
  },
  {
   "cell_type": "code",
   "execution_count": 22,
   "id": "48260375",
   "metadata": {},
   "outputs": [
    {
     "name": "stdout",
     "output_type": "stream",
     "text": [
      "root\n",
      " |-- age: long (nullable = true)\n",
      " |-- id: long (nullable = true)\n",
      " |-- name: string (nullable = true)\n",
      " |-- salary: long (nullable = true)\n",
      "\n"
     ]
    }
   ],
   "source": [
    "emp_json_df.printSchema()"
   ]
  },
  {
   "cell_type": "code",
   "execution_count": 23,
   "id": "db088372",
   "metadata": {},
   "outputs": [
    {
     "data": {
      "text/plain": [
       "Column<'salary'>"
      ]
     },
     "execution_count": 23,
     "metadata": {},
     "output_type": "execute_result"
    }
   ],
   "source": [
    "emp_json_df['salary']"
   ]
  },
  {
   "cell_type": "code",
   "execution_count": 24,
   "id": "f9717c83",
   "metadata": {},
   "outputs": [
    {
     "ename": "TypeError",
     "evalue": "'Column' object is not callable",
     "output_type": "error",
     "traceback": [
      "\u001b[1;31m---------------------------------------------------------------------------\u001b[0m",
      "\u001b[1;31mTypeError\u001b[0m                                 Traceback (most recent call last)",
      "\u001b[1;32m~\\AppData\\Local\\Temp\\ipykernel_25160\\382707131.py\u001b[0m in \u001b[0;36m<module>\u001b[1;34m\u001b[0m\n\u001b[1;32m----> 1\u001b[1;33m \u001b[0memp_json_df\u001b[0m\u001b[1;33m[\u001b[0m\u001b[1;34m'salary'\u001b[0m\u001b[1;33m]\u001b[0m\u001b[1;33m.\u001b[0m\u001b[0mshow\u001b[0m\u001b[1;33m(\u001b[0m\u001b[1;33m)\u001b[0m\u001b[1;33m\u001b[0m\u001b[1;33m\u001b[0m\u001b[0m\n\u001b[0m",
      "\u001b[1;31mTypeError\u001b[0m: 'Column' object is not callable"
     ]
    }
   ],
   "source": [
    "emp_json_df['salary'].show()"
   ]
  },
  {
   "cell_type": "code",
   "execution_count": 25,
   "id": "0657f8f8",
   "metadata": {},
   "outputs": [
    {
     "data": {
      "text/plain": [
       "DataFrame[salary: bigint]"
      ]
     },
     "execution_count": 25,
     "metadata": {},
     "output_type": "execute_result"
    }
   ],
   "source": [
    "emp_json_df.select(\"salary\")"
   ]
  },
  {
   "cell_type": "code",
   "execution_count": 26,
   "id": "ea45cf3d",
   "metadata": {},
   "outputs": [
    {
     "name": "stdout",
     "output_type": "stream",
     "text": [
      "+------+\n",
      "|salary|\n",
      "+------+\n",
      "| 10000|\n",
      "| 12000|\n",
      "| 14000|\n",
      "| 18000|\n",
      "| 22000|\n",
      "| 26000|\n",
      "| 30000|\n",
      "+------+\n",
      "\n"
     ]
    }
   ],
   "source": [
    "emp_json_df.select(\"salary\").show()"
   ]
  },
  {
   "cell_type": "code",
   "execution_count": 28,
   "id": "0ec4240d",
   "metadata": {},
   "outputs": [
    {
     "data": {
      "text/plain": [
       "[Row(salary=10000), Row(salary=12000)]"
      ]
     },
     "execution_count": 28,
     "metadata": {},
     "output_type": "execute_result"
    }
   ],
   "source": [
    "emp_json_df.select(['salary']).head(2)"
   ]
  },
  {
   "cell_type": "code",
   "execution_count": 29,
   "id": "c812d4ab",
   "metadata": {},
   "outputs": [
    {
     "name": "stdout",
     "output_type": "stream",
     "text": [
      "+------+\n",
      "|salary|\n",
      "+------+\n",
      "| 10000|\n",
      "| 12000|\n",
      "+------+\n",
      "only showing top 2 rows\n",
      "\n"
     ]
    }
   ],
   "source": [
    "emp_json_df.select(['salary']).show(2)"
   ]
  },
  {
   "cell_type": "code",
   "execution_count": 30,
   "id": "2ae45747",
   "metadata": {},
   "outputs": [
    {
     "data": {
      "text/plain": [
       "[Row(salary=26000), Row(salary=30000)]"
      ]
     },
     "execution_count": 30,
     "metadata": {},
     "output_type": "execute_result"
    }
   ],
   "source": [
    "emp_json_df.select(['salary']).tail(2)"
   ]
  },
  {
   "cell_type": "code",
   "execution_count": 31,
   "id": "a3457980",
   "metadata": {},
   "outputs": [
    {
     "data": {
      "text/plain": [
       "pyspark.sql.column.Column"
      ]
     },
     "execution_count": 31,
     "metadata": {},
     "output_type": "execute_result"
    }
   ],
   "source": [
    "type(emp_json_df['salary'])"
   ]
  },
  {
   "cell_type": "markdown",
   "id": "c27ab5d0",
   "metadata": {},
   "source": [
    "### Reading Nested  JSON"
   ]
  },
  {
   "cell_type": "code",
   "execution_count": 33,
   "id": "b48cdd70",
   "metadata": {},
   "outputs": [],
   "source": [
    "nested = spark.read.json(NESTED_JSON)"
   ]
  },
  {
   "cell_type": "code",
   "execution_count": 34,
   "id": "8d17bd6a",
   "metadata": {},
   "outputs": [
    {
     "name": "stdout",
     "output_type": "stream",
     "text": [
      "root\n",
      " |-- age: long (nullable = true)\n",
      " |-- id: long (nullable = true)\n",
      " |-- name: string (nullable = true)\n",
      " |-- phones: array (nullable = true)\n",
      " |    |-- element: long (containsNull = true)\n",
      " |-- reporting: struct (nullable = true)\n",
      " |    |-- manager: string (nullable = true)\n",
      " |    |-- rm: string (nullable = true)\n",
      " |-- salary: long (nullable = true)\n",
      "\n"
     ]
    }
   ],
   "source": [
    "nested.printSchema()"
   ]
  },
  {
   "cell_type": "code",
   "execution_count": 35,
   "id": "09192bd8",
   "metadata": {},
   "outputs": [
    {
     "name": "stdout",
     "output_type": "stream",
     "text": [
      "+---+---+----+--------------+--------------+------+\n",
      "|age| id|name|        phones|     reporting|salary|\n",
      "+---+---+----+--------------+--------------+------+\n",
      "| 30|  1|Bill|[12345, 56789]|{Steve, Brian}| 10000|\n",
      "+---+---+----+--------------+--------------+------+\n",
      "\n"
     ]
    }
   ],
   "source": [
    "nested.show()"
   ]
  },
  {
   "cell_type": "code",
   "execution_count": 36,
   "id": "18bbad9a",
   "metadata": {},
   "outputs": [
    {
     "name": "stdout",
     "output_type": "stream",
     "text": [
      "+--------------+------+\n",
      "|        phones|salary|\n",
      "+--------------+------+\n",
      "|[12345, 56789]| 10000|\n",
      "+--------------+------+\n",
      "\n"
     ]
    }
   ],
   "source": [
    "nested.select(['phones','salary']).show()"
   ]
  },
  {
   "cell_type": "code",
   "execution_count": 37,
   "id": "729c12a5",
   "metadata": {},
   "outputs": [
    {
     "name": "stdout",
     "output_type": "stream",
     "text": [
      "+-----+---+\n",
      "|phone|age|\n",
      "+-----+---+\n",
      "|12345| 30|\n",
      "|56789| 30|\n",
      "+-----+---+\n",
      "\n"
     ]
    }
   ],
   "source": [
    "nested.select(explode('phones').alias(\"phone\"),'age').show()"
   ]
  },
  {
   "cell_type": "code",
   "execution_count": 38,
   "id": "3658f97a",
   "metadata": {},
   "outputs": [
    {
     "name": "stdout",
     "output_type": "stream",
     "text": [
      "+--------------+---+------+\n",
      "|     reporting|age|salary|\n",
      "+--------------+---+------+\n",
      "|{Steve, Brian}| 30| 10000|\n",
      "+--------------+---+------+\n",
      "\n"
     ]
    }
   ],
   "source": [
    "nested.select('reporting','age','salary').show()"
   ]
  },
  {
   "cell_type": "code",
   "execution_count": 39,
   "id": "12b7d569",
   "metadata": {},
   "outputs": [
    {
     "name": "stdout",
     "output_type": "stream",
     "text": [
      "+--------------+---+---+------+\n",
      "|           tmp| id|age|salary|\n",
      "+--------------+---+---+------+\n",
      "|{Steve, Brian}|  1| 30| 10000|\n",
      "+--------------+---+---+------+\n",
      "\n"
     ]
    }
   ],
   "source": [
    "nested.select(nested['reporting'].alias('tmp'),'id','age','salary').show()"
   ]
  },
  {
   "cell_type": "code",
   "execution_count": 40,
   "id": "010a00b6",
   "metadata": {},
   "outputs": [
    {
     "name": "stdout",
     "output_type": "stream",
     "text": [
      "+-------+-----+---+---+------+\n",
      "|manager|   rm| id|age|salary|\n",
      "+-------+-----+---+---+------+\n",
      "|  Steve|Brian|  1| 30| 10000|\n",
      "+-------+-----+---+---+------+\n",
      "\n"
     ]
    }
   ],
   "source": [
    "nested.select(nested['reporting'].alias('tmp'),'id','age','salary').select('tmp.*','id','age','salary').show()"
   ]
  },
  {
   "cell_type": "code",
   "execution_count": 41,
   "id": "8641794b",
   "metadata": {},
   "outputs": [
    {
     "name": "stdout",
     "output_type": "stream",
     "text": [
      "+-------+-----+---+---+------+\n",
      "|manager|   rm| id|age|salary|\n",
      "+-------+-----+---+---+------+\n",
      "|  Steve|Brian|  1| 30| 10000|\n",
      "+-------+-----+---+---+------+\n",
      "\n"
     ]
    }
   ],
   "source": [
    "nested.select('reporting.*','id','age','salary').show()"
   ]
  },
  {
   "cell_type": "code",
   "execution_count": 42,
   "id": "883a8495",
   "metadata": {},
   "outputs": [
    {
     "name": "stdout",
     "output_type": "stream",
     "text": [
      "+---+---+----+--------------+--------------+------+\n",
      "|age| id|name|        phones|     reporting|salary|\n",
      "+---+---+----+--------------+--------------+------+\n",
      "| 30|  1|Bill|[12345, 56789]|{Steve, Brian}| 10000|\n",
      "+---+---+----+--------------+--------------+------+\n",
      "\n"
     ]
    }
   ],
   "source": [
    "nested.select('*').show()"
   ]
  },
  {
   "cell_type": "code",
   "execution_count": 45,
   "id": "deca5ece",
   "metadata": {},
   "outputs": [
    {
     "name": "stdout",
     "output_type": "stream",
     "text": [
      "+---+---+-----+-------+-----+------+\n",
      "|age| id|Phone|manager|   rm|salary|\n",
      "+---+---+-----+-------+-----+------+\n",
      "| 30|  1|12345|  Steve|Brian| 10000|\n",
      "| 30|  1|56789|  Steve|Brian| 10000|\n",
      "+---+---+-----+-------+-----+------+\n",
      "\n"
     ]
    }
   ],
   "source": [
    "nested.select('age','id',explode('phones').alias('Phone'),'reporting.*','salary').show()"
   ]
  },
  {
   "cell_type": "markdown",
   "id": "ede9474f",
   "metadata": {},
   "source": [
    "### Single Column DF"
   ]
  },
  {
   "cell_type": "code",
   "execution_count": 46,
   "id": "dd318454",
   "metadata": {},
   "outputs": [
    {
     "name": "stdout",
     "output_type": "stream",
     "text": [
      "+---+---+------+------+\n",
      "|age| id|  name|salary|\n",
      "+---+---+------+------+\n",
      "| 30|  1|  Bill| 10000|\n",
      "| 40|  2| Steve| 12000|\n",
      "| 50|  3|Donald| 14000|\n",
      "| 60|  4|  Modi| 18000|\n",
      "| 70|  5|Sunder| 22000|\n",
      "| 80|  6|  Jeff| 26000|\n",
      "| 90|  7|Sergey| 30000|\n",
      "+---+---+------+------+\n",
      "\n"
     ]
    }
   ],
   "source": [
    "emp_json_df.show()"
   ]
  },
  {
   "cell_type": "code",
   "execution_count": 47,
   "id": "9c6f5385",
   "metadata": {},
   "outputs": [
    {
     "data": {
      "text/plain": [
       "Row(age=30, id=1, name='Bill', salary=10000)"
      ]
     },
     "execution_count": 47,
     "metadata": {},
     "output_type": "execute_result"
    }
   ],
   "source": [
    "emp_json_df.head()"
   ]
  },
  {
   "cell_type": "code",
   "execution_count": 48,
   "id": "d1ad0a17",
   "metadata": {},
   "outputs": [
    {
     "data": {
      "text/plain": [
       "[Row(age=30, id=1, name='Bill', salary=10000),\n",
       " Row(age=40, id=2, name='Steve', salary=12000),\n",
       " Row(age=50, id=3, name='Donald', salary=14000)]"
      ]
     },
     "execution_count": 48,
     "metadata": {},
     "output_type": "execute_result"
    }
   ],
   "source": [
    "emp_json_df.head(3)"
   ]
  },
  {
   "cell_type": "code",
   "execution_count": 49,
   "id": "6911764f",
   "metadata": {},
   "outputs": [
    {
     "name": "stdout",
     "output_type": "stream",
     "text": [
      "+---+---+-----+------+\n",
      "|age| id| name|salary|\n",
      "+---+---+-----+------+\n",
      "| 30|  1| Bill| 10000|\n",
      "| 40|  2|Steve| 12000|\n",
      "+---+---+-----+------+\n",
      "only showing top 2 rows\n",
      "\n"
     ]
    }
   ],
   "source": [
    "emp_json_df.show(2,truncate=True)"
   ]
  },
  {
   "cell_type": "code",
   "execution_count": 50,
   "id": "104d90ba",
   "metadata": {},
   "outputs": [
    {
     "data": {
      "text/plain": [
       "pyspark.sql.dataframe.DataFrame"
      ]
     },
     "execution_count": 50,
     "metadata": {},
     "output_type": "execute_result"
    }
   ],
   "source": [
    "type(emp_json_df)"
   ]
  },
  {
   "cell_type": "code",
   "execution_count": 51,
   "id": "f381f26f",
   "metadata": {},
   "outputs": [
    {
     "data": {
      "text/plain": [
       "pyspark.sql.types.Row"
      ]
     },
     "execution_count": 51,
     "metadata": {},
     "output_type": "execute_result"
    }
   ],
   "source": [
    "type(emp_json_df.head(2)[0])\n"
   ]
  },
  {
   "cell_type": "code",
   "execution_count": 52,
   "id": "eabc85f8",
   "metadata": {},
   "outputs": [
    {
     "data": {
      "text/plain": [
       "Row(age=30, id=1, name='Bill', salary=10000)"
      ]
     },
     "execution_count": 52,
     "metadata": {},
     "output_type": "execute_result"
    }
   ],
   "source": [
    "emp_json_df.head(2)[0]"
   ]
  },
  {
   "cell_type": "markdown",
   "id": "d949b99d",
   "metadata": {},
   "source": [
    "### Multiple Columns"
   ]
  },
  {
   "cell_type": "code",
   "execution_count": 55,
   "id": "dcfd1bb8",
   "metadata": {},
   "outputs": [
    {
     "data": {
      "text/plain": [
       "DataFrame[age: bigint, name: string]"
      ]
     },
     "execution_count": 55,
     "metadata": {},
     "output_type": "execute_result"
    }
   ],
   "source": [
    "emp_json_df.select(['age','name'])"
   ]
  },
  {
   "cell_type": "code",
   "execution_count": 56,
   "id": "5082b9f0",
   "metadata": {},
   "outputs": [
    {
     "name": "stdout",
     "output_type": "stream",
     "text": [
      "+---+------+\n",
      "|age|  name|\n",
      "+---+------+\n",
      "| 30|  Bill|\n",
      "| 40| Steve|\n",
      "| 50|Donald|\n",
      "| 60|  Modi|\n",
      "| 70|Sunder|\n",
      "| 80|  Jeff|\n",
      "| 90|Sergey|\n",
      "+---+------+\n",
      "\n"
     ]
    }
   ],
   "source": [
    "emp_json_df.select(['age','name']).show()"
   ]
  },
  {
   "cell_type": "code",
   "execution_count": 57,
   "id": "b62aaa44",
   "metadata": {},
   "outputs": [
    {
     "data": {
      "text/plain": [
       "Column<'age'>"
      ]
     },
     "execution_count": 57,
     "metadata": {},
     "output_type": "execute_result"
    }
   ],
   "source": [
    "emp_json_df.age"
   ]
  },
  {
   "cell_type": "code",
   "execution_count": 58,
   "id": "5fa31972",
   "metadata": {},
   "outputs": [
    {
     "name": "stdout",
     "output_type": "stream",
     "text": [
      "+-------+------+-------+\n",
      "|emp_age|  name|rev_sal|\n",
      "+-------+------+-------+\n",
      "|     30|  Bill|10500.0|\n",
      "|     40| Steve|12600.0|\n",
      "|     50|Donald|14700.0|\n",
      "|     60|  Modi|18900.0|\n",
      "|     70|Sunder|23100.0|\n",
      "|     80|  Jeff|27300.0|\n",
      "|     90|Sergey|31500.0|\n",
      "+-------+------+-------+\n",
      "\n"
     ]
    }
   ],
   "source": [
    "emp_json_df.select(emp_json_df.age.alias(\"emp_age\"), \"name\", (emp_json_df.salary*1.05).alias('rev_sal')).show()"
   ]
  },
  {
   "cell_type": "markdown",
   "id": "e490266a",
   "metadata": {},
   "source": [
    "### Adding new column"
   ]
  },
  {
   "cell_type": "code",
   "execution_count": 59,
   "id": "13d906eb",
   "metadata": {},
   "outputs": [
    {
     "ename": "TypeError",
     "evalue": "'DataFrame' object does not support item assignment",
     "output_type": "error",
     "traceback": [
      "\u001b[1;31m---------------------------------------------------------------------------\u001b[0m",
      "\u001b[1;31mTypeError\u001b[0m                                 Traceback (most recent call last)",
      "\u001b[1;32m~\\AppData\\Local\\Temp\\ipykernel_25160\\3740836279.py\u001b[0m in \u001b[0;36m<module>\u001b[1;34m\u001b[0m\n\u001b[1;32m----> 1\u001b[1;33m \u001b[0memp_json_df\u001b[0m\u001b[1;33m[\u001b[0m\u001b[1;34m'newsal'\u001b[0m\u001b[1;33m]\u001b[0m\u001b[1;33m=\u001b[0m \u001b[0memp_json_df\u001b[0m\u001b[1;33m[\u001b[0m\u001b[1;34m'salary'\u001b[0m\u001b[1;33m]\u001b[0m\u001b[1;33m*\u001b[0m\u001b[1;36m1.05\u001b[0m\u001b[1;33m\u001b[0m\u001b[1;33m\u001b[0m\u001b[0m\n\u001b[0m",
      "\u001b[1;31mTypeError\u001b[0m: 'DataFrame' object does not support item assignment"
     ]
    }
   ],
   "source": [
    "emp_json_df['newsal']= emp_json_df['salary']*1.05"
   ]
  },
  {
   "cell_type": "code",
   "execution_count": 60,
   "id": "21c36c58",
   "metadata": {},
   "outputs": [
    {
     "name": "stdout",
     "output_type": "stream",
     "text": [
      "+---+---+------+------+-------+\n",
      "|age| id|  name|salary| newsal|\n",
      "+---+---+------+------+-------+\n",
      "| 30|  1|  Bill| 10000|10500.0|\n",
      "| 40|  2| Steve| 12000|12600.0|\n",
      "| 50|  3|Donald| 14000|14700.0|\n",
      "| 60|  4|  Modi| 18000|18900.0|\n",
      "| 70|  5|Sunder| 22000|23100.0|\n",
      "| 80|  6|  Jeff| 26000|27300.0|\n",
      "| 90|  7|Sergey| 30000|31500.0|\n",
      "+---+---+------+------+-------+\n",
      "\n"
     ]
    }
   ],
   "source": [
    "emp_json_df.withColumn('newsal',emp_json_df['salary']*1.05).show()"
   ]
  },
  {
   "cell_type": "code",
   "execution_count": 61,
   "id": "5b21f6d6",
   "metadata": {},
   "outputs": [
    {
     "data": {
      "text/plain": [
       "['age', 'id', 'name', 'salary']"
      ]
     },
     "execution_count": 61,
     "metadata": {},
     "output_type": "execute_result"
    }
   ],
   "source": [
    "emp_json_df.columns"
   ]
  },
  {
   "cell_type": "markdown",
   "id": "14450ecf",
   "metadata": {},
   "source": [
    "### Save Changes to DF using"
   ]
  },
  {
   "cell_type": "code",
   "execution_count": 62,
   "id": "740f703d",
   "metadata": {},
   "outputs": [],
   "source": [
    "emp_json_df = emp_json_df.withColumn('newsal',emp_json_df['salary']*1.05)"
   ]
  },
  {
   "cell_type": "code",
   "execution_count": 63,
   "id": "4a5883d9",
   "metadata": {},
   "outputs": [
    {
     "data": {
      "text/plain": [
       "['age', 'id', 'name', 'salary', 'newsal']"
      ]
     },
     "execution_count": 63,
     "metadata": {},
     "output_type": "execute_result"
    }
   ],
   "source": [
    "emp_json_df.columns"
   ]
  },
  {
   "cell_type": "code",
   "execution_count": 64,
   "id": "817246c7",
   "metadata": {},
   "outputs": [
    {
     "name": "stdout",
     "output_type": "stream",
     "text": [
      "+---+---+------+------+-------+\n",
      "|age| id|  name|salary| newsal|\n",
      "+---+---+------+------+-------+\n",
      "| 30|  1|  Bill| 10000|10500.0|\n",
      "| 40|  2| Steve| 12000|12600.0|\n",
      "| 50|  3|Donald| 14000|14700.0|\n",
      "| 60|  4|  Modi| 18000|18900.0|\n",
      "| 70|  5|Sunder| 22000|23100.0|\n",
      "| 80|  6|  Jeff| 26000|27300.0|\n",
      "| 90|  7|Sergey| 30000|31500.0|\n",
      "+---+---+------+------+-------+\n",
      "\n"
     ]
    }
   ],
   "source": [
    "emp_json_df.show()"
   ]
  },
  {
   "cell_type": "markdown",
   "id": "2859a58e",
   "metadata": {},
   "source": [
    "### Renaming Columns"
   ]
  },
  {
   "cell_type": "code",
   "execution_count": 65,
   "id": "ce70f308",
   "metadata": {},
   "outputs": [
    {
     "name": "stdout",
     "output_type": "stream",
     "text": [
      "+---+---+------+------+--------------+\n",
      "|age| id|  name|salary|revived_salary|\n",
      "+---+---+------+------+--------------+\n",
      "| 30|  1|  Bill| 10000|       10500.0|\n",
      "| 40|  2| Steve| 12000|       12600.0|\n",
      "| 50|  3|Donald| 14000|       14700.0|\n",
      "| 60|  4|  Modi| 18000|       18900.0|\n",
      "| 70|  5|Sunder| 22000|       23100.0|\n",
      "| 80|  6|  Jeff| 26000|       27300.0|\n",
      "| 90|  7|Sergey| 30000|       31500.0|\n",
      "+---+---+------+------+--------------+\n",
      "\n"
     ]
    }
   ],
   "source": [
    "emp_json_df.withColumnRenamed('newsal','revived_salary').show()"
   ]
  },
  {
   "cell_type": "code",
   "execution_count": 66,
   "id": "004f73ea",
   "metadata": {},
   "outputs": [
    {
     "data": {
      "text/plain": [
       "['age', 'id', 'name', 'salary', 'newsal']"
      ]
     },
     "execution_count": 66,
     "metadata": {},
     "output_type": "execute_result"
    }
   ],
   "source": [
    "emp_json_df.columns"
   ]
  },
  {
   "cell_type": "markdown",
   "id": "760803a5",
   "metadata": {},
   "source": [
    "### Using SQL View"
   ]
  },
  {
   "cell_type": "code",
   "execution_count": 67,
   "id": "1f64e2a8",
   "metadata": {},
   "outputs": [
    {
     "name": "stdout",
     "output_type": "stream",
     "text": [
      "+---+---+------+------+-------+\n",
      "|age| id|  name|salary| newsal|\n",
      "+---+---+------+------+-------+\n",
      "| 30|  1|  Bill| 10000|10500.0|\n",
      "| 40|  2| Steve| 12000|12600.0|\n",
      "| 50|  3|Donald| 14000|14700.0|\n",
      "| 60|  4|  Modi| 18000|18900.0|\n",
      "| 70|  5|Sunder| 22000|23100.0|\n",
      "| 80|  6|  Jeff| 26000|27300.0|\n",
      "| 90|  7|Sergey| 30000|31500.0|\n",
      "+---+---+------+------+-------+\n",
      "\n"
     ]
    }
   ],
   "source": [
    "emp_json_df.createOrReplaceTempView(\"Emp\")\n",
    "sql_df = spark.sql(\"select * from Emp\")\n",
    "sql_df.show()"
   ]
  },
  {
   "cell_type": "code",
   "execution_count": 68,
   "id": "66ca86fa",
   "metadata": {},
   "outputs": [
    {
     "name": "stdout",
     "output_type": "stream",
     "text": [
      "+---+---+------+------+-------+\n",
      "|age| id|  name|salary| newsal|\n",
      "+---+---+------+------+-------+\n",
      "| 30|  1|  Bill| 10000|10500.0|\n",
      "| 40|  2| Steve| 12000|12600.0|\n",
      "| 50|  3|Donald| 14000|14700.0|\n",
      "| 60|  4|  Modi| 18000|18900.0|\n",
      "| 70|  5|Sunder| 22000|23100.0|\n",
      "| 80|  6|  Jeff| 26000|27300.0|\n",
      "| 90|  7|Sergey| 30000|31500.0|\n",
      "+---+---+------+------+-------+\n",
      "\n"
     ]
    }
   ],
   "source": [
    "spark.sql(\"select * from emp\").show()"
   ]
  },
  {
   "cell_type": "code",
   "execution_count": 69,
   "id": "41341c5c",
   "metadata": {},
   "outputs": [
    {
     "name": "stdout",
     "output_type": "stream",
     "text": [
      "+---+---+------+------+-------+\n",
      "|age| id|  name|salary| newsal|\n",
      "+---+---+------+------+-------+\n",
      "| 70|  5|Sunder| 22000|23100.0|\n",
      "| 80|  6|  Jeff| 26000|27300.0|\n",
      "| 90|  7|Sergey| 30000|31500.0|\n",
      "+---+---+------+------+-------+\n",
      "\n"
     ]
    }
   ],
   "source": [
    "spark.sql(\"select * from emp where newsal>=20000\").show()"
   ]
  },
  {
   "cell_type": "code",
   "execution_count": 70,
   "id": "b55be132",
   "metadata": {},
   "outputs": [
    {
     "name": "stdout",
     "output_type": "stream",
     "text": [
      "+------+-------+\n",
      "|salary|rev_sal|\n",
      "+------+-------+\n",
      "| 22000|24200.0|\n",
      "| 26000|28600.0|\n",
      "| 30000|33000.0|\n",
      "+------+-------+\n",
      "\n"
     ]
    }
   ],
   "source": [
    "spark.sql(\"select salary,salary*1.1 as rev_sal from emp where newsal>=20000\").show()"
   ]
  },
  {
   "cell_type": "code",
   "execution_count": null,
   "id": "660c2cf6",
   "metadata": {},
   "outputs": [],
   "source": [
    "#spark.stop()"
   ]
  },
  {
   "cell_type": "code",
   "execution_count": 72,
   "id": "f64b3cae",
   "metadata": {},
   "outputs": [
    {
     "name": "stdout",
     "output_type": "stream",
     "text": [
      "+---+---+-----+------+-------+\n",
      "|age| id| name|salary| newsal|\n",
      "+---+---+-----+------+-------+\n",
      "| 30|  1| Bill| 10000|10500.0|\n",
      "| 40|  2|Steve| 12000|12600.0|\n",
      "+---+---+-----+------+-------+\n",
      "\n"
     ]
    }
   ],
   "source": [
    "spark.sql(\"select * from emp where newsal<20000 and age<50\").show()"
   ]
  },
  {
   "cell_type": "markdown",
   "id": "b76387ba",
   "metadata": {},
   "source": [
    "### Dataframe Operations"
   ]
  },
  {
   "cell_type": "code",
   "execution_count": 73,
   "id": "1f9d9de8",
   "metadata": {},
   "outputs": [],
   "source": [
    "goog_df = spark.read.csv(GOOG_CSV)"
   ]
  },
  {
   "cell_type": "code",
   "execution_count": 74,
   "id": "cc16b388",
   "metadata": {},
   "outputs": [
    {
     "name": "stdout",
     "output_type": "stream",
     "text": [
      "root\n",
      " |-- _c0: string (nullable = true)\n",
      " |-- _c1: string (nullable = true)\n",
      " |-- _c2: string (nullable = true)\n",
      " |-- _c3: string (nullable = true)\n",
      " |-- _c4: string (nullable = true)\n",
      " |-- _c5: string (nullable = true)\n",
      " |-- _c6: string (nullable = true)\n",
      "\n"
     ]
    }
   ],
   "source": [
    "goog_df.printSchema()"
   ]
  },
  {
   "cell_type": "code",
   "execution_count": 75,
   "id": "dd311bd0",
   "metadata": {},
   "outputs": [
    {
     "name": "stdout",
     "output_type": "stream",
     "text": [
      "root\n",
      " |-- _c0: string (nullable = true)\n",
      " |-- _c1: string (nullable = true)\n",
      " |-- _c2: string (nullable = true)\n",
      " |-- _c3: string (nullable = true)\n",
      " |-- _c4: string (nullable = true)\n",
      " |-- _c5: string (nullable = true)\n",
      " |-- _c6: string (nullable = true)\n",
      "\n"
     ]
    }
   ],
   "source": [
    "goog_df = spark.read.csv(GOOG_CSV,inferSchema=True)\n",
    "goog_df.printSchema()"
   ]
  },
  {
   "cell_type": "code",
   "execution_count": 76,
   "id": "856abea1",
   "metadata": {},
   "outputs": [
    {
     "name": "stdout",
     "output_type": "stream",
     "text": [
      "root\n",
      " |-- Date: string (nullable = true)\n",
      " |-- Open: string (nullable = true)\n",
      " |-- High: string (nullable = true)\n",
      " |-- Low: string (nullable = true)\n",
      " |-- Close: string (nullable = true)\n",
      " |-- Volume: string (nullable = true)\n",
      " |-- Adj Close: string (nullable = true)\n",
      "\n"
     ]
    }
   ],
   "source": [
    "goog_df = spark.read.csv(GOOG_CSV,header=True)\n",
    "goog_df.printSchema()"
   ]
  },
  {
   "cell_type": "code",
   "execution_count": 78,
   "id": "50775dae",
   "metadata": {},
   "outputs": [
    {
     "name": "stdout",
     "output_type": "stream",
     "text": [
      "root\n",
      " |-- Date: string (nullable = true)\n",
      " |-- Open: double (nullable = true)\n",
      " |-- High: double (nullable = true)\n",
      " |-- Low: double (nullable = true)\n",
      " |-- Close: double (nullable = true)\n",
      " |-- Volume: integer (nullable = true)\n",
      " |-- Adj Close: double (nullable = true)\n",
      "\n"
     ]
    }
   ],
   "source": [
    "goog_df = spark.read.csv(GOOG_CSV,inferSchema=True,header=True,)\n",
    "goog_df.printSchema()"
   ]
  },
  {
   "cell_type": "code",
   "execution_count": 88,
   "id": "c193dc0f",
   "metadata": {},
   "outputs": [
    {
     "name": "stdout",
     "output_type": "stream",
     "text": [
      "root\n",
      " |-- Date: timestamp (nullable = true)\n",
      " |-- Open: double (nullable = true)\n",
      " |-- High: double (nullable = true)\n",
      " |-- Low: double (nullable = true)\n",
      " |-- Close: double (nullable = true)\n",
      " |-- Volume: integer (nullable = true)\n",
      " |-- Adj Close: double (nullable = true)\n",
      "\n"
     ]
    }
   ],
   "source": [
    "goog_df = spark.read.csv(GOOG_CSV,inferSchema=True,header=True,timestampFormat=\"yyyy-MM-dd\")\n",
    "\n",
    "goog_df.printSchema()"
   ]
  },
  {
   "cell_type": "code",
   "execution_count": 89,
   "id": "a40b86bf",
   "metadata": {},
   "outputs": [
    {
     "data": {
      "text/plain": [
       "[Row(Date=datetime.datetime(2010, 1, 4, 0, 0), Open=213.429998, High=214.499996, Low=212.38000099999996, Close=214.009998, Volume=123432400, Adj Close=27.727039),\n",
       " Row(Date=datetime.datetime(2010, 1, 5, 0, 0), Open=214.599998, High=215.589994, Low=213.249994, Close=214.379993, Volume=150476200, Adj Close=27.774976000000002),\n",
       " Row(Date=datetime.datetime(2010, 1, 6, 0, 0), Open=214.379993, High=215.23, Low=210.750004, Close=210.969995, Volume=138040000, Adj Close=27.333178000000004)]"
      ]
     },
     "execution_count": 89,
     "metadata": {},
     "output_type": "execute_result"
    }
   ],
   "source": [
    "goog_df.head(3)"
   ]
  },
  {
   "cell_type": "code",
   "execution_count": 90,
   "id": "cbe0a0b8",
   "metadata": {},
   "outputs": [
    {
     "name": "stdout",
     "output_type": "stream",
     "text": [
      "+-------------------+------------------+------------------+------------------+------------------+---------+------------------+\n",
      "|               Date|              Open|              High|               Low|             Close|   Volume|         Adj Close|\n",
      "+-------------------+------------------+------------------+------------------+------------------+---------+------------------+\n",
      "|2010-01-04 00:00:00|        213.429998|        214.499996|212.38000099999996|        214.009998|123432400|         27.727039|\n",
      "|2010-01-05 00:00:00|        214.599998|        215.589994|        213.249994|        214.379993|150476200|27.774976000000002|\n",
      "|2010-01-06 00:00:00|        214.379993|            215.23|        210.750004|        210.969995|138040000|27.333178000000004|\n",
      "|2010-01-07 00:00:00|            211.75|        212.000006|        209.050005|            210.58|119282800|          27.28265|\n",
      "|2010-01-08 00:00:00|        210.299994|        212.000006|209.06000500000002|211.98000499999998|111902700|         27.464034|\n",
      "|2010-01-11 00:00:00|212.79999700000002|        213.000002|        208.450005|210.11000299999998|115557400|         27.221758|\n",
      "|2010-01-12 00:00:00|209.18999499999998|209.76999500000002|        206.419998|        207.720001|148614900|          26.91211|\n",
      "|2010-01-13 00:00:00|        207.870005|210.92999500000002|        204.099998|        210.650002|151473000|          27.29172|\n",
      "|2010-01-14 00:00:00|210.11000299999998|210.45999700000002|        209.020004|            209.43|108223500|         27.133657|\n",
      "|2010-01-15 00:00:00|210.92999500000002|211.59999700000003|        205.869999|            205.93|148516900|26.680197999999997|\n",
      "|2010-01-19 00:00:00|        208.330002|215.18999900000003|        207.240004|        215.039995|182501900|27.860484999999997|\n",
      "|2010-01-20 00:00:00|        214.910006|        215.549994|        209.500002|            211.73|153038200|         27.431644|\n",
      "|2010-01-21 00:00:00|        212.079994|213.30999599999998|        207.210003|        208.069996|152038600|         26.957455|\n",
      "|2010-01-22 00:00:00|206.78000600000001|        207.499996|            197.16|            197.75|220441900|         25.620401|\n",
      "|2010-01-25 00:00:00|202.51000200000001|        204.699999|        200.190002|        203.070002|266424900|26.309658000000002|\n",
      "|2010-01-26 00:00:00|205.95000100000001|        213.710005|        202.580004|        205.940001|466777500|         26.681494|\n",
      "|2010-01-27 00:00:00|        206.849995|            210.58|        199.530001|        207.880005|430642100|26.932840000000002|\n",
      "|2010-01-28 00:00:00|        204.930004|        205.500004|        198.699995|        199.289995|293375600|25.819922000000002|\n",
      "|2010-01-29 00:00:00|        201.079996|        202.199995|        190.250002|        192.060003|311488100|         24.883208|\n",
      "|2010-02-01 00:00:00|192.36999699999998|             196.0|191.29999899999999|        194.729998|187469100|         25.229131|\n",
      "+-------------------+------------------+------------------+------------------+------------------+---------+------------------+\n",
      "only showing top 20 rows\n",
      "\n"
     ]
    }
   ],
   "source": [
    "goog_df.show()"
   ]
  },
  {
   "cell_type": "code",
   "execution_count": 91,
   "id": "6265b404",
   "metadata": {},
   "outputs": [
    {
     "name": "stdout",
     "output_type": "stream",
     "text": [
      "+-------------------+------------------+------------------+------------------+------------------+---------+------------------+\n",
      "|               Date|              Open|              High|               Low|             Close|   Volume|         Adj Close|\n",
      "+-------------------+------------------+------------------+------------------+------------------+---------+------------------+\n",
      "|2010-01-04 00:00:00|        213.429998|        214.499996|212.38000099999996|        214.009998|123432400|         27.727039|\n",
      "|2010-01-05 00:00:00|        214.599998|        215.589994|        213.249994|        214.379993|150476200|27.774976000000002|\n",
      "|2010-01-06 00:00:00|        214.379993|            215.23|        210.750004|        210.969995|138040000|27.333178000000004|\n",
      "|2010-01-07 00:00:00|            211.75|        212.000006|        209.050005|            210.58|119282800|          27.28265|\n",
      "|2010-01-08 00:00:00|        210.299994|        212.000006|209.06000500000002|211.98000499999998|111902700|         27.464034|\n",
      "|2010-01-11 00:00:00|212.79999700000002|        213.000002|        208.450005|210.11000299999998|115557400|         27.221758|\n",
      "|2010-01-12 00:00:00|209.18999499999998|209.76999500000002|        206.419998|        207.720001|148614900|          26.91211|\n",
      "|2010-01-13 00:00:00|        207.870005|210.92999500000002|        204.099998|        210.650002|151473000|          27.29172|\n",
      "|2010-01-14 00:00:00|210.11000299999998|210.45999700000002|        209.020004|            209.43|108223500|         27.133657|\n",
      "|2010-01-15 00:00:00|210.92999500000002|211.59999700000003|        205.869999|            205.93|148516900|26.680197999999997|\n",
      "|2010-01-19 00:00:00|        208.330002|215.18999900000003|        207.240004|        215.039995|182501900|27.860484999999997|\n",
      "|2010-01-20 00:00:00|        214.910006|        215.549994|        209.500002|            211.73|153038200|         27.431644|\n",
      "|2010-01-21 00:00:00|        212.079994|213.30999599999998|        207.210003|        208.069996|152038600|         26.957455|\n",
      "|2010-01-25 00:00:00|202.51000200000001|        204.699999|        200.190002|        203.070002|266424900|26.309658000000002|\n",
      "|2010-01-26 00:00:00|205.95000100000001|        213.710005|        202.580004|        205.940001|466777500|         26.681494|\n",
      "|2010-01-27 00:00:00|        206.849995|            210.58|        199.530001|        207.880005|430642100|26.932840000000002|\n",
      "|2010-02-12 00:00:00|        198.109995|        201.639996|        195.500002|200.37999299999998|163867200|25.961142000000002|\n",
      "|2010-02-16 00:00:00|        201.940002|        203.690002|        201.520006|        203.399996|135934400|         26.352412|\n",
      "|2010-02-17 00:00:00|        204.190001|        204.310003|        200.860004|        202.550003|109099200|         26.242287|\n",
      "|2010-02-18 00:00:00|        201.629995|        203.889994|        200.920006|        202.929998|105706300|         26.291519|\n",
      "+-------------------+------------------+------------------+------------------+------------------+---------+------------------+\n",
      "only showing top 20 rows\n",
      "\n"
     ]
    }
   ],
   "source": [
    "goog_df.filter(\"Close>200\").show()"
   ]
  },
  {
   "cell_type": "code",
   "execution_count": 93,
   "id": "24b1be87",
   "metadata": {},
   "outputs": [
    {
     "data": {
      "text/plain": [
       "1762"
      ]
     },
     "execution_count": 93,
     "metadata": {},
     "output_type": "execute_result"
    }
   ],
   "source": [
    "goog_df.count()"
   ]
  },
  {
   "cell_type": "code",
   "execution_count": 94,
   "id": "1d3f9731",
   "metadata": {},
   "outputs": [
    {
     "name": "stdout",
     "output_type": "stream",
     "text": [
      "+------------------+---------+\n",
      "|              open|   Volume|\n",
      "+------------------+---------+\n",
      "|        213.429998|123432400|\n",
      "|        214.599998|150476200|\n",
      "|        214.379993|138040000|\n",
      "|            211.75|119282800|\n",
      "|        210.299994|111902700|\n",
      "|212.79999700000002|115557400|\n",
      "|209.18999499999998|148614900|\n",
      "|        207.870005|151473000|\n",
      "|210.11000299999998|108223500|\n",
      "|210.92999500000002|148516900|\n",
      "|        208.330002|182501900|\n",
      "|        214.910006|153038200|\n",
      "|        212.079994|152038600|\n",
      "|202.51000200000001|266424900|\n",
      "|205.95000100000001|466777500|\n",
      "|        206.849995|430642100|\n",
      "|        198.109995|163867200|\n",
      "|        201.940002|135934400|\n",
      "|        204.190001|109099200|\n",
      "|        201.629995|105706300|\n",
      "+------------------+---------+\n",
      "only showing top 20 rows\n",
      "\n"
     ]
    }
   ],
   "source": [
    "goog_df.filter(\"Close>200\").select('open','Volume').show()"
   ]
  },
  {
   "cell_type": "markdown",
   "id": "4ec5709a",
   "metadata": {},
   "source": [
    "### Complex filtering using Python operators for comparison\n",
    "\n",
    "Syntax looks very similar to SQL operators, except we need to ensure that we call the entire column within the dataframe using the format: df['col name']"
   ]
  },
  {
   "cell_type": "code",
   "execution_count": 101,
   "id": "709a0108",
   "metadata": {},
   "outputs": [
    {
     "name": "stdout",
     "output_type": "stream",
     "text": [
      "+-------------------+------------------+------------------+------------------+------------------+---------+------------------+\n",
      "|               Date|              Open|              High|               Low|             Close|   Volume|         Adj Close|\n",
      "+-------------------+------------------+------------------+------------------+------------------+---------+------------------+\n",
      "|2010-01-04 00:00:00|        213.429998|        214.499996|212.38000099999996|        214.009998|123432400|         27.727039|\n",
      "|2010-01-05 00:00:00|        214.599998|        215.589994|        213.249994|        214.379993|150476200|27.774976000000002|\n",
      "|2010-01-06 00:00:00|        214.379993|            215.23|        210.750004|        210.969995|138040000|27.333178000000004|\n",
      "|2010-01-07 00:00:00|            211.75|        212.000006|        209.050005|            210.58|119282800|          27.28265|\n",
      "|2010-01-08 00:00:00|        210.299994|        212.000006|209.06000500000002|211.98000499999998|111902700|         27.464034|\n",
      "|2010-01-11 00:00:00|212.79999700000002|        213.000002|        208.450005|210.11000299999998|115557400|         27.221758|\n",
      "|2010-01-12 00:00:00|209.18999499999998|209.76999500000002|        206.419998|        207.720001|148614900|          26.91211|\n",
      "|2010-01-13 00:00:00|        207.870005|210.92999500000002|        204.099998|        210.650002|151473000|          27.29172|\n",
      "|2010-01-14 00:00:00|210.11000299999998|210.45999700000002|        209.020004|            209.43|108223500|         27.133657|\n",
      "|2010-01-15 00:00:00|210.92999500000002|211.59999700000003|        205.869999|            205.93|148516900|26.680197999999997|\n",
      "|2010-01-19 00:00:00|        208.330002|215.18999900000003|        207.240004|        215.039995|182501900|27.860484999999997|\n",
      "|2010-01-20 00:00:00|        214.910006|        215.549994|        209.500002|            211.73|153038200|         27.431644|\n",
      "|2010-01-21 00:00:00|        212.079994|213.30999599999998|        207.210003|        208.069996|152038600|         26.957455|\n",
      "|2010-01-22 00:00:00|206.78000600000001|        207.499996|            197.16|            197.75|220441900|         25.620401|\n",
      "|2010-01-25 00:00:00|202.51000200000001|        204.699999|        200.190002|        203.070002|266424900|26.309658000000002|\n",
      "|2010-01-26 00:00:00|205.95000100000001|        213.710005|        202.580004|        205.940001|466777500|         26.681494|\n",
      "|2010-01-27 00:00:00|        206.849995|            210.58|        199.530001|        207.880005|430642100|26.932840000000002|\n",
      "|2010-01-28 00:00:00|        204.930004|        205.500004|        198.699995|        199.289995|293375600|25.819922000000002|\n",
      "|2010-01-29 00:00:00|        201.079996|        202.199995|        190.250002|        192.060003|311488100|         24.883208|\n",
      "|2010-02-16 00:00:00|        201.940002|        203.690002|        201.520006|        203.399996|135934400|         26.352412|\n",
      "+-------------------+------------------+------------------+------------------+------------------+---------+------------------+\n",
      "only showing top 20 rows\n",
      "\n"
     ]
    }
   ],
   "source": [
    "goog_df.filter('Close>200' and 'Open>200').show()"
   ]
  },
  {
   "cell_type": "code",
   "execution_count": 102,
   "id": "3c620a8b",
   "metadata": {},
   "outputs": [
    {
     "data": {
      "text/plain": [
       "1101"
      ]
     },
     "execution_count": 102,
     "metadata": {},
     "output_type": "execute_result"
    }
   ],
   "source": [
    "goog_df.filter('Close>200' and 'Open>200').count()"
   ]
  },
  {
   "cell_type": "code",
   "execution_count": 99,
   "id": "a8eac0b8",
   "metadata": {},
   "outputs": [
    {
     "ename": "ValueError",
     "evalue": "Cannot convert column into bool: please use '&' for 'and', '|' for 'or', '~' for 'not' when building DataFrame boolean expressions.",
     "output_type": "error",
     "traceback": [
      "\u001b[1;31m---------------------------------------------------------------------------\u001b[0m",
      "\u001b[1;31mValueError\u001b[0m                                Traceback (most recent call last)",
      "\u001b[1;32m~\\AppData\\Local\\Temp\\ipykernel_25160\\1394841646.py\u001b[0m in \u001b[0;36m<module>\u001b[1;34m\u001b[0m\n\u001b[1;32m----> 1\u001b[1;33m \u001b[0mgoog_df\u001b[0m\u001b[1;33m.\u001b[0m\u001b[0mfilter\u001b[0m\u001b[1;33m(\u001b[0m\u001b[0mgoog_df\u001b[0m\u001b[1;33m[\u001b[0m\u001b[1;34m\"Close\"\u001b[0m\u001b[1;33m]\u001b[0m \u001b[1;33m<\u001b[0m \u001b[1;36m200\u001b[0m \u001b[1;32mand\u001b[0m \u001b[0mgoog_df\u001b[0m\u001b[1;33m[\u001b[0m\u001b[1;34m'Open'\u001b[0m\u001b[1;33m]\u001b[0m \u001b[1;33m>\u001b[0m \u001b[1;36m200\u001b[0m\u001b[1;33m)\u001b[0m\u001b[1;33m.\u001b[0m\u001b[0mshow\u001b[0m\u001b[1;33m(\u001b[0m\u001b[1;33m)\u001b[0m\u001b[1;33m\u001b[0m\u001b[1;33m\u001b[0m\u001b[0m\n\u001b[0m",
      "\u001b[1;32mC:\\ProgramData\\Anaconda3\\envs\\Py310\\lib\\site-packages\\pyspark\\sql\\column.py\u001b[0m in \u001b[0;36m__nonzero__\u001b[1;34m(self)\u001b[0m\n\u001b[0;32m    905\u001b[0m \u001b[1;33m\u001b[0m\u001b[0m\n\u001b[0;32m    906\u001b[0m     \u001b[1;32mdef\u001b[0m \u001b[0m__nonzero__\u001b[0m\u001b[1;33m(\u001b[0m\u001b[0mself\u001b[0m\u001b[1;33m)\u001b[0m\u001b[1;33m:\u001b[0m\u001b[1;33m\u001b[0m\u001b[1;33m\u001b[0m\u001b[0m\n\u001b[1;32m--> 907\u001b[1;33m         raise ValueError(\"Cannot convert column into bool: please use '&' for 'and', '|' for 'or', \"\n\u001b[0m\u001b[0;32m    908\u001b[0m                          \"'~' for 'not' when building DataFrame boolean expressions.\")\n\u001b[0;32m    909\u001b[0m     \u001b[0m__bool__\u001b[0m \u001b[1;33m=\u001b[0m \u001b[0m__nonzero__\u001b[0m\u001b[1;33m\u001b[0m\u001b[1;33m\u001b[0m\u001b[0m\n",
      "\u001b[1;31mValueError\u001b[0m: Cannot convert column into bool: please use '&' for 'and', '|' for 'or', '~' for 'not' when building DataFrame boolean expressions."
     ]
    }
   ],
   "source": [
    "goog_df.filter(goog_df[\"Close\"] < 200 and goog_df['Open'] > 200).show()"
   ]
  },
  {
   "cell_type": "code",
   "execution_count": 103,
   "id": "bf50e76c",
   "metadata": {},
   "outputs": [
    {
     "ename": "ValueError",
     "evalue": "Cannot convert column into bool: please use '&' for 'and', '|' for 'or', '~' for 'not' when building DataFrame boolean expressions.",
     "output_type": "error",
     "traceback": [
      "\u001b[1;31m---------------------------------------------------------------------------\u001b[0m",
      "\u001b[1;31mValueError\u001b[0m                                Traceback (most recent call last)",
      "\u001b[1;32m~\\AppData\\Local\\Temp\\ipykernel_25160\\790559702.py\u001b[0m in \u001b[0;36m<module>\u001b[1;34m\u001b[0m\n\u001b[1;32m----> 1\u001b[1;33m \u001b[0mgoog_df\u001b[0m\u001b[1;33m.\u001b[0m\u001b[0mfilter\u001b[0m\u001b[1;33m(\u001b[0m\u001b[1;33m(\u001b[0m\u001b[0mgoog_df\u001b[0m\u001b[1;33m[\u001b[0m\u001b[1;34m\"Close\"\u001b[0m\u001b[1;33m]\u001b[0m \u001b[1;33m<\u001b[0m \u001b[1;36m200\u001b[0m\u001b[1;33m)\u001b[0m \u001b[1;32mand\u001b[0m \u001b[1;33m(\u001b[0m\u001b[0mgoog_df\u001b[0m\u001b[1;33m[\u001b[0m\u001b[1;34m'Open'\u001b[0m\u001b[1;33m]\u001b[0m \u001b[1;33m>\u001b[0m \u001b[1;36m200\u001b[0m\u001b[1;33m)\u001b[0m\u001b[1;33m)\u001b[0m\u001b[1;33m.\u001b[0m\u001b[0mshow\u001b[0m\u001b[1;33m(\u001b[0m\u001b[1;33m)\u001b[0m\u001b[1;33m\u001b[0m\u001b[1;33m\u001b[0m\u001b[0m\n\u001b[0m",
      "\u001b[1;32mC:\\ProgramData\\Anaconda3\\envs\\Py310\\lib\\site-packages\\pyspark\\sql\\column.py\u001b[0m in \u001b[0;36m__nonzero__\u001b[1;34m(self)\u001b[0m\n\u001b[0;32m    905\u001b[0m \u001b[1;33m\u001b[0m\u001b[0m\n\u001b[0;32m    906\u001b[0m     \u001b[1;32mdef\u001b[0m \u001b[0m__nonzero__\u001b[0m\u001b[1;33m(\u001b[0m\u001b[0mself\u001b[0m\u001b[1;33m)\u001b[0m\u001b[1;33m:\u001b[0m\u001b[1;33m\u001b[0m\u001b[1;33m\u001b[0m\u001b[0m\n\u001b[1;32m--> 907\u001b[1;33m         raise ValueError(\"Cannot convert column into bool: please use '&' for 'and', '|' for 'or', \"\n\u001b[0m\u001b[0;32m    908\u001b[0m                          \"'~' for 'not' when building DataFrame boolean expressions.\")\n\u001b[0;32m    909\u001b[0m     \u001b[0m__bool__\u001b[0m \u001b[1;33m=\u001b[0m \u001b[0m__nonzero__\u001b[0m\u001b[1;33m\u001b[0m\u001b[1;33m\u001b[0m\u001b[0m\n",
      "\u001b[1;31mValueError\u001b[0m: Cannot convert column into bool: please use '&' for 'and', '|' for 'or', '~' for 'not' when building DataFrame boolean expressions."
     ]
    }
   ],
   "source": [
    "goog_df.filter((goog_df[\"Close\"] < 200) and (goog_df['Open'] > 200)).show()"
   ]
  },
  {
   "cell_type": "code",
   "execution_count": 104,
   "id": "0136976a",
   "metadata": {},
   "outputs": [
    {
     "name": "stdout",
     "output_type": "stream",
     "text": [
      "+-------------------+------------------+----------+----------+----------+---------+------------------+\n",
      "|               Date|              Open|      High|       Low|     Close|   Volume|         Adj Close|\n",
      "+-------------------+------------------+----------+----------+----------+---------+------------------+\n",
      "|2010-01-22 00:00:00|206.78000600000001|207.499996|    197.16|    197.75|220441900|         25.620401|\n",
      "|2010-01-28 00:00:00|        204.930004|205.500004|198.699995|199.289995|293375600|25.819922000000002|\n",
      "|2010-01-29 00:00:00|        201.079996|202.199995|190.250002|192.060003|311488100|         24.883208|\n",
      "+-------------------+------------------+----------+----------+----------+---------+------------------+\n",
      "\n"
     ]
    }
   ],
   "source": [
    "goog_df.filter((goog_df[\"Close\"] < 200) & (goog_df['Open'] > 200)).show()"
   ]
  },
  {
   "cell_type": "code",
   "execution_count": 112,
   "id": "2d64119f",
   "metadata": {},
   "outputs": [
    {
     "name": "stdout",
     "output_type": "stream",
     "text": [
      "+-------------------+------------------+------------------+------------------+------------------+---------+------------------+\n",
      "|               Date|              Open|              High|               Low|             Close|   Volume|         Adj Close|\n",
      "+-------------------+------------------+------------------+------------------+------------------+---------+------------------+\n",
      "|2010-01-22 00:00:00|206.78000600000001|        207.499996|            197.16|            197.75|220441900|         25.620401|\n",
      "|2010-01-28 00:00:00|        204.930004|        205.500004|        198.699995|        199.289995|293375600|25.819922000000002|\n",
      "|2010-01-29 00:00:00|        201.079996|        202.199995|        190.250002|        192.060003|311488100|         24.883208|\n",
      "|2010-02-01 00:00:00|192.36999699999998|             196.0|191.29999899999999|        194.729998|187469100|         25.229131|\n",
      "|2010-02-02 00:00:00|        195.909998|        196.319994|193.37999299999998|        195.859997|174585600|25.375532999999997|\n",
      "|2010-02-03 00:00:00|        195.169994|        200.200003|        194.420004|        199.229994|153832000|25.812148999999998|\n",
      "|2010-02-04 00:00:00|        196.730003|        198.370001|        191.570005|        192.050003|189413000|         24.881912|\n",
      "|2010-02-05 00:00:00|192.63000300000002|             196.0|        190.850002|        195.460001|212576700|25.323710000000002|\n",
      "|2010-02-08 00:00:00|        195.690006|197.88000300000002|        193.999994|194.11999699999998|119567700|           25.1501|\n",
      "|2010-02-09 00:00:00|        196.419996|        197.499994|        194.749998|196.19000400000002|158221700|         25.418289|\n",
      "|2010-02-10 00:00:00|        195.889997|             196.6|            194.26|195.12000700000002| 92590400|          25.27966|\n",
      "|2010-02-11 00:00:00|        194.880001|        199.750006|194.05999599999998|        198.669994|137586400|         25.739595|\n",
      "|2010-02-23 00:00:00|        199.999998|        201.330002|        195.709993|        197.059998|143773700|         25.531005|\n",
      "|2014-06-09 00:00:00|         92.699997|         93.879997|             91.75|         93.699997| 75415000|         88.906324|\n",
      "|2014-06-10 00:00:00|         94.730003|         95.050003|             93.57|             94.25| 62777000|         89.428189|\n",
      "|2014-06-11 00:00:00|         94.129997|         94.760002|         93.470001|         93.860001| 45681000|         89.058142|\n",
      "|2014-06-12 00:00:00|         94.040001|         94.120003|         91.900002|         92.290001| 54749000|         87.568463|\n",
      "|2014-06-13 00:00:00|         92.199997|         92.440002|         90.879997|         91.279999| 54525000|         86.610132|\n",
      "|2014-06-16 00:00:00|         91.510002|             92.75|         91.449997|         92.199997| 35561000|         87.483064|\n",
      "|2014-06-17 00:00:00|         92.309998|         92.699997|         91.800003| 92.08000200000001| 29726000| 87.36920699999999|\n",
      "+-------------------+------------------+------------------+------------------+------------------+---------+------------------+\n",
      "only showing top 20 rows\n",
      "\n"
     ]
    }
   ],
   "source": [
    "goog_df.filter( (goog_df[\"Close\"] < 200)).show()"
   ]
  },
  {
   "cell_type": "code",
   "execution_count": 114,
   "id": "cc1f53d3",
   "metadata": {},
   "outputs": [
    {
     "data": {
      "text/plain": [
       "661"
      ]
     },
     "execution_count": 114,
     "metadata": {},
     "output_type": "execute_result"
    }
   ],
   "source": [
    "goog_df.filter( (goog_df[\"Close\"] < 200)).count()"
   ]
  },
  {
   "cell_type": "code",
   "execution_count": 113,
   "id": "6684582f",
   "metadata": {},
   "outputs": [
    {
     "name": "stdout",
     "output_type": "stream",
     "text": [
      "+-------------------+------------------+------------------+------------------+------------------+---------+------------------+\n",
      "|               Date|              Open|              High|               Low|             Close|   Volume|         Adj Close|\n",
      "+-------------------+------------------+------------------+------------------+------------------+---------+------------------+\n",
      "|2010-01-04 00:00:00|        213.429998|        214.499996|212.38000099999996|        214.009998|123432400|         27.727039|\n",
      "|2010-01-05 00:00:00|        214.599998|        215.589994|        213.249994|        214.379993|150476200|27.774976000000002|\n",
      "|2010-01-06 00:00:00|        214.379993|            215.23|        210.750004|        210.969995|138040000|27.333178000000004|\n",
      "|2010-01-07 00:00:00|            211.75|        212.000006|        209.050005|            210.58|119282800|          27.28265|\n",
      "|2010-01-08 00:00:00|        210.299994|        212.000006|209.06000500000002|211.98000499999998|111902700|         27.464034|\n",
      "|2010-01-11 00:00:00|212.79999700000002|        213.000002|        208.450005|210.11000299999998|115557400|         27.221758|\n",
      "|2010-01-12 00:00:00|209.18999499999998|209.76999500000002|        206.419998|        207.720001|148614900|          26.91211|\n",
      "|2010-01-13 00:00:00|        207.870005|210.92999500000002|        204.099998|        210.650002|151473000|          27.29172|\n",
      "|2010-01-14 00:00:00|210.11000299999998|210.45999700000002|        209.020004|            209.43|108223500|         27.133657|\n",
      "|2010-01-15 00:00:00|210.92999500000002|211.59999700000003|        205.869999|            205.93|148516900|26.680197999999997|\n",
      "|2010-01-19 00:00:00|        208.330002|215.18999900000003|        207.240004|        215.039995|182501900|27.860484999999997|\n",
      "|2010-01-20 00:00:00|        214.910006|        215.549994|        209.500002|            211.73|153038200|         27.431644|\n",
      "|2010-01-21 00:00:00|        212.079994|213.30999599999998|        207.210003|        208.069996|152038600|         26.957455|\n",
      "|2010-01-22 00:00:00|206.78000600000001|        207.499996|            197.16|            197.75|220441900|         25.620401|\n",
      "|2010-01-25 00:00:00|202.51000200000001|        204.699999|        200.190002|        203.070002|266424900|26.309658000000002|\n",
      "|2010-01-26 00:00:00|205.95000100000001|        213.710005|        202.580004|        205.940001|466777500|         26.681494|\n",
      "|2010-01-27 00:00:00|        206.849995|            210.58|        199.530001|        207.880005|430642100|26.932840000000002|\n",
      "|2010-01-28 00:00:00|        204.930004|        205.500004|        198.699995|        199.289995|293375600|25.819922000000002|\n",
      "|2010-01-29 00:00:00|        201.079996|        202.199995|        190.250002|        192.060003|311488100|         24.883208|\n",
      "|2010-02-16 00:00:00|        201.940002|        203.690002|        201.520006|        203.399996|135934400|         26.352412|\n",
      "+-------------------+------------------+------------------+------------------+------------------+---------+------------------+\n",
      "only showing top 20 rows\n",
      "\n"
     ]
    }
   ],
   "source": [
    "goog_df.filter((goog_df['Open'] > 200)).show()"
   ]
  },
  {
   "cell_type": "code",
   "execution_count": 115,
   "id": "7d04064b",
   "metadata": {},
   "outputs": [
    {
     "data": {
      "text/plain": [
       "1101"
      ]
     },
     "execution_count": 115,
     "metadata": {},
     "output_type": "execute_result"
    }
   ],
   "source": [
    "goog_df.filter((goog_df['Open'] > 200)).count()"
   ]
  },
  {
   "cell_type": "code",
   "execution_count": 120,
   "id": "6cc2a635",
   "metadata": {},
   "outputs": [
    {
     "name": "stdout",
     "output_type": "stream",
     "text": [
      "+-------------------+------------------+----------+----------+----------+---------+------------------+\n",
      "|               Date|              Open|      High|       Low|     Close|   Volume|         Adj Close|\n",
      "+-------------------+------------------+----------+----------+----------+---------+------------------+\n",
      "|2010-01-22 00:00:00|206.78000600000001|207.499996|    197.16|    197.75|220441900|         25.620401|\n",
      "|2010-01-28 00:00:00|        204.930004|205.500004|198.699995|199.289995|293375600|25.819922000000002|\n",
      "|2010-01-29 00:00:00|        201.079996|202.199995|190.250002|192.060003|311488100|         24.883208|\n",
      "+-------------------+------------------+----------+----------+----------+---------+------------------+\n",
      "\n"
     ]
    }
   ],
   "source": [
    "goog_df.filter((goog_df[\"Close\"] < 200) & (goog_df['Open'] > 200)).show()"
   ]
  },
  {
   "cell_type": "code",
   "execution_count": 117,
   "id": "deced446",
   "metadata": {},
   "outputs": [
    {
     "data": {
      "text/plain": [
       "1101"
      ]
     },
     "execution_count": 117,
     "metadata": {},
     "output_type": "execute_result"
    }
   ],
   "source": [
    "goog_df.filter(\"Close < 200\" and \"Open > 200\").count()"
   ]
  },
  {
   "cell_type": "code",
   "execution_count": 125,
   "id": "d2651f2b",
   "metadata": {},
   "outputs": [],
   "source": [
    "#goog_df.createGlobalTempView('goog')\n",
    "goog_df.createOrReplaceTempView(\"goog\")"
   ]
  },
  {
   "cell_type": "code",
   "execution_count": 126,
   "id": "fb4bf2cf",
   "metadata": {},
   "outputs": [
    {
     "name": "stdout",
     "output_type": "stream",
     "text": [
      "+-------------------+------------------+------------------+------------------+------------------+---------+------------------+\n",
      "|               Date|              Open|              High|               Low|             Close|   Volume|         Adj Close|\n",
      "+-------------------+------------------+------------------+------------------+------------------+---------+------------------+\n",
      "|2010-01-04 00:00:00|        213.429998|        214.499996|212.38000099999996|        214.009998|123432400|         27.727039|\n",
      "|2010-01-05 00:00:00|        214.599998|        215.589994|        213.249994|        214.379993|150476200|27.774976000000002|\n",
      "|2010-01-06 00:00:00|        214.379993|            215.23|        210.750004|        210.969995|138040000|27.333178000000004|\n",
      "|2010-01-07 00:00:00|            211.75|        212.000006|        209.050005|            210.58|119282800|          27.28265|\n",
      "|2010-01-08 00:00:00|        210.299994|        212.000006|209.06000500000002|211.98000499999998|111902700|         27.464034|\n",
      "|2010-01-11 00:00:00|212.79999700000002|        213.000002|        208.450005|210.11000299999998|115557400|         27.221758|\n",
      "|2010-01-12 00:00:00|209.18999499999998|209.76999500000002|        206.419998|        207.720001|148614900|          26.91211|\n",
      "|2010-01-13 00:00:00|        207.870005|210.92999500000002|        204.099998|        210.650002|151473000|          27.29172|\n",
      "|2010-01-14 00:00:00|210.11000299999998|210.45999700000002|        209.020004|            209.43|108223500|         27.133657|\n",
      "|2010-01-15 00:00:00|210.92999500000002|211.59999700000003|        205.869999|            205.93|148516900|26.680197999999997|\n",
      "|2010-01-19 00:00:00|        208.330002|215.18999900000003|        207.240004|        215.039995|182501900|27.860484999999997|\n",
      "|2010-01-20 00:00:00|        214.910006|        215.549994|        209.500002|            211.73|153038200|         27.431644|\n",
      "|2010-01-21 00:00:00|        212.079994|213.30999599999998|        207.210003|        208.069996|152038600|         26.957455|\n",
      "|2010-01-22 00:00:00|206.78000600000001|        207.499996|            197.16|            197.75|220441900|         25.620401|\n",
      "|2010-01-25 00:00:00|202.51000200000001|        204.699999|        200.190002|        203.070002|266424900|26.309658000000002|\n",
      "|2010-01-26 00:00:00|205.95000100000001|        213.710005|        202.580004|        205.940001|466777500|         26.681494|\n",
      "|2010-01-27 00:00:00|        206.849995|            210.58|        199.530001|        207.880005|430642100|26.932840000000002|\n",
      "|2010-01-28 00:00:00|        204.930004|        205.500004|        198.699995|        199.289995|293375600|25.819922000000002|\n",
      "|2010-01-29 00:00:00|        201.079996|        202.199995|        190.250002|        192.060003|311488100|         24.883208|\n",
      "|2010-02-01 00:00:00|192.36999699999998|             196.0|191.29999899999999|        194.729998|187469100|         25.229131|\n",
      "+-------------------+------------------+------------------+------------------+------------------+---------+------------------+\n",
      "only showing top 20 rows\n",
      "\n"
     ]
    }
   ],
   "source": [
    "spaspark.sql(\"select * from goog\").show()"
   ]
  },
  {
   "cell_type": "code",
   "execution_count": 128,
   "id": "4c1d1bfd",
   "metadata": {},
   "outputs": [
    {
     "name": "stdout",
     "output_type": "stream",
     "text": [
      "+-------------------+------------------+----------+----------+----------+---------+------------------+\n",
      "|               Date|              Open|      High|       Low|     Close|   Volume|         Adj Close|\n",
      "+-------------------+------------------+----------+----------+----------+---------+------------------+\n",
      "|2010-01-22 00:00:00|206.78000600000001|207.499996|    197.16|    197.75|220441900|         25.620401|\n",
      "|2010-01-28 00:00:00|        204.930004|205.500004|198.699995|199.289995|293375600|25.819922000000002|\n",
      "|2010-01-29 00:00:00|        201.079996|202.199995|190.250002|192.060003|311488100|         24.883208|\n",
      "+-------------------+------------------+----------+----------+----------+---------+------------------+\n",
      "\n"
     ]
    }
   ],
   "source": [
    "spark.sql(\"select * from goog where Close<200 and Open>200\").show()"
   ]
  },
  {
   "cell_type": "markdown",
   "id": "316272f9",
   "metadata": {},
   "source": [
    "#### Conditional Operators\n",
    "\n",
    "* | --> or\n",
    "* & --> and\n",
    "* ~ --> not (equivalent to ! in Python)"
   ]
  },
  {
   "cell_type": "code",
   "execution_count": 129,
   "id": "917c7ae8",
   "metadata": {},
   "outputs": [
    {
     "name": "stdout",
     "output_type": "stream",
     "text": [
      "+-------------------+------------------+----------+------+------+---------+---------+\n",
      "|               Date|              Open|      High|   Low| Close|   Volume|Adj Close|\n",
      "+-------------------+------------------+----------+------+------+---------+---------+\n",
      "|2010-01-22 00:00:00|206.78000600000001|207.499996|197.16|197.75|220441900|25.620401|\n",
      "+-------------------+------------------+----------+------+------+---------+---------+\n",
      "\n"
     ]
    }
   ],
   "source": [
    "goog_df.filter(goog_df['Low']==197.16).show()"
   ]
  },
  {
   "cell_type": "code",
   "execution_count": 131,
   "id": "d071c7ed",
   "metadata": {},
   "outputs": [
    {
     "name": "stdout",
     "output_type": "stream",
     "text": [
      "+-------------------+------------------+----------+------+------+---------+---------+\n",
      "|               Date|              Open|      High|   Low| Close|   Volume|Adj Close|\n",
      "+-------------------+------------------+----------+------+------+---------+---------+\n",
      "|2010-01-22 00:00:00|206.78000600000001|207.499996|197.16|197.75|220441900|25.620401|\n",
      "+-------------------+------------------+----------+------+------+---------+---------+\n",
      "\n"
     ]
    }
   ],
   "source": [
    "goog_df.filter('Low=197.16').show()"
   ]
  },
  {
   "cell_type": "code",
   "execution_count": 132,
   "id": "bc307d14",
   "metadata": {},
   "outputs": [],
   "source": [
    "result = goog_df.filter(goog_df['Low']==197.16).collect()"
   ]
  },
  {
   "cell_type": "code",
   "execution_count": 133,
   "id": "ed135c53",
   "metadata": {},
   "outputs": [
    {
     "data": {
      "text/plain": [
       "list"
      ]
     },
     "execution_count": 133,
     "metadata": {},
     "output_type": "execute_result"
    }
   ],
   "source": [
    "type(result)"
   ]
  },
  {
   "cell_type": "code",
   "execution_count": 134,
   "id": "6b3ccda5",
   "metadata": {},
   "outputs": [
    {
     "data": {
      "text/plain": [
       "pyspark.sql.types.Row"
      ]
     },
     "execution_count": 134,
     "metadata": {},
     "output_type": "execute_result"
    }
   ],
   "source": [
    "type(result[0])"
   ]
  },
  {
   "cell_type": "code",
   "execution_count": 140,
   "id": "cca03ff9",
   "metadata": {},
   "outputs": [
    {
     "data": {
      "text/plain": [
       "Row(Date=datetime.datetime(2010, 1, 22, 0, 0), Open=206.78000600000001, High=207.499996, Low=197.16, Close=197.75, Volume=220441900, Adj Close=25.620401)"
      ]
     },
     "execution_count": 140,
     "metadata": {},
     "output_type": "execute_result"
    }
   ],
   "source": [
    "result[0]"
   ]
  },
  {
   "cell_type": "code",
   "execution_count": 141,
   "id": "4d8cdfb2",
   "metadata": {},
   "outputs": [
    {
     "data": {
      "text/plain": [
       "[Row(Date=datetime.datetime(2010, 1, 22, 0, 0), Open=206.78000600000001, High=207.499996, Low=197.16, Close=197.75, Volume=220441900, Adj Close=25.620401)]"
      ]
     },
     "execution_count": 141,
     "metadata": {},
     "output_type": "execute_result"
    }
   ],
   "source": [
    "result"
   ]
  },
  {
   "cell_type": "code",
   "execution_count": 142,
   "id": "f67da568",
   "metadata": {},
   "outputs": [],
   "source": [
    "row = result[0]"
   ]
  },
  {
   "cell_type": "code",
   "execution_count": 143,
   "id": "157da2a4",
   "metadata": {},
   "outputs": [
    {
     "data": {
      "text/plain": [
       "{'Date': datetime.datetime(2010, 1, 22, 0, 0),\n",
       " 'Open': 206.78000600000001,\n",
       " 'High': 207.499996,\n",
       " 'Low': 197.16,\n",
       " 'Close': 197.75,\n",
       " 'Volume': 220441900,\n",
       " 'Adj Close': 25.620401}"
      ]
     },
     "execution_count": 143,
     "metadata": {},
     "output_type": "execute_result"
    }
   ],
   "source": [
    "row.asDict()"
   ]
  },
  {
   "cell_type": "code",
   "execution_count": 144,
   "id": "7280e9d4",
   "metadata": {},
   "outputs": [
    {
     "data": {
      "text/plain": [
       "{'Date': datetime.datetime(2010, 1, 22, 0, 0),\n",
       " 'Open': 206.78000600000001,\n",
       " 'High': 207.499996,\n",
       " 'Low': 197.16,\n",
       " 'Close': 197.75,\n",
       " 'Volume': 220441900,\n",
       " 'Adj Close': 25.620401}"
      ]
     },
     "execution_count": 144,
     "metadata": {},
     "output_type": "execute_result"
    }
   ],
   "source": [
    "result[0].asDict()"
   ]
  },
  {
   "cell_type": "code",
   "execution_count": 147,
   "id": "67dd3e88",
   "metadata": {},
   "outputs": [
    {
     "name": "stdout",
     "output_type": "stream",
     "text": [
      "Date\n",
      "Open\n",
      "High\n",
      "Low\n",
      "Close\n",
      "Volume\n",
      "Adj Close\n"
     ]
    }
   ],
   "source": [
    "for rows in result:\n",
    "    rowval = rows.asDict()\n",
    "    for item in rowval:\n",
    "        print(item)"
   ]
  },
  {
   "cell_type": "code",
   "execution_count": 148,
   "id": "38d4213e",
   "metadata": {},
   "outputs": [
    {
     "data": {
      "text/plain": [
       "{'Date': datetime.datetime(2010, 1, 22, 0, 0),\n",
       " 'Open': 206.78000600000001,\n",
       " 'High': 207.499996,\n",
       " 'Low': 197.16,\n",
       " 'Close': 197.75,\n",
       " 'Volume': 220441900,\n",
       " 'Adj Close': 25.620401}"
      ]
     },
     "execution_count": 148,
     "metadata": {},
     "output_type": "execute_result"
    }
   ],
   "source": [
    "row.asDict()"
   ]
  },
  {
   "cell_type": "code",
   "execution_count": 149,
   "id": "f3f43482",
   "metadata": {},
   "outputs": [
    {
     "name": "stdout",
     "output_type": "stream",
     "text": [
      "2010-01-22 00:00:00\n",
      "206.78000600000001\n",
      "207.499996\n",
      "197.16\n",
      "197.75\n",
      "220441900\n",
      "25.620401\n"
     ]
    }
   ],
   "source": [
    "for item in row:\n",
    "    print(item)"
   ]
  },
  {
   "cell_type": "code",
   "execution_count": 152,
   "id": "661a5a5d",
   "metadata": {},
   "outputs": [
    {
     "name": "stdout",
     "output_type": "stream",
     "text": [
      "+-------------------+------------------+------------------+------------------+------------------+---------+------------------+\n",
      "|               Date|              Open|              High|               Low|             Close|   Volume|         Adj Close|\n",
      "+-------------------+------------------+------------------+------------------+------------------+---------+------------------+\n",
      "|2010-01-04 00:00:00|        213.429998|        214.499996|212.38000099999996|        214.009998|123432400|         27.727039|\n",
      "|2010-01-05 00:00:00|        214.599998|        215.589994|        213.249994|        214.379993|150476200|27.774976000000002|\n",
      "|2010-01-06 00:00:00|        214.379993|            215.23|        210.750004|        210.969995|138040000|27.333178000000004|\n",
      "|2010-01-07 00:00:00|            211.75|        212.000006|        209.050005|            210.58|119282800|          27.28265|\n",
      "|2010-01-08 00:00:00|        210.299994|        212.000006|209.06000500000002|211.98000499999998|111902700|         27.464034|\n",
      "|2010-01-11 00:00:00|212.79999700000002|        213.000002|        208.450005|210.11000299999998|115557400|         27.221758|\n",
      "|2010-01-12 00:00:00|209.18999499999998|209.76999500000002|        206.419998|        207.720001|148614900|          26.91211|\n",
      "|2010-01-13 00:00:00|        207.870005|210.92999500000002|        204.099998|        210.650002|151473000|          27.29172|\n",
      "|2010-01-14 00:00:00|210.11000299999998|210.45999700000002|        209.020004|            209.43|108223500|         27.133657|\n",
      "|2010-01-15 00:00:00|210.92999500000002|211.59999700000003|        205.869999|            205.93|148516900|26.680197999999997|\n",
      "|2010-01-19 00:00:00|        208.330002|215.18999900000003|        207.240004|        215.039995|182501900|27.860484999999997|\n",
      "|2010-01-20 00:00:00|        214.910006|        215.549994|        209.500002|            211.73|153038200|         27.431644|\n",
      "|2010-01-21 00:00:00|        212.079994|213.30999599999998|        207.210003|        208.069996|152038600|         26.957455|\n",
      "|2010-01-22 00:00:00|206.78000600000001|        207.499996|            197.16|            197.75|220441900|         25.620401|\n",
      "|2010-01-25 00:00:00|202.51000200000001|        204.699999|        200.190002|        203.070002|266424900|26.309658000000002|\n",
      "|2010-01-26 00:00:00|205.95000100000001|        213.710005|        202.580004|        205.940001|466777500|         26.681494|\n",
      "|2010-01-27 00:00:00|        206.849995|            210.58|        199.530001|        207.880005|430642100|26.932840000000002|\n",
      "|2010-01-28 00:00:00|        204.930004|        205.500004|        198.699995|        199.289995|293375600|25.819922000000002|\n",
      "|2010-01-29 00:00:00|        201.079996|        202.199995|        190.250002|        192.060003|311488100|         24.883208|\n",
      "|2010-02-01 00:00:00|192.36999699999998|             196.0|191.29999899999999|        194.729998|187469100|         25.229131|\n",
      "+-------------------+------------------+------------------+------------------+------------------+---------+------------------+\n",
      "only showing top 20 rows\n",
      "\n"
     ]
    }
   ],
   "source": [
    "spark.sql(\"select * from goog\").show()"
   ]
  },
  {
   "cell_type": "code",
   "execution_count": 153,
   "id": "49e0cb46",
   "metadata": {},
   "outputs": [
    {
     "name": "stdout",
     "output_type": "stream",
     "text": [
      "+----------+\n",
      "| max(Open)|\n",
      "+----------+\n",
      "|702.409988|\n",
      "+----------+\n",
      "\n"
     ]
    }
   ],
   "source": [
    "spark.sql(\"select max(Open) from goog\").show()"
   ]
  },
  {
   "cell_type": "code",
   "execution_count": 154,
   "id": "d13f8a37",
   "metadata": {},
   "outputs": [
    {
     "name": "stdout",
     "output_type": "stream",
     "text": [
      "+-------------------+---------+-----------------+-----------------+\n",
      "|          max(Date)|min(Open)|        sum(High)|         avg(Low)|\n",
      "+-------------------+---------+-----------------+-----------------+\n",
      "|2016-12-30 00:00:00|     90.0|556635.6894849992|309.8282405079457|\n",
      "+-------------------+---------+-----------------+-----------------+\n",
      "\n"
     ]
    }
   ],
   "source": [
    "spark.sql(\"select max(Date), min(Open),sum(High), avg(Low) from goog\").show()"
   ]
  },
  {
   "cell_type": "code",
   "execution_count": 155,
   "id": "228f3507",
   "metadata": {},
   "outputs": [
    {
     "name": "stdout",
     "output_type": "stream",
     "text": [
      "+-------------------+---------+-----------------+-----------------+\n",
      "|          min(Date)|min(Open)|        sum(High)|         avg(Low)|\n",
      "+-------------------+---------+-----------------+-----------------+\n",
      "|2010-01-04 00:00:00|     90.0|556635.6894849992|309.8282405079457|\n",
      "+-------------------+---------+-----------------+-----------------+\n",
      "\n"
     ]
    }
   ],
   "source": [
    "spark.sql(\"select min(Date), min(Open),sum(High), avg(Low) from goog\").show()"
   ]
  },
  {
   "cell_type": "code",
   "execution_count": 156,
   "id": "3b07d3b6",
   "metadata": {},
   "outputs": [
    {
     "name": "stdout",
     "output_type": "stream",
     "text": [
      "+--------+\n",
      "|count(1)|\n",
      "+--------+\n",
      "|    1762|\n",
      "+--------+\n",
      "\n"
     ]
    }
   ],
   "source": [
    "spark.sql(\"select count(*) from goog\").show()"
   ]
  },
  {
   "cell_type": "code",
   "execution_count": 157,
   "id": "5db871b3",
   "metadata": {},
   "outputs": [
    {
     "name": "stdout",
     "output_type": "stream",
     "text": [
      "+--------+\n",
      "|count(1)|\n",
      "+--------+\n",
      "|    1062|\n",
      "+--------+\n",
      "\n"
     ]
    }
   ],
   "source": [
    "spark.sql(\"select count(*) from goog where Date>'2012-10-10'\").show()"
   ]
  },
  {
   "cell_type": "code",
   "execution_count": 158,
   "id": "d75081a2",
   "metadata": {},
   "outputs": [
    {
     "name": "stdout",
     "output_type": "stream",
     "text": [
      "+--------+\n",
      "|count(1)|\n",
      "+--------+\n",
      "|     543|\n",
      "+--------+\n",
      "\n"
     ]
    }
   ],
   "source": [
    "spark.sql(\"select count(*) from goog where Date>'2012-10-10' and Date <'2014-12-10'\").show()"
   ]
  },
  {
   "cell_type": "code",
   "execution_count": 161,
   "id": "23abf801",
   "metadata": {},
   "outputs": [
    {
     "ename": "SyntaxError",
     "evalue": "unterminated string literal (detected at line 1) (1987917407.py, line 1)",
     "output_type": "error",
     "traceback": [
      "\u001b[1;36m  File \u001b[1;32m\"C:\\Users\\suzuk\\AppData\\Local\\Temp\\ipykernel_25160\\1987917407.py\"\u001b[1;36m, line \u001b[1;32m1\u001b[0m\n\u001b[1;33m    spark.sql(\"select count(*) from goog where Date.between('2012-10-10' ,'2014-12-10')).show()\u001b[0m\n\u001b[1;37m              ^\u001b[0m\n\u001b[1;31mSyntaxError\u001b[0m\u001b[1;31m:\u001b[0m unterminated string literal (detected at line 1)\n"
     ]
    }
   ],
   "source": [
    "spark.sql(\"select count(*) from goog where Date.between('2012-10-10' ,'2014-12-10')).show()"
   ]
  },
  {
   "cell_type": "markdown",
   "id": "782a0b24",
   "metadata": {},
   "source": [
    "### GroupBy, Agg"
   ]
  },
  {
   "cell_type": "code",
   "execution_count": 162,
   "id": "36169a2f",
   "metadata": {},
   "outputs": [],
   "source": [
    "cemp_df = spark.read.csv(EMP_CSV,inferSchema=True,header=True)"
   ]
  },
  {
   "cell_type": "code",
   "execution_count": 163,
   "id": "09c6db86",
   "metadata": {},
   "outputs": [
    {
     "name": "stdout",
     "output_type": "stream",
     "text": [
      "root\n",
      " |-- id: integer (nullable = true)\n",
      " |-- name: string (nullable = true)\n",
      " |-- age: integer (nullable = true)\n",
      " |-- salary: integer (nullable = true)\n",
      " |-- dept_id: string (nullable = true)\n",
      "\n"
     ]
    }
   ],
   "source": [
    "cemp_df.printSchema()"
   ]
  },
  {
   "cell_type": "code",
   "execution_count": 164,
   "id": "963ccc99",
   "metadata": {},
   "outputs": [
    {
     "name": "stdout",
     "output_type": "stream",
     "text": [
      "+---+------+---+------+-------+\n",
      "| id|  name|age|salary|dept_id|\n",
      "+---+------+---+------+-------+\n",
      "|  1|  Bill| 30| 10000|     D1|\n",
      "|  2| Steve| 40| 12000|     D2|\n",
      "|  3|Donald| 50| 14000|     D2|\n",
      "|  4|  Modi| 60| 18000|     D1|\n",
      "|  5|Sundar| 70| 22000|     D3|\n",
      "|  6|  Jeff| 80| 22000|     D3|\n",
      "|  7|Sergey| 90| 30000|     D3|\n",
      "+---+------+---+------+-------+\n",
      "\n"
     ]
    }
   ],
   "source": [
    "cemp_df.show()"
   ]
  },
  {
   "cell_type": "code",
   "execution_count": 165,
   "id": "37e7f04d",
   "metadata": {},
   "outputs": [
    {
     "data": {
      "text/plain": [
       "<pyspark.sql.group.GroupedData at 0x20ca4767a90>"
      ]
     },
     "execution_count": 165,
     "metadata": {},
     "output_type": "execute_result"
    }
   ],
   "source": [
    "cemp_df.groupBy(\"dept_id\")"
   ]
  },
  {
   "cell_type": "code",
   "execution_count": 167,
   "id": "614e1d2a",
   "metadata": {},
   "outputs": [
    {
     "name": "stdout",
     "output_type": "stream",
     "text": [
      "+-------+-----+\n",
      "|dept_id|count|\n",
      "+-------+-----+\n",
      "|     D1|    2|\n",
      "|     D3|    3|\n",
      "|     D2|    2|\n",
      "+-------+-----+\n",
      "\n"
     ]
    }
   ],
   "source": [
    "cemp_df.groupBy(\"dept_id\").count().show()"
   ]
  },
  {
   "cell_type": "code",
   "execution_count": 168,
   "id": "aae4b9da",
   "metadata": {},
   "outputs": [
    {
     "name": "stdout",
     "output_type": "stream",
     "text": [
      "+-------+-------+--------+------------------+\n",
      "|dept_id|avg(id)|avg(age)|       avg(salary)|\n",
      "+-------+-------+--------+------------------+\n",
      "|     D1|    2.5|    45.0|           14000.0|\n",
      "|     D3|    6.0|    80.0|24666.666666666668|\n",
      "|     D2|    2.5|    45.0|           13000.0|\n",
      "+-------+-------+--------+------------------+\n",
      "\n"
     ]
    }
   ],
   "source": [
    "cemp_df.groupBy(\"dept_id\").mean().show()"
   ]
  },
  {
   "cell_type": "code",
   "execution_count": 169,
   "id": "0040522c",
   "metadata": {},
   "outputs": [
    {
     "name": "stdout",
     "output_type": "stream",
     "text": [
      "+-------+-------+--------+------------------+\n",
      "|dept_id|avg(id)|avg(age)|       avg(salary)|\n",
      "+-------+-------+--------+------------------+\n",
      "|     D1|    2.5|    45.0|           14000.0|\n",
      "|     D3|    6.0|    80.0|24666.666666666668|\n",
      "|     D2|    2.5|    45.0|           13000.0|\n",
      "+-------+-------+--------+------------------+\n",
      "\n"
     ]
    }
   ],
   "source": [
    "cemp_df.groupBy(\"dept_id\").avg().show()"
   ]
  },
  {
   "cell_type": "code",
   "execution_count": 170,
   "id": "66e4c871",
   "metadata": {},
   "outputs": [
    {
     "name": "stdout",
     "output_type": "stream",
     "text": [
      "+-------+-------+--------+-----------+\n",
      "|dept_id|sum(id)|sum(age)|sum(salary)|\n",
      "+-------+-------+--------+-----------+\n",
      "|     D1|      5|      90|      28000|\n",
      "|     D3|     18|     240|      74000|\n",
      "|     D2|      5|      90|      26000|\n",
      "+-------+-------+--------+-----------+\n",
      "\n"
     ]
    }
   ],
   "source": [
    "cemp_df.groupBy(\"dept_id\").sum().show()"
   ]
  },
  {
   "cell_type": "code",
   "execution_count": 171,
   "id": "dfdac7f2",
   "metadata": {},
   "outputs": [
    {
     "name": "stdout",
     "output_type": "stream",
     "text": [
      "+-------+-------+--------+-----------+\n",
      "|dept_id|max(id)|max(age)|max(salary)|\n",
      "+-------+-------+--------+-----------+\n",
      "|     D1|      4|      60|      18000|\n",
      "|     D3|      7|      90|      30000|\n",
      "|     D2|      3|      50|      14000|\n",
      "+-------+-------+--------+-----------+\n",
      "\n"
     ]
    }
   ],
   "source": [
    "cemp_df.groupBy(\"dept_id\").max().show()"
   ]
  },
  {
   "cell_type": "code",
   "execution_count": 172,
   "id": "7ec65309",
   "metadata": {},
   "outputs": [
    {
     "name": "stdout",
     "output_type": "stream",
     "text": [
      "+-------+-------+--------+-----------+\n",
      "|dept_id|min(id)|min(age)|min(salary)|\n",
      "+-------+-------+--------+-----------+\n",
      "|     D1|      1|      30|      10000|\n",
      "|     D3|      5|      70|      22000|\n",
      "|     D2|      2|      40|      12000|\n",
      "+-------+-------+--------+-----------+\n",
      "\n"
     ]
    }
   ],
   "source": [
    "cemp_df.groupBy(\"dept_id\").min().show()"
   ]
  },
  {
   "cell_type": "code",
   "execution_count": 173,
   "id": "79068ca3",
   "metadata": {},
   "outputs": [],
   "source": [
    "cemp_df.createOrReplaceTempView('cemp')"
   ]
  },
  {
   "cell_type": "code",
   "execution_count": 175,
   "id": "9de9ac30",
   "metadata": {},
   "outputs": [
    {
     "name": "stdout",
     "output_type": "stream",
     "text": [
      "+---+------+---+------+-------+\n",
      "| id|  name|age|salary|dept_id|\n",
      "+---+------+---+------+-------+\n",
      "|  1|  Bill| 30| 10000|     D1|\n",
      "|  2| Steve| 40| 12000|     D2|\n",
      "|  3|Donald| 50| 14000|     D2|\n",
      "|  4|  Modi| 60| 18000|     D1|\n",
      "|  5|Sundar| 70| 22000|     D3|\n",
      "|  6|  Jeff| 80| 22000|     D3|\n",
      "|  7|Sergey| 90| 30000|     D3|\n",
      "+---+------+---+------+-------+\n",
      "\n"
     ]
    }
   ],
   "source": [
    "spark.sql('select * from cemp').show()"
   ]
  },
  {
   "cell_type": "code",
   "execution_count": 177,
   "id": "1c464bbe",
   "metadata": {},
   "outputs": [
    {
     "name": "stdout",
     "output_type": "stream",
     "text": [
      "+-------+--------+\n",
      "|dept_id|count(1)|\n",
      "+-------+--------+\n",
      "|     D1|       2|\n",
      "|     D3|       3|\n",
      "|     D2|       2|\n",
      "+-------+--------+\n",
      "\n"
     ]
    }
   ],
   "source": [
    "spark.sql('select dept_id,count(*) from cemp group by dept_id').show()"
   ]
  },
  {
   "cell_type": "code",
   "execution_count": 178,
   "id": "63100ca3",
   "metadata": {},
   "outputs": [
    {
     "name": "stdout",
     "output_type": "stream",
     "text": [
      "+-------+-------+--------+-----------+------------------+\n",
      "|dept_id|min(id)|max(age)|sum(salary)|      mean(salary)|\n",
      "+-------+-------+--------+-----------+------------------+\n",
      "|     D1|      1|      60|      28000|           14000.0|\n",
      "|     D3|      5|      90|      74000|24666.666666666668|\n",
      "|     D2|      2|      50|      26000|           13000.0|\n",
      "+-------+-------+--------+-----------+------------------+\n",
      "\n"
     ]
    }
   ],
   "source": [
    "spark.sql('select dept_id,min(id), max(age),sum(salary),mean(salary) from cemp group by dept_id').show()"
   ]
  },
  {
   "cell_type": "code",
   "execution_count": 179,
   "id": "4ecea7f4",
   "metadata": {},
   "outputs": [
    {
     "name": "stdout",
     "output_type": "stream",
     "text": [
      "+-------+-------+--------+-----------+------------------+\n",
      "|dept_id|min(id)|max(age)|sum(salary)|      mean(salary)|\n",
      "+-------+-------+--------+-----------+------------------+\n",
      "|     D3|      5|      90|      74000|24666.666666666668|\n",
      "|     D2|      2|      50|      26000|           13000.0|\n",
      "|     D1|      1|      60|      28000|           14000.0|\n",
      "+-------+-------+--------+-----------+------------------+\n",
      "\n"
     ]
    }
   ],
   "source": [
    "spark.sql('select dept_id,min(id), max(age),sum(salary),mean(salary) from cemp group by dept_id order by dept_id desc').show()"
   ]
  },
  {
   "cell_type": "code",
   "execution_count": 180,
   "id": "b82d0c78",
   "metadata": {},
   "outputs": [
    {
     "name": "stdout",
     "output_type": "stream",
     "text": [
      "+-------+-------+--------+-----------+------------------+\n",
      "|dept_id|min(id)|max(age)|sum(salary)|      mean(salary)|\n",
      "+-------+-------+--------+-----------+------------------+\n",
      "|     D3|      5|      90|      74000|24666.666666666668|\n",
      "|     D2|      2|      50|      26000|           13000.0|\n",
      "|     D1|      1|      60|      28000|           14000.0|\n",
      "+-------+-------+--------+-----------+------------------+\n",
      "\n"
     ]
    }
   ],
   "source": [
    "spark.range(1000 * 1000 * 1000).count()spark.sql('select dept_id,min(id), max(age),sum(salary),mean(salary) from cemp group by dept_id order by dept_id desc').show()"
   ]
  },
  {
   "cell_type": "code",
   "execution_count": 181,
   "id": "ea6db898",
   "metadata": {},
   "outputs": [
    {
     "data": {
      "text/plain": [
       "1000000000"
      ]
     },
     "execution_count": 181,
     "metadata": {},
     "output_type": "execute_result"
    }
   ],
   "source": [
    "spark.range(1000 * 1000 * 1000).count()"
   ]
  },
  {
   "cell_type": "code",
   "execution_count": 201,
   "id": "90899211",
   "metadata": {},
   "outputs": [
    {
     "name": "stdout",
     "output_type": "stream",
     "text": [
      "+-------+-------+--------+-----------+------------------+\n",
      "|dept_id|min(id)|max(age)|sum(salary)|            salary|\n",
      "+-------+-------+--------+-----------+------------------+\n",
      "|     D3|      5|      90|      74000|24666.666666666668|\n",
      "|     D2|      2|      50|      26000|           13000.0|\n",
      "|     D1|      1|      60|      28000|           14000.0|\n",
      "+-------+-------+--------+-----------+------------------+\n",
      "\n"
     ]
    }
   ],
   "source": [
    "spark.sql('select dept_id,min(id), max(age),sum(salary),mean(salary) as salary from cemp group by dept_id order by dept_id desc, salary asc').show()"
   ]
  },
  {
   "cell_type": "code",
   "execution_count": 202,
   "id": "7e18b96e",
   "metadata": {},
   "outputs": [
    {
     "name": "stdout",
     "output_type": "stream",
     "text": [
      "+-------+-------+--------+-------+------------------+\n",
      "|dept_id|min(id)|max(age)|ssalary|            salary|\n",
      "+-------+-------+--------+-------+------------------+\n",
      "|     D3|      5|      90|  74000|24666.666666666668|\n",
      "|     D2|      2|      50|  26000|           13000.0|\n",
      "|     D1|      1|      60|  28000|           14000.0|\n",
      "+-------+-------+--------+-------+------------------+\n",
      "\n"
     ]
    }
   ],
   "source": [
    "spark.sql('select dept_id,min(id), max(age),sum(salary) as ssalary,mean(salary) as salary from cemp group by dept_id order by dept_id desc, salary asc').show()"
   ]
  },
  {
   "cell_type": "code",
   "execution_count": 203,
   "id": "9cdf9707",
   "metadata": {},
   "outputs": [
    {
     "name": "stdout",
     "output_type": "stream",
     "text": [
      "+-------+-------+--------+-------+------------------+\n",
      "|dept_id|min(id)|max(age)|ssalary|           msalary|\n",
      "+-------+-------+--------+-------+------------------+\n",
      "|     D3|      5|      90|  74000|24666.666666666668|\n",
      "|     D2|      2|      50|  26000|           13000.0|\n",
      "|     D1|      1|      60|  28000|           14000.0|\n",
      "+-------+-------+--------+-------+------------------+\n",
      "\n"
     ]
    }
   ],
   "source": [
    "spark.sql('select dept_id,min(id), max(age),sum(salary) as ssalary,mean(salary) as msalary from cemp group by dept_id order by dept_id desc, ssalary asc').show()"
   ]
  },
  {
   "cell_type": "code",
   "execution_count": 188,
   "id": "842d57dc",
   "metadata": {},
   "outputs": [
    {
     "name": "stdout",
     "output_type": "stream",
     "text": [
      "+-------+-------+--------+------------------+\n",
      "|dept_id|avg(id)|avg(age)|       avg(salary)|\n",
      "+-------+-------+--------+------------------+\n",
      "|     D1|    2.5|    45.0|           14000.0|\n",
      "|     D3|    6.0|    80.0|24666.666666666668|\n",
      "|     D2|    2.5|    45.0|           13000.0|\n",
      "+-------+-------+--------+------------------+\n",
      "\n"
     ]
    }
   ],
   "source": [
    "cemp_df.groupBy('dept_id').mean().show()"
   ]
  },
  {
   "cell_type": "code",
   "execution_count": 189,
   "id": "e34b12ed",
   "metadata": {},
   "outputs": [
    {
     "name": "stdout",
     "output_type": "stream",
     "text": [
      "+-------+-------+--------+-----------+\n",
      "|dept_id|sum(id)|sum(age)|sum(salary)|\n",
      "+-------+-------+--------+-----------+\n",
      "|     D1|      5|      90|      28000|\n",
      "|     D3|     18|     240|      74000|\n",
      "|     D2|      5|      90|      26000|\n",
      "+-------+-------+--------+-----------+\n",
      "\n"
     ]
    }
   ],
   "source": [
    "cemp_df.groupBy('dept_id').sum().show()"
   ]
  },
  {
   "cell_type": "code",
   "execution_count": 190,
   "id": "fe053a2a",
   "metadata": {},
   "outputs": [
    {
     "name": "stdout",
     "output_type": "stream",
     "text": [
      "+-------+-----------+--------+\n",
      "|dept_id|sum(salary)|sum(age)|\n",
      "+-------+-----------+--------+\n",
      "|     D1|      28000|      90|\n",
      "|     D3|      74000|     240|\n",
      "|     D2|      26000|      90|\n",
      "+-------+-----------+--------+\n",
      "\n"
     ]
    }
   ],
   "source": [
    "cemp_df.groupBy('dept_id').sum(\"salary\",\"age\").show()"
   ]
  },
  {
   "cell_type": "markdown",
   "id": "cb757773",
   "metadata": {},
   "source": [
    "### Alias name for aggregated measure columns\n",
    "\n",
    "In below example, 'alias' method has no impact"
   ]
  },
  {
   "cell_type": "code",
   "execution_count": 208,
   "id": "90153cce",
   "metadata": {},
   "outputs": [
    {
     "name": "stdout",
     "output_type": "stream",
     "text": [
      "+-------+------------------+\n",
      "|dept_id|       avg(salary)|\n",
      "+-------+------------------+\n",
      "|     D1|           14000.0|\n",
      "|     D3|24666.666666666668|\n",
      "|     D2|           13000.0|\n",
      "+-------+------------------+\n",
      "\n"
     ]
    }
   ],
   "source": [
    "cemp_df.groupBy('dept_id').mean(\"salary\").alias('avgSal').show()"
   ]
  },
  {
   "cell_type": "code",
   "execution_count": 204,
   "id": "ec76b22c",
   "metadata": {},
   "outputs": [
    {
     "name": "stdout",
     "output_type": "stream",
     "text": [
      "+-------+------------------+\n",
      "|dept_id|            avgSal|\n",
      "+-------+------------------+\n",
      "|     D1|           14000.0|\n",
      "|     D3|24666.666666666668|\n",
      "|     D2|           13000.0|\n",
      "+-------+------------------+\n",
      "\n"
     ]
    }
   ],
   "source": [
    "cemp_df.groupBy(\"dept_id\").mean('salary').select('dept_id',func_col(\"avg(salary)\").alias(\"avgSal\")).show()"
   ]
  },
  {
   "cell_type": "code",
   "execution_count": 207,
   "id": "79657e7f",
   "metadata": {},
   "outputs": [
    {
     "name": "stdout",
     "output_type": "stream",
     "text": [
      "+-------+------------------+\n",
      "|dept_id|            avgSal|\n",
      "+-------+------------------+\n",
      "|     D1|           14000.0|\n",
      "|     D3|24666.666666666668|\n",
      "|     D2|           13000.0|\n",
      "+-------+------------------+\n",
      "\n"
     ]
    }
   ],
   "source": [
    "cemp_df.groupBy('dept_id').mean('salary').withColumnRenamed('avg(Salary)','avgSal').show()"
   ]
  },
  {
   "cell_type": "code",
   "execution_count": 209,
   "id": "c00ba976",
   "metadata": {},
   "outputs": [
    {
     "ename": "AttributeError",
     "evalue": "'DataFrame' object has no attribute 'mean'",
     "output_type": "error",
     "traceback": [
      "\u001b[1;31m---------------------------------------------------------------------------\u001b[0m",
      "\u001b[1;31mAttributeError\u001b[0m                            Traceback (most recent call last)",
      "\u001b[1;32m~\\AppData\\Local\\Temp\\ipykernel_25160\\1464329153.py\u001b[0m in \u001b[0;36m<module>\u001b[1;34m\u001b[0m\n\u001b[1;32m----> 1\u001b[1;33m \u001b[0mcemp_df\u001b[0m\u001b[1;33m.\u001b[0m\u001b[0mgroupBy\u001b[0m\u001b[1;33m(\u001b[0m\u001b[1;34m\"dept_id\"\u001b[0m\u001b[1;33m)\u001b[0m\u001b[1;33m.\u001b[0m\u001b[0msum\u001b[0m\u001b[1;33m(\u001b[0m\u001b[1;34m\"salary\"\u001b[0m\u001b[1;33m,\u001b[0m\u001b[1;34m\"age\"\u001b[0m\u001b[1;33m)\u001b[0m\u001b[1;33m.\u001b[0m\u001b[0mmean\u001b[0m\u001b[1;33m(\u001b[0m\u001b[1;34m'salary'\u001b[0m\u001b[1;33m)\u001b[0m\u001b[1;33m.\u001b[0m\u001b[0mshow\u001b[0m\u001b[1;33m(\u001b[0m\u001b[1;33m)\u001b[0m\u001b[1;33m\u001b[0m\u001b[1;33m\u001b[0m\u001b[0m\n\u001b[0m",
      "\u001b[1;32mC:\\ProgramData\\Anaconda3\\envs\\Py310\\lib\\site-packages\\pyspark\\sql\\dataframe.py\u001b[0m in \u001b[0;36m__getattr__\u001b[1;34m(self, name)\u001b[0m\n\u001b[0;32m   1657\u001b[0m         \"\"\"\n\u001b[0;32m   1658\u001b[0m         \u001b[1;32mif\u001b[0m \u001b[0mname\u001b[0m \u001b[1;32mnot\u001b[0m \u001b[1;32min\u001b[0m \u001b[0mself\u001b[0m\u001b[1;33m.\u001b[0m\u001b[0mcolumns\u001b[0m\u001b[1;33m:\u001b[0m\u001b[1;33m\u001b[0m\u001b[1;33m\u001b[0m\u001b[0m\n\u001b[1;32m-> 1659\u001b[1;33m             raise AttributeError(\n\u001b[0m\u001b[0;32m   1660\u001b[0m                 \"'%s' object has no attribute '%s'\" % (self.__class__.__name__, name))\n\u001b[0;32m   1661\u001b[0m         \u001b[0mjc\u001b[0m \u001b[1;33m=\u001b[0m \u001b[0mself\u001b[0m\u001b[1;33m.\u001b[0m\u001b[0m_jdf\u001b[0m\u001b[1;33m.\u001b[0m\u001b[0mapply\u001b[0m\u001b[1;33m(\u001b[0m\u001b[0mname\u001b[0m\u001b[1;33m)\u001b[0m\u001b[1;33m\u001b[0m\u001b[1;33m\u001b[0m\u001b[0m\n",
      "\u001b[1;31mAttributeError\u001b[0m: 'DataFrame' object has no attribute 'mean'"
     ]
    }
   ],
   "source": [
    "cemp_df.groupBy(\"dept_id\").sum(\"salary\",\"age\").mean('salary').show()"
   ]
  },
  {
   "cell_type": "code",
   "execution_count": 210,
   "id": "02d5fe3c",
   "metadata": {},
   "outputs": [
    {
     "name": "stdout",
     "output_type": "stream",
     "text": [
      "+-------+-----+\n",
      "|dept_id|count|\n",
      "+-------+-----+\n",
      "|     D1|    2|\n",
      "|     D3|    3|\n",
      "|     D2|    2|\n",
      "+-------+-----+\n",
      "\n"
     ]
    }
   ],
   "source": [
    "cemp_df.groupBy('dept_id').count().show()"
   ]
  },
  {
   "cell_type": "code",
   "execution_count": 211,
   "id": "fb03f0f7",
   "metadata": {},
   "outputs": [
    {
     "name": "stdout",
     "output_type": "stream",
     "text": [
      "+-------+-------+--------+-----------+\n",
      "|dept_id|max(id)|max(age)|max(salary)|\n",
      "+-------+-------+--------+-----------+\n",
      "|     D1|      4|      60|      18000|\n",
      "|     D3|      7|      90|      30000|\n",
      "|     D2|      3|      50|      14000|\n",
      "+-------+-------+--------+-----------+\n",
      "\n"
     ]
    }
   ],
   "source": [
    "cemp_df.groupBy(\"dept_id\").max().show()"
   ]
  },
  {
   "cell_type": "code",
   "execution_count": 212,
   "id": "a68d7ccf",
   "metadata": {},
   "outputs": [
    {
     "name": "stdout",
     "output_type": "stream",
     "text": [
      "+-------+-------+--------+-----------+\n",
      "|dept_id|min(id)|min(age)|min(salary)|\n",
      "+-------+-------+--------+-----------+\n",
      "|     D1|      1|      30|      10000|\n",
      "|     D3|      5|      70|      22000|\n",
      "|     D2|      2|      40|      12000|\n",
      "+-------+-------+--------+-----------+\n",
      "\n"
     ]
    }
   ],
   "source": [
    "cemp_df.groupBy(\"dept_id\").min().show()"
   ]
  },
  {
   "cell_type": "code",
   "execution_count": 213,
   "id": "78f81e2e",
   "metadata": {},
   "outputs": [
    {
     "name": "stdout",
     "output_type": "stream",
     "text": [
      "+-------+-------+--------+-----------+\n",
      "|dept_id|sum(id)|sum(age)|sum(salary)|\n",
      "+-------+-------+--------+-----------+\n",
      "|     D1|      5|      90|      28000|\n",
      "|     D3|     18|     240|      74000|\n",
      "|     D2|      5|      90|      26000|\n",
      "+-------+-------+--------+-----------+\n",
      "\n"
     ]
    }
   ],
   "source": [
    "cemp_df.groupBy(\"dept_id\").sum().show()"
   ]
  },
  {
   "cell_type": "code",
   "execution_count": 214,
   "id": "4af0b90b",
   "metadata": {},
   "outputs": [
    {
     "data": {
      "text/plain": [
       "DataFrame[max(salary): int]"
      ]
     },
     "execution_count": 214,
     "metadata": {},
     "output_type": "execute_result"
    }
   ],
   "source": [
    "cemp_df.agg({'salary':'max'})"
   ]
  },
  {
   "cell_type": "code",
   "execution_count": 215,
   "id": "546e877d",
   "metadata": {},
   "outputs": [
    {
     "name": "stdout",
     "output_type": "stream",
     "text": [
      "+-----------+\n",
      "|max(salary)|\n",
      "+-----------+\n",
      "|      30000|\n",
      "+-----------+\n",
      "\n"
     ]
    }
   ],
   "source": [
    "cemp_df.agg({'salary':'max'}).show()"
   ]
  },
  {
   "cell_type": "code",
   "execution_count": 216,
   "id": "6afc9dc4",
   "metadata": {},
   "outputs": [],
   "source": [
    "groupd_cemp = cemp_df.groupBy(\"dept_id\")"
   ]
  },
  {
   "cell_type": "code",
   "execution_count": 219,
   "id": "221b08b7",
   "metadata": {},
   "outputs": [
    {
     "name": "stdout",
     "output_type": "stream",
     "text": [
      "+-------+-----------+\n",
      "|dept_id|sum(salary)|\n",
      "+-------+-----------+\n",
      "|     D1|      28000|\n",
      "|     D3|      74000|\n",
      "|     D2|      26000|\n",
      "+-------+-----------+\n",
      "\n"
     ]
    }
   ],
   "source": [
    "groupd_cemp.agg({'salary':'sum'}).show()"
   ]
  },
  {
   "cell_type": "code",
   "execution_count": 220,
   "id": "2aec7685",
   "metadata": {},
   "outputs": [],
   "source": [
    "grouped_cemp2 = cemp_df.groupBy(['dept_id','salary'])"
   ]
  },
  {
   "cell_type": "code",
   "execution_count": 221,
   "id": "dcc24b2a",
   "metadata": {},
   "outputs": [
    {
     "name": "stdout",
     "output_type": "stream",
     "text": [
      "+-------+------+--------+\n",
      "|dept_id|salary|max(age)|\n",
      "+-------+------+--------+\n",
      "|     D1| 18000|      60|\n",
      "|     D2| 14000|      50|\n",
      "|     D3| 30000|      90|\n",
      "|     D3| 22000|      80|\n",
      "|     D2| 12000|      40|\n",
      "|     D1| 10000|      30|\n",
      "+-------+------+--------+\n",
      "\n"
     ]
    }
   ],
   "source": [
    "grouped_cemp2.agg({'age':'max'}).show()"
   ]
  },
  {
   "cell_type": "code",
   "execution_count": 222,
   "id": "a886d87b",
   "metadata": {},
   "outputs": [
    {
     "data": {
      "text/plain": [
       "DataFrame[dept_id: string, salary: int, sum(id): bigint, max(age): int]"
      ]
     },
     "execution_count": 222,
     "metadata": {},
     "output_type": "execute_result"
    }
   ],
   "source": [
    "grouped_cemp2.agg({'age':'max', 'id':'sum'})"
   ]
  },
  {
   "cell_type": "code",
   "execution_count": 223,
   "id": "51fa646b",
   "metadata": {},
   "outputs": [
    {
     "name": "stdout",
     "output_type": "stream",
     "text": [
      "+-------+------+-------+--------+\n",
      "|dept_id|salary|sum(id)|max(age)|\n",
      "+-------+------+-------+--------+\n",
      "|     D1| 18000|      4|      60|\n",
      "|     D2| 14000|      3|      50|\n",
      "|     D3| 30000|      7|      90|\n",
      "|     D3| 22000|     11|      80|\n",
      "|     D2| 12000|      2|      40|\n",
      "|     D1| 10000|      1|      30|\n",
      "+-------+------+-------+--------+\n",
      "\n"
     ]
    }
   ],
   "source": [
    "grouped_cemp2.agg({'age':'max', 'id':'sum'}).show()"
   ]
  },
  {
   "cell_type": "markdown",
   "id": "87d6fcab",
   "metadata": {},
   "source": [
    "Multiple aggregations using **agg** along with **alias** on aggregate measures"
   ]
  },
  {
   "cell_type": "code",
   "execution_count": 225,
   "id": "586c2200",
   "metadata": {},
   "outputs": [],
   "source": [
    "from pyspark.sql.functions import max as smax, min as smin, count, countDistinct"
   ]
  },
  {
   "cell_type": "code",
   "execution_count": 226,
   "id": "45485af6",
   "metadata": {},
   "outputs": [
    {
     "name": "stdout",
     "output_type": "stream",
     "text": [
      "+-------+------+------+-----+-----------+\n",
      "|dept_id|salary|maxAge|minAe|distinctAge|\n",
      "+-------+------+------+-----+-----------+\n",
      "|     D1| 18000|    60|   60|          1|\n",
      "|     D2| 14000|    50|   50|          1|\n",
      "|     D3| 30000|    90|   90|          1|\n",
      "|     D3| 22000|    80|   70|          2|\n",
      "|     D2| 12000|    40|   40|          1|\n",
      "|     D1| 10000|    30|   30|          1|\n",
      "+-------+------+------+-----+-----------+\n",
      "\n"
     ]
    }
   ],
   "source": [
    "grouped_cemp2.agg(smax(\"age\").alias(\"maxAge\"),\n",
    "                  smin(\"age\").alias('minAe'),\n",
    "                  countDistinct(\"age\").alias('distinctAge')).show()"
   ]
  },
  {
   "cell_type": "markdown",
   "id": "b60847c8",
   "metadata": {},
   "source": [
    "### Apply aggregation functions directly on grouped-data <font color='red'>without</font> using \"agg\""
   ]
  },
  {
   "cell_type": "code",
   "execution_count": 229,
   "id": "b2d03ba8",
   "metadata": {},
   "outputs": [
    {
     "name": "stdout",
     "output_type": "stream",
     "text": [
      "+-------+------+--------+-------+\n",
      "|dept_id|salary|max(age)|max(id)|\n",
      "+-------+------+--------+-------+\n",
      "|     D1| 18000|      60|      4|\n",
      "|     D2| 14000|      50|      3|\n",
      "|     D3| 30000|      90|      7|\n",
      "|     D3| 22000|      80|      6|\n",
      "|     D2| 12000|      40|      2|\n",
      "|     D1| 10000|      30|      1|\n",
      "+-------+------+--------+-------+\n",
      "\n"
     ]
    }
   ],
   "source": [
    "grouped_cemp2.max('age','id').show()"
   ]
  },
  {
   "cell_type": "code",
   "execution_count": 231,
   "id": "e246ffc7",
   "metadata": {},
   "outputs": [
    {
     "name": "stdout",
     "output_type": "stream",
     "text": [
      "+---+------+---+------+-------+\n",
      "| id|  name|age|salary|dept_id|\n",
      "+---+------+---+------+-------+\n",
      "|  1|  Bill| 30| 10000|     D1|\n",
      "|  2| Steve| 40| 12000|     D2|\n",
      "|  3|Donald| 50| 14000|     D2|\n",
      "|  4|  Modi| 60| 18000|     D1|\n",
      "|  5|Sundar| 70| 22000|     D3|\n",
      "|  6|  Jeff| 80| 22000|     D3|\n",
      "|  7|Sergey| 90| 30000|     D3|\n",
      "+---+------+---+------+-------+\n",
      "\n"
     ]
    }
   ],
   "source": [
    "cemp_df.show()"
   ]
  },
  {
   "cell_type": "code",
   "execution_count": 232,
   "id": "7079a308",
   "metadata": {},
   "outputs": [
    {
     "name": "stdout",
     "output_type": "stream",
     "text": [
      "+-------+------+--------+-------+\n",
      "|dept_id|salary|min(age)|min(id)|\n",
      "+-------+------+--------+-------+\n",
      "|     D1| 18000|      60|      4|\n",
      "|     D2| 14000|      50|      3|\n",
      "|     D3| 30000|      90|      7|\n",
      "|     D3| 22000|      70|      5|\n",
      "|     D2| 12000|      40|      2|\n",
      "|     D1| 10000|      30|      1|\n",
      "+-------+------+--------+-------+\n",
      "\n"
     ]
    }
   ],
   "source": [
    "grouped_cemp2.min('age','id').show()"
   ]
  },
  {
   "cell_type": "code",
   "execution_count": 233,
   "id": "e26ab7fb",
   "metadata": {},
   "outputs": [
    {
     "name": "stdout",
     "output_type": "stream",
     "text": [
      "+-------+------+-------+-------+\n",
      "|dept_id|salary|max_age|max(id)|\n",
      "+-------+------+-------+-------+\n",
      "|     D1| 18000|     60|      4|\n",
      "|     D2| 14000|     50|      3|\n",
      "|     D3| 30000|     90|      7|\n",
      "|     D3| 22000|     80|      6|\n",
      "|     D2| 12000|     40|      2|\n",
      "|     D1| 10000|     30|      1|\n",
      "+-------+------+-------+-------+\n",
      "\n"
     ]
    }
   ],
   "source": [
    "grouped_cemp2.max('age','id').withColumnRenamed('max(age)','max_age').withColumnRenamed('min(id)','min_id').show()"
   ]
  },
  {
   "cell_type": "code",
   "execution_count": 237,
   "id": "8b675a19",
   "metadata": {},
   "outputs": [
    {
     "name": "stdout",
     "output_type": "stream",
     "text": [
      "+-------+------+-------+-------+\n",
      "|dept_id|salary|max_age|max(id)|\n",
      "+-------+------+-------+-------+\n",
      "|     D1| 18000|     60|      4|\n",
      "|     D2| 14000|     50|      3|\n",
      "|     D3| 30000|     90|      7|\n",
      "|     D3| 22000|     80|      6|\n",
      "|     D2| 12000|     40|      2|\n",
      "|     D1| 10000|     30|      1|\n",
      "+-------+------+-------+-------+\n",
      "\n"
     ]
    }
   ],
   "source": [
    "grouped_cemp2.max('age','id').withColumnRenamed('max(age)','max_age').show()"
   ]
  },
  {
   "cell_type": "markdown",
   "id": "877b4617",
   "metadata": {},
   "source": [
    "### Spark SQL Functions\n",
    "Variety of functions that we can import from pyspark.sql.functions. For details refer:\n",
    "http://spark.apache.org/docs/latest/api/python/pyspark.sql.html#module-pyspark.sql.functions"
   ]
  },
  {
   "cell_type": "code",
   "execution_count": 238,
   "id": "49ebec8a",
   "metadata": {},
   "outputs": [
    {
     "name": "stdout",
     "output_type": "stream",
     "text": [
      "+----------------+\n",
      "|dayofmonth(Date)|\n",
      "+----------------+\n",
      "|               4|\n",
      "|               5|\n",
      "|               6|\n",
      "|               7|\n",
      "|               8|\n",
      "|              11|\n",
      "|              12|\n",
      "|              13|\n",
      "|              14|\n",
      "|              15|\n",
      "|              19|\n",
      "|              20|\n",
      "|              21|\n",
      "|              22|\n",
      "|              25|\n",
      "|              26|\n",
      "|              27|\n",
      "|              28|\n",
      "|              29|\n",
      "|               1|\n",
      "+----------------+\n",
      "only showing top 20 rows\n",
      "\n"
     ]
    }
   ],
   "source": [
    "goog_df.select(dayofmonth(goog_df['Date'])).show()"
   ]
  },
  {
   "cell_type": "code",
   "execution_count": 239,
   "id": "039affb7",
   "metadata": {},
   "outputs": [
    {
     "name": "stdout",
     "output_type": "stream",
     "text": [
      "+----------------+\n",
      "|dayofmonth(Date)|\n",
      "+----------------+\n",
      "|               4|\n",
      "|               5|\n",
      "|               6|\n",
      "|               7|\n",
      "|               8|\n",
      "|              11|\n",
      "|              12|\n",
      "|              13|\n",
      "|              14|\n",
      "|              15|\n",
      "|              19|\n",
      "|              20|\n",
      "|              21|\n",
      "|              22|\n",
      "|              25|\n",
      "|              26|\n",
      "|              27|\n",
      "|              28|\n",
      "|              29|\n",
      "|               1|\n",
      "+----------------+\n",
      "only showing top 20 rows\n",
      "\n"
     ]
    }
   ],
   "source": [
    "goog_df.select(dayofmonth('Date')).show()"
   ]
  },
  {
   "cell_type": "code",
   "execution_count": 240,
   "id": "fe78c26a",
   "metadata": {},
   "outputs": [
    {
     "name": "stdout",
     "output_type": "stream",
     "text": [
      "+-------------------+\n",
      "|               Date|\n",
      "+-------------------+\n",
      "|2010-01-04 00:00:00|\n",
      "|2010-01-05 00:00:00|\n",
      "|2010-01-06 00:00:00|\n",
      "|2010-01-07 00:00:00|\n",
      "|2010-01-08 00:00:00|\n",
      "|2010-01-11 00:00:00|\n",
      "|2010-01-12 00:00:00|\n",
      "|2010-01-13 00:00:00|\n",
      "|2010-01-14 00:00:00|\n",
      "|2010-01-15 00:00:00|\n",
      "|2010-01-19 00:00:00|\n",
      "|2010-01-20 00:00:00|\n",
      "|2010-01-21 00:00:00|\n",
      "|2010-01-22 00:00:00|\n",
      "|2010-01-25 00:00:00|\n",
      "|2010-01-26 00:00:00|\n",
      "|2010-01-27 00:00:00|\n",
      "|2010-01-28 00:00:00|\n",
      "|2010-01-29 00:00:00|\n",
      "|2010-02-01 00:00:00|\n",
      "+-------------------+\n",
      "only showing top 20 rows\n",
      "\n"
     ]
    }
   ],
   "source": [
    "goog_df.select(\"Date\").show()"
   ]
  },
  {
   "cell_type": "code",
   "execution_count": 241,
   "id": "7bab33e1",
   "metadata": {},
   "outputs": [
    {
     "name": "stdout",
     "output_type": "stream",
     "text": [
      "+---------------+\n",
      "|dayofyear(Date)|\n",
      "+---------------+\n",
      "|              4|\n",
      "|              5|\n",
      "|              6|\n",
      "|              7|\n",
      "|              8|\n",
      "|             11|\n",
      "|             12|\n",
      "|             13|\n",
      "|             14|\n",
      "|             15|\n",
      "|             19|\n",
      "|             20|\n",
      "|             21|\n",
      "|             22|\n",
      "|             25|\n",
      "|             26|\n",
      "|             27|\n",
      "|             28|\n",
      "|             29|\n",
      "|             32|\n",
      "+---------------+\n",
      "only showing top 20 rows\n",
      "\n"
     ]
    }
   ],
   "source": [
    "goog_df.select(dayofyear('Date')).show()"
   ]
  },
  {
   "cell_type": "code",
   "execution_count": 243,
   "id": "76468f37",
   "metadata": {},
   "outputs": [
    {
     "name": "stdout",
     "output_type": "stream",
     "text": [
      "+----------+\n",
      "|year(Date)|\n",
      "+----------+\n",
      "|      2010|\n",
      "|      2010|\n",
      "|      2010|\n",
      "|      2010|\n",
      "|      2010|\n",
      "|      2010|\n",
      "|      2010|\n",
      "|      2010|\n",
      "|      2010|\n",
      "|      2010|\n",
      "|      2010|\n",
      "|      2010|\n",
      "|      2010|\n",
      "|      2010|\n",
      "|      2010|\n",
      "|      2010|\n",
      "|      2010|\n",
      "|      2010|\n",
      "|      2010|\n",
      "|      2010|\n",
      "+----------+\n",
      "only showing top 20 rows\n",
      "\n"
     ]
    }
   ],
   "source": [
    "goog_df.select(year('Date')).show()"
   ]
  },
  {
   "cell_type": "code",
   "execution_count": 244,
   "id": "35077bf4",
   "metadata": {},
   "outputs": [
    {
     "name": "stdout",
     "output_type": "stream",
     "text": [
      "+-----------+\n",
      "|month(Date)|\n",
      "+-----------+\n",
      "|          1|\n",
      "|          1|\n",
      "|          1|\n",
      "|          1|\n",
      "|          1|\n",
      "|          1|\n",
      "|          1|\n",
      "|          1|\n",
      "|          1|\n",
      "|          1|\n",
      "|          1|\n",
      "|          1|\n",
      "|          1|\n",
      "|          1|\n",
      "|          1|\n",
      "|          1|\n",
      "|          1|\n",
      "|          1|\n",
      "|          1|\n",
      "|          2|\n",
      "+-----------+\n",
      "only showing top 20 rows\n",
      "\n"
     ]
    }
   ],
   "source": [
    "goog_df.select(month('Date')).show()"
   ]
  },
  {
   "cell_type": "code",
   "execution_count": 246,
   "id": "b8cfb093",
   "metadata": {},
   "outputs": [
    {
     "name": "stdout",
     "output_type": "stream",
     "text": [
      "+----------+\n",
      "|hour(Date)|\n",
      "+----------+\n",
      "|         0|\n",
      "|         0|\n",
      "|         0|\n",
      "|         0|\n",
      "|         0|\n",
      "|         0|\n",
      "|         0|\n",
      "|         0|\n",
      "|         0|\n",
      "|         0|\n",
      "|         0|\n",
      "|         0|\n",
      "|         0|\n",
      "|         0|\n",
      "|         0|\n",
      "|         0|\n",
      "|         0|\n",
      "|         0|\n",
      "|         0|\n",
      "|         0|\n",
      "+----------+\n",
      "only showing top 20 rows\n",
      "\n"
     ]
    }
   ],
   "source": [
    "goog_df.select(hour('Date')).show()"
   ]
  },
  {
   "cell_type": "code",
   "execution_count": 249,
   "id": "2d68cfdb",
   "metadata": {},
   "outputs": [
    {
     "name": "stdout",
     "output_type": "stream",
     "text": [
      "+----------------------+\n",
      "|count(DISTINCT salary)|\n",
      "+----------------------+\n",
      "|                     6|\n",
      "+----------------------+\n",
      "\n"
     ]
    }
   ],
   "source": [
    "cemp_df.select(countDistinct(\"salary\")).show()"
   ]
  },
  {
   "cell_type": "code",
   "execution_count": 248,
   "id": "2ce077bd",
   "metadata": {},
   "outputs": [
    {
     "ename": "NameError",
     "evalue": "name 'distinct' is not defined",
     "output_type": "error",
     "traceback": [
      "\u001b[1;31m---------------------------------------------------------------------------\u001b[0m",
      "\u001b[1;31mNameError\u001b[0m                                 Traceback (most recent call last)",
      "\u001b[1;32m~\\AppData\\Local\\Temp\\ipykernel_25160\\2185925586.py\u001b[0m in \u001b[0;36m<module>\u001b[1;34m\u001b[0m\n\u001b[1;32m----> 1\u001b[1;33m \u001b[0mcemp_df\u001b[0m\u001b[1;33m.\u001b[0m\u001b[0mselect\u001b[0m\u001b[1;33m(\u001b[0m\u001b[0mdistinct\u001b[0m\u001b[1;33m(\u001b[0m\u001b[1;34m\"salary\"\u001b[0m\u001b[1;33m)\u001b[0m\u001b[1;33m)\u001b[0m\u001b[1;33m.\u001b[0m\u001b[0mshow\u001b[0m\u001b[1;33m(\u001b[0m\u001b[1;33m)\u001b[0m\u001b[1;33m\u001b[0m\u001b[1;33m\u001b[0m\u001b[0m\n\u001b[0m",
      "\u001b[1;31mNameError\u001b[0m: name 'distinct' is not defined"
     ]
    }
   ],
   "source": [
    "cemp_df.select(distinct(\"salary\")).show()"
   ]
  },
  {
   "cell_type": "code",
   "execution_count": 255,
   "id": "7fd9131e",
   "metadata": {},
   "outputs": [
    {
     "name": "stdout",
     "output_type": "stream",
     "text": [
      "+------+\n",
      "|salary|\n",
      "+------+\n",
      "| 12000|\n",
      "| 30000|\n",
      "| 10000|\n",
      "| 22000|\n",
      "| 18000|\n",
      "| 14000|\n",
      "+------+\n",
      "\n"
     ]
    }
   ],
   "source": [
    "spark.sql(\"select distinct salary from cemp\").show()"
   ]
  },
  {
   "cell_type": "code",
   "execution_count": 257,
   "id": "d970cae8",
   "metadata": {},
   "outputs": [
    {
     "name": "stdout",
     "output_type": "stream",
     "text": [
      "+-----------------+\n",
      "|distinct salaries|\n",
      "+-----------------+\n",
      "|                6|\n",
      "+-----------------+\n",
      "\n"
     ]
    }
   ],
   "source": [
    "cemp_df.select(countDistinct(\"salary\").alias(\"distinct salaries\")).show()"
   ]
  },
  {
   "cell_type": "code",
   "execution_count": 258,
   "id": "1341b8a6",
   "metadata": {},
   "outputs": [
    {
     "name": "stdout",
     "output_type": "stream",
     "text": [
      "+------------------+\n",
      "|       avg(salary)|\n",
      "+------------------+\n",
      "|18285.714285714286|\n",
      "+------------------+\n",
      "\n"
     ]
    }
   ],
   "source": [
    "cemp_df.select(avg('salary')).show()"
   ]
  },
  {
   "cell_type": "code",
   "execution_count": 259,
   "id": "ea46d75a",
   "metadata": {},
   "outputs": [
    {
     "name": "stdout",
     "output_type": "stream",
     "text": [
      "+-------------------+\n",
      "|stddev_samp(salary)|\n",
      "+-------------------+\n",
      "|  6969.320524371697|\n",
      "+-------------------+\n",
      "\n"
     ]
    }
   ],
   "source": [
    "from pyspark.sql.functions import stddev\n",
    "cemp_df.select(stddev(\"salary\")).show()"
   ]
  },
  {
   "cell_type": "markdown",
   "id": "6bd2e316",
   "metadata": {},
   "source": [
    "### Order By"
   ]
  },
  {
   "cell_type": "code",
   "execution_count": 261,
   "id": "631c5bc1",
   "metadata": {},
   "outputs": [
    {
     "name": "stdout",
     "output_type": "stream",
     "text": [
      "+---+------+---+------+-------+\n",
      "| id|  name|age|salary|dept_id|\n",
      "+---+------+---+------+-------+\n",
      "|  1|  Bill| 30| 10000|     D1|\n",
      "|  2| Steve| 40| 12000|     D2|\n",
      "|  3|Donald| 50| 14000|     D2|\n",
      "|  4|  Modi| 60| 18000|     D1|\n",
      "|  5|Sundar| 70| 22000|     D3|\n",
      "|  6|  Jeff| 80| 22000|     D3|\n",
      "|  7|Sergey| 90| 30000|     D3|\n",
      "+---+------+---+------+-------+\n",
      "\n"
     ]
    }
   ],
   "source": [
    "cemp_df.orderBy(\"salary\").show()"
   ]
  },
  {
   "cell_type": "code",
   "execution_count": 263,
   "id": "868f3d0a",
   "metadata": {},
   "outputs": [
    {
     "name": "stdout",
     "output_type": "stream",
     "text": [
      "+---+------+---+------+-------+\n",
      "| id|  name|age|salary|dept_id|\n",
      "+---+------+---+------+-------+\n",
      "|  7|Sergey| 90| 30000|     D3|\n",
      "|  5|Sundar| 70| 22000|     D3|\n",
      "|  6|  Jeff| 80| 22000|     D3|\n",
      "|  4|  Modi| 60| 18000|     D1|\n",
      "|  3|Donald| 50| 14000|     D2|\n",
      "|  2| Steve| 40| 12000|     D2|\n",
      "|  1|  Bill| 30| 10000|     D1|\n",
      "+---+------+---+------+-------+\n",
      "\n"
     ]
    }
   ],
   "source": [
    "cemp_df.orderBy(cemp_df[\"salary\"].desc()).show()"
   ]
  },
  {
   "cell_type": "code",
   "execution_count": 265,
   "id": "72b20621",
   "metadata": {},
   "outputs": [
    {
     "name": "stdout",
     "output_type": "stream",
     "text": [
      "+---+------+---+------+-------+\n",
      "| id|  name|age|salary|dept_id|\n",
      "+---+------+---+------+-------+\n",
      "|  7|Sergey| 90| 30000|     D3|\n",
      "|  6|  Jeff| 80| 22000|     D3|\n",
      "|  5|Sundar| 70| 22000|     D3|\n",
      "|  4|  Modi| 60| 18000|     D1|\n",
      "|  3|Donald| 50| 14000|     D2|\n",
      "|  2| Steve| 40| 12000|     D2|\n",
      "|  1|  Bill| 30| 10000|     D1|\n",
      "+---+------+---+------+-------+\n",
      "\n"
     ]
    }
   ],
   "source": [
    "cemp_df.orderBy(cemp_df.salary.desc(), cemp_df.name.asc()).show()"
   ]
  },
  {
   "cell_type": "markdown",
   "id": "71367462",
   "metadata": {},
   "source": [
    "### Saving DF as Parquet"
   ]
  },
  {
   "cell_type": "code",
   "execution_count": 267,
   "id": "50c16bc2",
   "metadata": {},
   "outputs": [],
   "source": [
    "emp_json_df.write.mode('overwrite').parquet(get_hdfs_filepath('emp.parquet'))"
   ]
  },
  {
   "cell_type": "code",
   "execution_count": 268,
   "id": "536ba7bc",
   "metadata": {},
   "outputs": [
    {
     "name": "stdout",
     "output_type": "stream",
     "text": [
      "+---+---+------+------+-------+\n",
      "|age| id|  name|salary| newsal|\n",
      "+---+---+------+------+-------+\n",
      "| 30|  1|  Bill| 10000|10500.0|\n",
      "| 40|  2| Steve| 12000|12600.0|\n",
      "| 50|  3|Donald| 14000|14700.0|\n",
      "| 60|  4|  Modi| 18000|18900.0|\n",
      "| 70|  5|Sunder| 22000|23100.0|\n",
      "| 80|  6|  Jeff| 26000|27300.0|\n",
      "| 90|  7|Sergey| 30000|31500.0|\n",
      "+---+---+------+------+-------+\n",
      "\n"
     ]
    }
   ],
   "source": [
    "emp_json_df.show()"
   ]
  },
  {
   "cell_type": "code",
   "execution_count": 270,
   "id": "956417e0",
   "metadata": {},
   "outputs": [
    {
     "data": {
      "text/plain": [
       "[Row(age=30, id=1, name='Bill', salary=10000, newsal=10500.0),\n",
       " Row(age=40, id=2, name='Steve', salary=12000, newsal=12600.0),\n",
       " Row(age=50, id=3, name='Donald', salary=14000, newsal=14700.0)]"
      ]
     },
     "execution_count": 270,
     "metadata": {},
     "output_type": "execute_result"
    }
   ],
   "source": [
    "pemp_df = spark.read.parquet(get_hdfs_filepath('emp.parquet'))\n",
    "pemp_df.head(3)"
   ]
  },
  {
   "cell_type": "code",
   "execution_count": 271,
   "id": "4984bd43",
   "metadata": {},
   "outputs": [
    {
     "name": "stderr",
     "output_type": "stream",
     "text": [
      "C:\\ProgramData\\Anaconda3\\envs\\Py310\\lib\\site-packages\\pyspark\\sql\\context.py:77: FutureWarning: Deprecated in 3.0.0. Use SparkSession.builder.getOrCreate() instead.\n",
      "  warnings.warn(\n"
     ]
    }
   ],
   "source": [
    "from pyspark.sql import SQLContext\n",
    "sc = spark.sparkContext\n",
    "sql_ctx = SQLContext(sc)"
   ]
  },
  {
   "cell_type": "code",
   "execution_count": 273,
   "id": "51ae76ff",
   "metadata": {},
   "outputs": [
    {
     "name": "stderr",
     "output_type": "stream",
     "text": [
      "C:\\ProgramData\\Anaconda3\\envs\\Py310\\lib\\site-packages\\pyspark\\sql\\context.py:232: FutureWarning: Deprecated in 2.3.0. Use spark.udf.register instead.\n",
      "  warnings.warn(\n"
     ]
    },
    {
     "data": {
      "text/plain": [
       "<function __main__.<lambda>(val)>"
      ]
     },
     "execution_count": 273,
     "metadata": {},
     "output_type": "execute_result"
    }
   ],
   "source": [
    "sql_ctx.registerFunction('ucase',lambda val: val.upper())"
   ]
  },
  {
   "cell_type": "code",
   "execution_count": 275,
   "id": "9b4ffb12",
   "metadata": {},
   "outputs": [
    {
     "name": "stdout",
     "output_type": "stream",
     "text": [
      "+---+---+------+------+-------+\n",
      "|age| id|  name|salary| newsal|\n",
      "+---+---+------+------+-------+\n",
      "| 60|  4|  Modi| 18000|18900.0|\n",
      "| 70|  5|Sunder| 22000|23100.0|\n",
      "| 80|  6|  Jeff| 26000|27300.0|\n",
      "| 90|  7|Sergey| 30000|31500.0|\n",
      "+---+---+------+------+-------+\n",
      "\n"
     ]
    }
   ],
   "source": [
    "spark.sql(\"select * from emp where salary>=18000\").show()"
   ]
  },
  {
   "cell_type": "code",
   "execution_count": 279,
   "id": "3c9621fb",
   "metadata": {},
   "outputs": [
    {
     "name": "stdout",
     "output_type": "stream",
     "text": [
      "+------+---+\n",
      "| uname|age|\n",
      "+------+---+\n",
      "|  MODI| 60|\n",
      "|SUNDER| 70|\n",
      "|  JEFF| 80|\n",
      "|SERGEY| 90|\n",
      "+------+---+\n",
      "\n"
     ]
    }
   ],
   "source": [
    "spark.sql('select ucase(name) uname, age from emp where salary>=18000').show()"
   ]
  },
  {
   "cell_type": "code",
   "execution_count": null,
   "id": "5eb92926",
   "metadata": {},
   "outputs": [],
   "source": []
  }
 ],
 "metadata": {
  "kernelspec": {
   "display_name": "Python 3 (ipykernel)",
   "language": "python",
   "name": "python3"
  },
  "language_info": {
   "codemirror_mode": {
    "name": "ipython",
    "version": 3
   },
   "file_extension": ".py",
   "mimetype": "text/x-python",
   "name": "python",
   "nbconvert_exporter": "python",
   "pygments_lexer": "ipython3",
   "version": "3.10.6"
  }
 },
 "nbformat": 4,
 "nbformat_minor": 5
}
